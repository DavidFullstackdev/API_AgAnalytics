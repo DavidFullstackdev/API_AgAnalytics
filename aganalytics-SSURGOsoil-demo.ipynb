{
 "cells": [
  {
   "cell_type": "markdown",
   "metadata": {},
   "source": [
    "# Ag Analytics-SSURGO Soil- Demo\n"
   ]
  },
  {
   "cell_type": "markdown",
   "metadata": {},
   "source": [
    "The SURGGO Soils API provides soil type and average of the soil type attribute (e.g., NCCPI) by field for a shape entered.\n",
    "\n"
   ]
  },
  {
   "cell_type": "code",
   "execution_count": null,
   "metadata": {},
   "outputs": [],
   "source": [
    "import requests\n",
    "import json\n",
    "import time\n",
    "from pandas.io.json import json_normalize\n",
    "import pandas as pd\n",
    "from collections import defaultdict\n",
    "import math\n",
    "import requests, zipfile, io\n",
    "import geopandas as gpd\n",
    "%matplotlib inline\n",
    "%autosave 0"
   ]
  },
  {
   "cell_type": "markdown",
   "metadata": {},
   "source": [
    "### API details\n",
    "\n",
    "####Request URL:\n",
    "https://ag-analytics.azure-api.net/ssurgosoil/get[?inputShape][&inputFields]\n",
    "\n",
    "####Parameters:\n",
    "\n",
    "***inputShape (optional) - ***\n",
    "ESRI Polygon shape.\n",
    "\n",
    "The inputShape should have the Albers (“wkid”: 5070) spatial reference. The shape information for field is esriGeometryPolygon format. Standard open source JavaScript front-end libraries (e.g., Leaflet) can be used to structure the shape. See example request below, in which \"spatialReference\": {\"wkid\": 5070} is required\n",
    "\n",
    "***inputFields (optional) - ***\n",
    "The metrics to return with the format “TableName_SoilTypeName”.\n",
    "\n",
    "\n",
    "In order to get Ocp-Apim-Subscription-Key, please click on this link https://analytics.ag/Session/SignInToAPIPayment"
   ]
  },
  {
   "cell_type": "markdown",
   "metadata": {},
   "source": [
    "### Request Parameters"
   ]
  },
  {
   "cell_type": "code",
   "execution_count": null,
   "metadata": {},
   "outputs": [],
   "source": [
    "inputShape={\"geometryType\":\"esriGeometryPolygon\",\"features\":[{\"geometry\":{\"rings\":[[[-89.045774,43.730605],[-89.04577,43.730488],[-89.045722,43.729998],[-89.045789,43.729653],[-89.045661,43.72961],[-89.045635,43.729782],[-89.045644,43.730045],[-89.045653,43.730308],[-89.045651,43.730607],[-89.041228,43.730676],[-89.041171,43.728908],[-89.041111,43.727076],[-89.042892,43.727044],[-89.044665,43.727018],[-89.046178,43.726999],[-89.046237,43.730597],[-89.045774,43.730605]]],\"spatialReference\":{\"wkid\":4326}}}]}\n",
    "inputFields=\"nccpi2all\"\n",
    "\n",
    "headers={'Ocp-Apim-Subscription-Key': 'xxxxxxxxxxxxxxxxxxxxxxxxxxxxxxxxxxx'}\n",
    "           "
   ]
  },
  {
   "cell_type": "markdown",
   "metadata": {},
   "source": [
    "###  API Function"
   ]
  },
  {
   "cell_type": "code",
   "execution_count": 11,
   "metadata": {},
   "outputs": [],
   "source": [
    "def get_SSURGO_Soil_type(inputShape,inputFields,headers):\n",
    "    try:\n",
    "        url = \"https://ag-analytics.azure-api.net/ssurgosoil/get?inputShape={}&inputFields={}\".format(inputShape,inputFields)\n",
    "     \n",
    "        response = (requests.get(url,headers=headers).text)\n",
    "        \n",
    "        response_json = json.loads(response)\n",
    "        print(response_json)\n",
    "        time.sleep(0.5)\n",
    "        return response_json\n",
    "    \n",
    "    except Exception as e:\n",
    "        raise e"
   ]
  },
  {
   "cell_type": "markdown",
   "metadata": {},
   "source": [
    "### Calling API Function and print output"
   ]
  },
  {
   "cell_type": "code",
   "execution_count": 17,
   "metadata": {},
   "outputs": [
    {
     "name": "stdout",
     "output_type": "stream",
     "text": [
      "{'results': [{'paramName': 'output1', 'dataType': 'GPRecordSet', 'value': {'displayFieldName': '', 'fields': [{'name': 'FID', 'type': 'esriFieldTypeOID', 'alias': 'FID'}, {'name': 'intersect_FID_inputShapeProjected', 'type': 'esriFieldTypeInteger', 'alias': 'intersect.FID_inputShapeProjected'}, {'name': 'FREQUENCY', 'type': 'esriFieldTypeInteger', 'alias': 'FREQUENCY'}, {'name': 'SUM_wa_nccpi2all', 'type': 'esriFieldTypeDouble', 'alias': 'SUM_wa_nccpi2all'}], 'features': [{'attributes': {'FID': 1, 'intersect_FID_inputShapeProjected': 0, 'FREQUENCY': 6, 'SUM_wa_nccpi2all': 0.905820954750007}}], 'exceededTransferLimit': False}}, {'paramName': 'output2', 'dataType': 'GPFeatureRecordSetLayer', 'value': {'displayFieldName': '', 'geometryType': 'esriGeometryPolygon', 'spatialReference': {'wkid': 5070, 'latestWkid': 5070}, 'fields': [{'name': 'FID', 'type': 'esriFieldTypeOID', 'alias': 'FID'}, {'name': 'FID_inputShapeProjected', 'type': 'esriFieldTypeInteger', 'alias': 'FID_inputShapeProjected'}, {'name': 'OBJECTID', 'type': 'esriFieldTypeInteger', 'alias': 'OBJECTID'}, {'name': 'Shape_Leng', 'type': 'esriFieldTypeDouble', 'alias': 'Shape_Leng'}, {'name': 'FID_soilmu_a_il107', 'type': 'esriFieldTypeInteger', 'alias': 'FID_soilmu_a_il107'}, {'name': 'AREASYMBOL', 'type': 'esriFieldTypeString', 'alias': 'AREASYMBOL', 'length': 20}, {'name': 'SPATIALVER', 'type': 'esriFieldTypeInteger', 'alias': 'SPATIALVER'}, {'name': 'MUSYM', 'type': 'esriFieldTypeString', 'alias': 'MUSYM', 'length': 6}, {'name': 'MUKEY', 'type': 'esriFieldTypeString', 'alias': 'MUKEY', 'length': 30}, {'name': 'Shape_Area1', 'type': 'esriFieldTypeSingle', 'alias': 'Shape_Area1'}, {'name': 'Shape_Length', 'type': 'esriFieldTypeDouble', 'alias': 'Shape_Length'}, {'name': 'Shape_Area', 'type': 'esriFieldTypeDouble', 'alias': 'Shape_Area'}], 'features': [{'attributes': {'FID': 1, 'FID_inputShapeProjected': 0, 'OBJECTID': 1, 'Shape_Leng': 0, 'FID_soilmu_a_il107': 524, 'AREASYMBOL': 'IL107', 'SPATIALVER': 3, 'MUSYM': '43A', 'MUKEY': '1595752', 'Shape_Area1': 15223.83, 'Shape_Length': 546.491404591362, 'Shape_Area': 15223.825654695422}, 'geometry': {'rings': [[[563512.9565999992, 1936313.8019999992], [563509.9213999994, 1936306.7554000001], [563463.2688000016, 1936263.4583], [563449.4188000001, 1936210.2928], [563433.9034000002, 1936193.6099999994], [563421.9853999987, 1936194.2383999992], [563406.2677999996, 1936205.3493000008], [563377.2758999988, 1936208.9915999994], [563358.1750000007, 1936224.6840000004], [563352.624400001, 1936243.9296000004], [563355.8148999996, 1936265.203400001], [563368.1488000005, 1936308.5282000005], [563376.0789999999, 1936321.456700001], [563395.1004999988, 1936333.6230999995], [563438.6834999993, 1936326.3969], [563455.3344999999, 1936331.1855999995], [563472.1338, 1936347.9400999993], [563485.9250000007, 1936371.7874999996], [563492.3412000015, 1936375.1426], [563495.8443999998, 1936335.6561999992], [563510.6165000014, 1936314.3482000008], [563512.9565999992, 1936313.8019999992]]]}}, {'attributes': {'FID': 2, 'FID_inputShapeProjected': 0, 'OBJECTID': 1, 'Shape_Leng': 0, 'FID_soilmu_a_il107': 546, 'AREASYMBOL': 'IL107', 'SPATIALVER': 3, 'MUSYM': '705B', 'MUKEY': '1595742', 'Shape_Area1': 1134.54, 'Shape_Length': 134.11222508051497, 'Shape_Area': 1134.5395896101234}, 'geometry': {'rings': [[[563222.0760999992, 1936349.9636000004], [563218.8770000003, 1936389.1864999998], [563249.8341000006, 1936395.4365999997], [563253.1763999984, 1936378.3698999994], [563245.2410999984, 1936359.6800999995], [563235.9715999998, 1936353.4915999994], [563222.0760999992, 1936349.9636000004]]]}}, {'attributes': {'FID': 3, 'FID_inputShapeProjected': 0, 'OBJECTID': 1, 'Shape_Leng': 0, 'FID_soilmu_a_il107': 551, 'AREASYMBOL': 'IL107', 'SPATIALVER': 3, 'MUSYM': '43A', 'MUKEY': '1595752', 'Shape_Area1': 6326.561, 'Shape_Length': 431.2167045868459, 'Shape_Area': 6326.560448941447}, 'geometry': {'rings': [[[563287.4604999982, 1936309.0731000006], [563280.2124999985, 1936311.5933999997], [563267.5370000005, 1936308.4973000009], [563259.5491999984, 1936298.5961000007], [563235.0714999996, 1936250.047700001], [563230.8242999986, 1936242.7040999997], [563222.0760999992, 1936349.9636000004], [563235.9715999998, 1936353.4915999994], [563245.2410999984, 1936359.6800999995], [563253.1763999984, 1936378.3698999994], [563249.8341000006, 1936395.4365999997], [563282.2912000008, 1936396.2930999994], [563309.7347999997, 1936407.1701999996], [563291.6259000003, 1936366.9780000001], [563287.4604999982, 1936309.0731000006]]]}}, {'attributes': {'FID': 4, 'FID_inputShapeProjected': 0, 'OBJECTID': 1, 'Shape_Leng': 0, 'FID_soilmu_a_il107': 566, 'AREASYMBOL': 'IL107', 'SPATIALVER': 3, 'MUSYM': '749B', 'MUKEY': '1612280', 'Shape_Area1': 108996.5, 'Shape_Length': 2936.4710539462753, 'Shape_Area': 108996.45204857511}, 'geometry': {'rings': [[[563402.6642999984, 1936423.3034000006], [563386.8420999981, 1936402.1371999998], [563384.2958000004, 1936387.4042000007], [563388.2952999994, 1936377.5004999992], [563393.745000001, 1936372.9519999996], [563403.6037999988, 1936375.0023999996], [563417.1682000011, 1936390.8133000005], [563427.8847000003, 1936393.9598999992], [563436.5903000012, 1936387.6450999994], [563441.8377999999, 1936374.9112999998], [563451.251600001, 1936370.8115999997], [563459.8924000002, 1936385.9177], [563453.6928000003, 1936413.9662999995], [563456.5958000012, 1936423.4340000004], [563464.4395999983, 1936433.363], [563486.5795999989, 1936440.0842000004], [563492.3412000015, 1936375.1426], [563485.9250000007, 1936371.7874999996], [563472.1338, 1936347.9400999993], [563455.3344999999, 1936331.1855999995], [563438.6834999993, 1936326.3969], [563395.1004999988, 1936333.6230999995], [563376.0789999999, 1936321.456700001], [563368.1488000005, 1936308.5282000005], [563355.8148999996, 1936265.203400001], [563352.624400001, 1936243.9296000004], [563358.1750000007, 1936224.6840000004], [563377.2758999988, 1936208.9915999994], [563406.2677999996, 1936205.3493000008], [563421.9853999987, 1936194.2383999992], [563433.9034000002, 1936193.6099999994], [563449.4188000001, 1936210.2928], [563463.2688000016, 1936263.4583], [563509.9213999994, 1936306.7554000001], [563512.9565999992, 1936313.8019999992], [563565.6281000003, 1936301.5073000006], [563588.868999999, 1936279.2610999998], [563590.1405000016, 1936276.3223], [563585.3539000005, 1936279.298800001], [563556.7613000013, 1936279.6412000004], [563546.3139000013, 1936276.7707000002], [563545.6647999994, 1936276.3880000003], [563535.8557999991, 1936268.0592999998], [563524.8770000003, 1936255.9419999998], [563525.3522999994, 1936248.0015999991], [563524.2529999986, 1936232.4254], [563528.2098999992, 1936208.6701999996], [563535.1057999991, 1936112.2261999995], [563522.622200001, 1936119.3778000008], [563503.2653999999, 1936114.1722999997], [563493.9968999997, 1936106.1575000007], [563485.4794999994, 1936088.2923000008], [563477.1765000001, 1936046.0798000004], [563482.7434, 1935998.6697000004], [563501.7309000008, 1935957.6656], [563517.1860999987, 1935942.8462000005], [563534.3597999997, 1935941.4398999996], [563545.5958000012, 1935949.6877999995], [563546.3696999997, 1935951.7365000006], [563546.0918000005, 1935931.0669999998], [563525.4008000009, 1935918.8265000004], [563523.4792999998, 1935916.1078999992], [563520.2303999998, 1935911.8356999997], [563518.502799999, 1935896.7767999992], [563513.3504999988, 1935884.7334000003], [563509.9543999992, 1935881.3493000008], [563504.1638000011, 1935874.7640000004], [563495.4323000014, 1935873.9239000008], [563283.0749000013, 1935858.7313], [563278.0284000002, 1935858.3757000007], [563271.6884999983, 1935854.7841999996], [563267.9899000004, 1935849.6942999996], [563263.7914000005, 1935838.5044999998], [563235.3682000004, 1936186.9931000005], [563243.5302999988, 1936190.7356000002], [563264.2635000013, 1936213.0007000007], [563288.3381999992, 1936265.4557000007], [563290.4499000013, 1936286.5592], [563287.4604999982, 1936309.0731000006], [563291.6259000003, 1936366.9780000001], [563309.7347999997, 1936407.1701999996], [563358.6132999994, 1936442.6028000005], [563388.7619999982, 1936441.4331999999], [563402.6642999984, 1936423.3034000006]], [[563353.3986999989, 1935957.5270000007], [563338.1972999983, 1935986.8429000005], [563328.7186999992, 1936022.4174000006], [563319.4463, 1936041.1936000008], [563294.0328000002, 1936065.0264999997], [563274.6944000013, 1936060.7642], [563270.3484999985, 1936053.2660000008], [563270.4904999994, 1936038.3836000003], [563299.8095999993, 1935973.4058999997], [563313.8850000016, 1935909.8014000002], [563323.5868000016, 1935892.3732999992], [563345.2529000007, 1935880.702299999], [563358.1983000003, 1935876.3619], [563379.6561999992, 1935882.5247000009], [563393.9932000004, 1935900.2539000008], [563420.4365000017, 1935917.1042999998], [563426.9224999994, 1935933.0375999995], [563426.0736000016, 1935941.8642999995], [563414.9519999996, 1935953.2992000002], [563372.1394999996, 1935950.1686000004], [563353.3986999989, 1935957.5270000007]]]}}, {'attributes': {'FID': 5, 'FID_inputShapeProjected': 0, 'OBJECTID': 1, 'Shape_Leng': 0, 'FID_soilmu_a_il107': 993, 'AREASYMBOL': 'IL107', 'SPATIALVER': 3, 'MUSYM': '43A', 'MUKEY': '1595752', 'Shape_Area1': 3767.69, 'Shape_Length': 338.6519167670326, 'Shape_Area': 3767.6898009257193}, 'geometry': {'rings': [[[563483.618999999, 1936473.4542999994], [563475.5868999995, 1936469.1864], [563448.5691, 1936461.5205000006], [563402.6642999984, 1936423.3034000006], [563388.7619999982, 1936441.4331999999], [563358.6132999994, 1936442.6028000005], [563374.1198999994, 1936458.3999000005], [563396.8057999983, 1936471.8413999993], [563446.5023000017, 1936482.8003000002], [563479.867899999, 1936515.734099999], [563483.618999999, 1936473.4542999994]]]}}, {'attributes': {'FID': 6, 'FID_inputShapeProjected': 0, 'OBJECTID': 1, 'Shape_Leng': 0, 'FID_soilmu_a_il107': 1375, 'AREASYMBOL': 'IL107', 'SPATIALVER': 3, 'MUSYM': '68A', 'MUKEY': '1595762', 'Shape_Area1': 4210.069, 'Shape_Length': 293.23194927029346, 'Shape_Area': 4210.068982244265}, 'geometry': {'rings': [[[563287.4604999982, 1936309.0731000006], [563290.4499000013, 1936286.5592], [563288.3381999992, 1936265.4557000007], [563264.2635000013, 1936213.0007000007], [563243.5302999988, 1936190.7356000002], [563235.3682000004, 1936186.9931000005], [563230.8242999986, 1936242.7040999997], [563235.0714999996, 1936250.047700001], [563259.5491999984, 1936298.5961000007], [563267.5370000005, 1936308.4973000009], [563280.2124999985, 1936311.5933999997], [563287.4604999982, 1936309.0731000006]]]}}, {'attributes': {'FID': 7, 'FID_inputShapeProjected': 0, 'OBJECTID': 1, 'Shape_Leng': 0, 'FID_soilmu_a_il107': 3963, 'AREASYMBOL': 'IL107', 'SPATIALVER': 3, 'MUSYM': '43A', 'MUKEY': '1595752', 'Shape_Area1': 9369.749, 'Shape_Length': 524.7463843305684, 'Shape_Area': 9369.748904685363}, 'geometry': {'rings': [[[563212.686999999, 1936465.0801], [563204.1607000008, 1936569.6194000002], [563217.3619000018, 1936593.8465999998], [563217.5533000007, 1936594.0589000005], [563336.4708999991, 1936603.7302], [563314.2870000005, 1936545.4195000008], [563293.2327000014, 1936525.9178999998], [563279.5150999986, 1936523.5391000006], [563253.8729999997, 1936550.8388], [563239.1851999983, 1936548.3540000003], [563232.867800001, 1936532.2445999999], [563245.9398000017, 1936498.7496000007], [563247.6578000002, 1936478.5936999992], [563234.3942000009, 1936463.5385999996], [563212.686999999, 1936465.0801]]]}}, {'attributes': {'FID': 8, 'FID_inputShapeProjected': 0, 'OBJECTID': 1, 'Shape_Leng': 0, 'FID_soilmu_a_il107': 4692, 'AREASYMBOL': 'IL107', 'SPATIALVER': 3, 'MUSYM': '171C2', 'MUKEY': '1596009', 'Shape_Area1': 622.1296, 'Shape_Length': 205.6916395007088, 'Shape_Area': 622.1296578842762}, 'geometry': {'rings': [[[563632.5808999985, 1936229.8988000005], [563631.8702999987, 1936229.0840000007], [563625.8376999982, 1936238.5775000006], [563610.7785999998, 1936257.9559000004], [563601.0887999982, 1936269.5143], [563590.1405000016, 1936276.3223], [563588.868999999, 1936279.2610999998], [563565.6281000003, 1936301.5073000006], [563566.0452000014, 1936301.4099000003], [563603.6777999997, 1936274.7508000005], [563630.7269000001, 1936255.5440999996], [563630.8737000003, 1936243.8741999995], [563632.5808999985, 1936229.8988000005]]]}}, {'attributes': {'FID': 9, 'FID_inputShapeProjected': 0, 'OBJECTID': 1, 'Shape_Leng': 0, 'FID_soilmu_a_il107': 5062, 'AREASYMBOL': 'IL107', 'SPATIALVER': 3, 'MUSYM': '68A', 'MUKEY': '1595762', 'Shape_Area1': 32104.14, 'Shape_Length': 1541.1711490380396, 'Shape_Area': 32104.14110190144}, 'geometry': {'rings': [[[563423.6688000001, 1936610.8219000008], [563460.6180999987, 1936613.8268999998], [563448.012600001, 1936598.2425999995], [563436.435800001, 1936594.0374999996], [563428.1572000012, 1936597.3135000002], [563423.6688000001, 1936610.8219000008]], [[563473.9477000013, 1936582.4627999999], [563479.867899999, 1936515.734099999], [563446.5023000017, 1936482.8003000002], [563396.8057999983, 1936471.8413999993], [563374.1198999994, 1936458.3999000005], [563358.6132999994, 1936442.6028000005], [563309.7347999997, 1936407.1701999996], [563282.2912000008, 1936396.2930999994], [563249.8341000006, 1936395.4365999997], [563218.8770000003, 1936389.1864999998], [563212.686999999, 1936465.0801], [563234.3942000009, 1936463.5385999996], [563247.6578000002, 1936478.5936999992], [563245.9398000017, 1936498.7496000007], [563232.867800001, 1936532.2445999999], [563239.1851999983, 1936548.3540000003], [563253.8729999997, 1936550.8388], [563279.5150999986, 1936523.5391000006], [563293.2327000014, 1936525.9178999998], [563314.2870000005, 1936545.4195000008], [563336.4708999991, 1936603.7302], [563365.8112000003, 1936606.1163999997], [563353.9160999991, 1936578.9952000007], [563346.9765999988, 1936527.0888], [563354.0214000009, 1936504.3336999994], [563369.9195000008, 1936493.6685000006], [563383.6229000017, 1936496.0464999992], [563395.5311999992, 1936507.4102999996], [563403.7807999998, 1936547.9622000009], [563414.4189000018, 1936562.2676999997], [563468.7424000017, 1936576.9231000002], [563473.9477000013, 1936582.4627999999]], [[563204.1607000008, 1936569.6194000002], [563202.2688000016, 1936592.8158], [563217.5533000007, 1936594.0589000005], [563217.3619000018, 1936593.8465999998], [563204.1607000008, 1936569.6194000002]], [[563486.5795999989, 1936440.0842000004], [563464.4395999983, 1936433.363], [563456.5958000012, 1936423.4340000004], [563453.6928000003, 1936413.9662999995], [563459.8924000002, 1936385.9177], [563451.251600001, 1936370.8115999997], [563441.8377999999, 1936374.9112999998], [563436.5903000012, 1936387.6450999994], [563427.8847000003, 1936393.9598999992], [563417.1682000011, 1936390.8133000005], [563403.6037999988, 1936375.0023999996], [563393.745000001, 1936372.9519999996], [563388.2952999994, 1936377.5004999992], [563384.2958000004, 1936387.4042000007], [563386.8420999981, 1936402.1371999998], [563402.6642999984, 1936423.3034000006], [563448.5691, 1936461.5205000006], [563475.5868999995, 1936469.1864], [563483.618999999, 1936473.4542999994], [563486.5795999989, 1936440.0842000004]]]}}, {'attributes': {'FID': 10, 'FID_inputShapeProjected': 0, 'OBJECTID': 1, 'Shape_Leng': 0, 'FID_soilmu_a_il107': 6871, 'AREASYMBOL': 'IL107', 'SPATIALVER': 3, 'MUSYM': '705B', 'MUKEY': '1595742', 'Shape_Area1': 7873.263, 'Shape_Length': 434.149478147584, 'Shape_Area': 7873.263015781689}, 'geometry': {'rings': [[[563473.9477000013, 1936582.4627999999], [563468.7424000017, 1936576.9231000002], [563414.4189000018, 1936562.2676999997], [563403.7807999998, 1936547.9622000009], [563395.5311999992, 1936507.4102999996], [563383.6229000017, 1936496.0464999992], [563369.9195000008, 1936493.6685000006], [563354.0214000009, 1936504.3336999994], [563346.9765999988, 1936527.0888], [563353.9160999991, 1936578.9952000007], [563365.8112000003, 1936606.1163999997], [563423.6688000001, 1936610.8219000008], [563428.1572000012, 1936597.3135000002], [563436.435800001, 1936594.0374999996], [563448.012600001, 1936598.2425999995], [563460.6180999987, 1936613.8268999998], [563461.1851999983, 1936613.8729999997], [563471.1484999992, 1936614.0139000006], [563473.9477000013, 1936582.4627999999]]]}}, {'attributes': {'FID': 11, 'FID_inputShapeProjected': 0, 'OBJECTID': 1, 'Shape_Leng': 0, 'FID_soilmu_a_il107': 7875, 'AREASYMBOL': 'IL107', 'SPATIALVER': 3, 'MUSYM': '622C2', 'MUKEY': '1596046', 'Shape_Area1': 0.9693159, 'Shape_Length': 5.3618195072284545, 'Shape_Area': 0.9693159205306898}, 'geometry': {'rings': [[[563631.8702999987, 1936229.0840000007], [563632.5808999985, 1936229.8988000005], [563632.8731999993, 1936227.5057999995], [563631.8702999987, 1936229.0840000007]]]}}, {'attributes': {'FID': 12, 'FID_inputShapeProjected': 0, 'OBJECTID': 1, 'Shape_Leng': 0, 'FID_soilmu_a_il107': 7928, 'AREASYMBOL': 'IL107', 'SPATIALVER': 3, 'MUSYM': '43A', 'MUKEY': '1595752', 'Shape_Area1': 9192.161, 'Shape_Length': 418.08543258087803, 'Shape_Area': 9192.16111072111}, 'geometry': {'rings': [[[563535.1057999991, 1936112.2261999995], [563546.4032000005, 1935954.2247000001], [563546.3696999997, 1935951.7365000006], [563545.5958000012, 1935949.6877999995], [563534.3597999997, 1935941.4398999996], [563517.1860999987, 1935942.8462000005], [563501.7309000008, 1935957.6656], [563482.7434, 1935998.6697000004], [563477.1765000001, 1936046.0798000004], [563485.4794999994, 1936088.2923000008], [563493.9968999997, 1936106.1575000007], [563503.2653999999, 1936114.1722999997], [563522.622200001, 1936119.3778000008], [563535.1057999991, 1936112.2261999995]]]}}, {'attributes': {'FID': 13, 'FID_inputShapeProjected': 0, 'OBJECTID': 1, 'Shape_Leng': 0, 'FID_soilmu_a_il107': 7946, 'AREASYMBOL': 'IL107', 'SPATIALVER': 3, 'MUSYM': '68A', 'MUKEY': '1595762', 'Shape_Area1': 11840.21, 'Shape_Length': 545.1751445925601, 'Shape_Area': 11840.210080753603}, 'geometry': {'rings': [[[563353.3986999989, 1935957.5270000007], [563372.1394999996, 1935950.1686000004], [563414.9519999996, 1935953.2992000002], [563426.0736000016, 1935941.8642999995], [563426.9224999994, 1935933.0375999995], [563420.4365000017, 1935917.1042999998], [563393.9932000004, 1935900.2539000008], [563379.6561999992, 1935882.5247000009], [563358.1983000003, 1935876.3619], [563345.2529000007, 1935880.702299999], [563323.5868000016, 1935892.3732999992], [563313.8850000016, 1935909.8014000002], [563299.8095999993, 1935973.4058999997], [563270.4904999994, 1936038.3836000003], [563270.3484999985, 1936053.2660000008], [563274.6944000013, 1936060.7642], [563294.0328000002, 1936065.0264999997], [563319.4463, 1936041.1936000008], [563328.7186999992, 1936022.4174000006], [563338.1972999983, 1935986.8429000005], [563353.3986999989, 1935957.5270000007]]]}}], 'exceededTransferLimit': False}}, {'paramName': 'output3', 'dataType': 'GPRecordSet', 'value': {'displayFieldName': '', 'fields': [{'name': 'FID', 'type': 'esriFieldTypeOID', 'alias': 'FID'}, {'name': 'intersect_MUKEY', 'type': 'esriFieldTypeString', 'alias': 'intersect.MUKEY', 'length': 30}, {'name': 'intersect_FID_inputShapeProjected', 'type': 'esriFieldTypeInteger', 'alias': 'intersect.FID_inputShapeProjected'}, {'name': 'FREQUENCY', 'type': 'esriFieldTypeInteger', 'alias': 'FREQUENCY'}, {'name': 'MIN_valu1_nccpi2all', 'type': 'esriFieldTypeDouble', 'alias': 'MIN_valu1.nccpi2all'}, {'name': 'SUM_intersect_Shape_Area1', 'type': 'esriFieldTypeDouble', 'alias': 'SUM_intersect.Shape_Area1'}, {'name': 'FIRST_valu1_MUNAME', 'type': 'esriFieldTypeString', 'alias': 'FIRST_valu1.MUNAME', 'length': 214}, {'name': 'wa_nccpi2all', 'type': 'esriFieldTypeDouble', 'alias': 'wa_nccpi2all'}], 'features': [{'attributes': {'FID': 1, 'intersect_MUKEY': '1595742', 'intersect_FID_inputShapeProjected': 0, 'FREQUENCY': 2, 'MIN_valu1_nccpi2all': 0.9390000104904175, 'SUM_intersect_Shape_Area1': 9007.802734375, 'FIRST_valu1_MUNAME': 'Buckhart silt loam, 2 to 5 percent slopes', 'wa_nccpi2all': 0.040151220935292074}}, {'attributes': {'FID': 2, 'intersect_MUKEY': '1595752', 'intersect_FID_inputShapeProjected': 0, 'FREQUENCY': 5, 'MIN_valu1_nccpi2all': 0.9240000247955322, 'SUM_intersect_Shape_Area1': 43879.985595703125, 'FIRST_valu1_MUNAME': 'Ipava silt loam, 0 to 2 percent slopes', 'wa_nccpi2all': 0.19246543752731546}}, {'attributes': {'FID': 3, 'intersect_MUKEY': '1595762', 'intersect_FID_inputShapeProjected': 0, 'FREQUENCY': 3, 'MIN_valu1_nccpi2all': 0.8309999704360962, 'SUM_intersect_Shape_Area1': 48154.41943359375, 'FIRST_valu1_MUNAME': 'Sable silty clay loam, 0 to 2 percent slopes', 'wa_nccpi2all': 0.18995531583666062}}, {'attributes': {'FID': 4, 'intersect_MUKEY': '1596009', 'intersect_FID_inputShapeProjected': 0, 'FREQUENCY': 1, 'MIN_valu1_nccpi2all': 0.6990000009536743, 'SUM_intersect_Shape_Area1': 622.129638671875, 'FIRST_valu1_MUNAME': 'Catlin silt loam, 5 to 10 percent slopes, eroded', 'wa_nccpi2all': 0.002064297850492867}}, {'attributes': {'FID': 5, 'intersect_MUKEY': '1596046', 'intersect_FID_inputShapeProjected': 0, 'FREQUENCY': 1, 'MIN_valu1_nccpi2all': 0.5260000228881836, 'SUM_intersect_Shape_Area1': 0.9693159461021423, 'FIRST_valu1_MUNAME': 'Wyanet silt loam, 5 to 10 percent slopes, eroded', 'wa_nccpi2all': 2.4202788878987444e-06}}, {'attributes': {'FID': 6, 'intersect_MUKEY': '1612280', 'intersect_FID_inputShapeProjected': 0, 'FREQUENCY': 1, 'MIN_valu1_nccpi2all': 0.9300000071525574, 'SUM_intersect_Shape_Area1': 108996.453125, 'FIRST_valu1_MUNAME': 'Buckhart silt loam, till substratum, 2 to 5 percent slopes', 'wa_nccpi2all': 0.481182262321358}}], 'exceededTransferLimit': False}}], 'messages': []}\n"
     ]
    }
   ],
   "source": [
    "ssurgo=get_SSURGO_Soil_type(inputShape,inputFields,headers)\n"
   ]
  },
  {
   "cell_type": "markdown",
   "metadata": {},
   "source": [
    "### Displaying Tabular Output"
   ]
  },
  {
   "cell_type": "code",
   "execution_count": null,
   "metadata": {},
   "outputs": [],
   "source": [
    "\n",
    "totalAcres=0\n",
    "for value in ssurgo['results'][2]['value']['features']:\n",
    "    \n",
    "    totalAcres+=value['attributes']['SUM_intersect_Shape_Area1']*0.000247105 #sq meter to acres calc\n",
    "    \n",
    "df=defaultdict(list)\n",
    "for value in ssurgo['results'][2]['value']['features']:\n",
    "    df['soil_Name'].append(value['attributes']['FIRST_valu1_MUNAME'])\n",
    "    partAcres=value['attributes']['SUM_intersect_Shape_Area1']*0.000247105\n",
    "    percentAcres=(partAcres/totalAcres)*100\n",
    "    df['Acres'].append(round(partAcres*100)/100)\n",
    "    df['Percent'].append(round(percentAcres*100)/100)\n",
    "    df['Avg nccpi'].append(value['attributes']['MIN_valu1_nccpi2all'])\n",
    "    \n",
    "    \n",
    "ssurgodf=pd.DataFrame.from_dict(df)\n",
    "ssurgodf"
   ]
  },
  {
   "cell_type": "markdown",
   "metadata": {},
   "source": [
    "### Displaying  Map"
   ]
  },
  {
   "cell_type": "code",
   "execution_count": null,
   "metadata": {},
   "outputs": [],
   "source": [
    "for params in ssurgo['results']:\n",
    "    if params['paramName']=='output2':\n",
    "        file=open('./jsonfiles/ssurgodata1.json','w')\n",
    "        file.write(json.dumps(params['value']))\n",
    "        file.close()"
   ]
  },
  {
   "cell_type": "code",
   "execution_count": null,
   "metadata": {},
   "outputs": [],
   "source": [
    "# functions to convert json to geojson and then to shapefiles \n",
    "\n",
    "def post_converttogeojson(requestbody):\n",
    "    try:\n",
    "        url = \"https://ogre.adc4gis.com/convert\"\n",
    "     \n",
    "        response = (requests.post(url,files=requestbody).text)\n",
    "        \n",
    "        return response\n",
    "\n",
    "    except Exception as e:\n",
    "        raise e\n",
    "def post_converttoshapefile(requestbody):\n",
    "    try:\n",
    "        url = \"https://ogre.adc4gis.com/convertJson\"\n",
    "     \n",
    "        response = (requests.post(url,data=requestbody))\n",
    "        \n",
    "        z = zipfile.ZipFile(io.BytesIO(response.content))\n",
    "        z.extractall(\"./shapefiles/\")\n",
    "        \n",
    "        time.sleep(0.5)\n",
    "        return response\n",
    "    \n",
    "    except Exception as e:\n",
    "        raise e\n",
    "        \n",
    "requestbody={'upload':open('./jsonfiles/ssurgodata1.json','rb')}\n",
    "\n",
    "\n",
    "#function call to convert json reponse to geojson\n",
    "ssurgodata_geojson=post_converttogeojson(requestbody)\n",
    "requestbody={'json':ssurgodata_geojson,'skipFailures':\"on\"}\n",
    "\n",
    "\n",
    "#function call to create shapefiles\n",
    "post_converttoshapefile(requestbody)"
   ]
  },
  {
   "cell_type": "code",
   "execution_count": null,
   "metadata": {},
   "outputs": [],
   "source": [
    "gdf = gpd.read_file('./shapefiles/OGRGeoJSON.shp')\n",
    "\n",
    "gdf.plot(column='MUKEY', cmap=None,figsize=(10, 10),legend=True) \n",
    "gdf.head()"
   ]
  },
  {
   "cell_type": "code",
   "execution_count": null,
   "metadata": {},
   "outputs": [],
   "source": []
  }
 ],
 "metadata": {
  "kernelspec": {
   "display_name": "Python 3",
   "language": "python",
   "name": "python3"
  },
  "language_info": {
   "codemirror_mode": {
    "name": "ipython",
    "version": 3
   },
   "file_extension": ".py",
   "mimetype": "text/x-python",
   "name": "python",
   "nbconvert_exporter": "python",
   "pygments_lexer": "ipython3",
   "version": "3.6.6"
  }
 },
 "nbformat": 4,
 "nbformat_minor": 2
}
