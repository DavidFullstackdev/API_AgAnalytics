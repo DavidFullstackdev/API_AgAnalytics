{
 "cells": [
  {
   "cell_type": "markdown",
   "metadata": {},
   "source": [
    "# Ag Analytics-SSURGO Soil- Demo\n"
   ]
  },
  {
   "cell_type": "markdown",
   "metadata": {},
   "source": [
    "The SURGGO Soils API provides soil type and average of the soil type attribute (e.g., NCCPI) by field for a shape entered.\n",
    "\n"
   ]
  },
  {
   "cell_type": "code",
   "execution_count": null,
   "metadata": {},
   "outputs": [],
   "source": [
    "import requests\n",
    "import json\n",
    "import time\n",
    "from pandas.io.json import json_normalize\n",
    "import pandas as pd\n",
    "from collections import defaultdict\n",
    "import math\n",
    "import requests, zipfile, io\n",
    "import geopandas as gpd\n",
    "%matplotlib inline\n",
    "%autosave 0"
   ]
  },
  {
   "cell_type": "markdown",
   "metadata": {},
   "source": [
    "### API details\n",
    "\n",
    "####Request URL:\n",
    "https://ag-analytics.azure-api.net/ssurgosoil/get[?inputShape][&inputFields]\n",
    "\n",
    "####Parameters:\n",
    "\n",
    "***inputShape (optional) - ***\n",
    "ESRI Polygon shape.\n",
    "\n",
    "The inputShape should have the Albers (“wkid”: 5070) spatial reference. The shape information for field is esriGeometryPolygon format. Standard open source JavaScript front-end libraries (e.g., Leaflet) can be used to structure the shape. See example request below, in which \"spatialReference\": {\"wkid\": 5070} is required\n",
    "\n",
    "***inputFields (optional) - ***\n",
    "The metrics to return with the format “TableName_SoilTypeName”.\n",
    "\n",
    "\n",
    "In order to get Ocp-Apim-Subscription-Key, please click on this link https://ag-analytics.org/developer/Session/SignInFromPayment"
   ]
  },
  {
   "cell_type": "markdown",
   "metadata": {},
   "source": [
    "### Request Parameters"
   ]
  },
  {
   "cell_type": "code",
   "execution_count": null,
   "metadata": {},
   "outputs": [],
   "source": [
    "inputShape={\"geometryType\":\"esriGeometryPolygon\",\"features\":[{\"geometry\":{\"rings\":[[[-89.045774,43.730605],[-89.04577,43.730488],[-89.045722,43.729998],[-89.045789,43.729653],[-89.045661,43.72961],[-89.045635,43.729782],[-89.045644,43.730045],[-89.045653,43.730308],[-89.045651,43.730607],[-89.041228,43.730676],[-89.041171,43.728908],[-89.041111,43.727076],[-89.042892,43.727044],[-89.044665,43.727018],[-89.046178,43.726999],[-89.046237,43.730597],[-89.045774,43.730605]]],\"spatialReference\":{\"wkid\":4326}}}]}\n",
    "inputFields=\"nccpi2all\"\n",
    "\n",
    "headers={'Ocp-Apim-Subscription-Key': 'xxxxxxxxxxxxxxxxxxxxxxxxxxxxxxxxxxx'}\n",
    "           "
   ]
  },
  {
   "cell_type": "markdown",
   "metadata": {},
   "source": [
    "###  API Function"
   ]
  },
  {
   "cell_type": "code",
   "execution_count": null,
   "metadata": {},
   "outputs": [],
   "source": [
    "def get_SSURGO_Soil_type(inputShape,inputFields,headers):\n",
    "    try:\n",
    "        url = \"https://ag-analytics.azure-api.net/ssurgosoil/get?inputShape={}&inputFields={}\".format(inputShape,inputFields)\n",
    "     \n",
    "        response = (requests.get(url,headers=headers).text)\n",
    "        \n",
    "        response_json = json.loads(response)\n",
    "        print(response_json)\n",
    "        time.sleep(0.5)\n",
    "        return response_json\n",
    "    \n",
    "    except Exception as e:\n",
    "        raise e"
   ]
  },
  {
   "cell_type": "markdown",
   "metadata": {},
   "source": [
    "### Calling API Function and print output"
   ]
  },
  {
   "cell_type": "code",
   "execution_count": null,
   "metadata": {},
   "outputs": [],
   "source": [
    "ssurgo=get_SSURGO_Soil_type(inputShape,inputFields,headers)\n"
   ]
  },
  {
   "cell_type": "markdown",
   "metadata": {},
   "source": [
    "### Displaying Tabular Output"
   ]
  },
  {
   "cell_type": "code",
   "execution_count": null,
   "metadata": {},
   "outputs": [],
   "source": [
    "\n",
    "totalAcres=0\n",
    "\n",
    "mukeydict={}\n",
    "for value in ssurgo['results'][2]['value']['features']:\n",
    "    \n",
    "    totalAcres+=value['attributes']['SUM_intersect_Shape_Area1']*0.000247105 #sq meter to acres calc\n",
    "    \n",
    "df=defaultdict(list)\n",
    "for value in ssurgo['results'][2]['value']['features']:\n",
    "    mukeydict[value['attributes']['intersect_MUKEY']]=value['attributes']['FIRST_valu1_MUNAME']\n",
    "    df['soil_Name'].append(value['attributes']['FIRST_valu1_MUNAME'])\n",
    "    partAcres=value['attributes']['SUM_intersect_Shape_Area1']*0.000247105\n",
    "    percentAcres=(partAcres/totalAcres)*100\n",
    "    df['Acres'].append(round(partAcres*100)/100)\n",
    "    df['Percent'].append(round(percentAcres*100)/100)\n",
    "    df['Avg nccpi'].append(value['attributes']['MIN_valu1_nccpi2all'])\n",
    "    \n",
    "    \n",
    "ssurgodf=pd.DataFrame.from_dict(df)\n",
    "ssurgodf"
   ]
  },
  {
   "cell_type": "markdown",
   "metadata": {},
   "source": [
    "### Displaying  Map"
   ]
  },
  {
   "cell_type": "code",
   "execution_count": null,
   "metadata": {},
   "outputs": [],
   "source": [
    "for params in ssurgo['results']:\n",
    "    if params['paramName']=='output2':\n",
    "        file=open('./jsonfiles/ssurgodata1.json','w')\n",
    "        file.write(json.dumps(params['value']))\n",
    "        file.close()"
   ]
  },
  {
   "cell_type": "code",
   "execution_count": null,
   "metadata": {},
   "outputs": [],
   "source": [
    "# functions to convert json to geojson and then to shapefiles \n",
    "\n",
    "def post_converttogeojson(requestbody):\n",
    "    try:\n",
    "        url = \"https://ogre.adc4gis.com/convert\"\n",
    "     \n",
    "        response = (requests.post(url,files=requestbody).text)\n",
    "        \n",
    "        return response\n",
    "\n",
    "    except Exception as e:\n",
    "        raise e\n",
    "def post_converttoshapefile(requestbody):\n",
    "    try:\n",
    "        url = \"https://ogre.adc4gis.com/convertJson\"\n",
    "     \n",
    "        response = (requests.post(url,data=requestbody))\n",
    "        \n",
    "        z = zipfile.ZipFile(io.BytesIO(response.content))\n",
    "        z.extractall(\"./shapefiles/\")\n",
    "        \n",
    "        time.sleep(0.5)\n",
    "        return response\n",
    "    \n",
    "    except Exception as e:\n",
    "        raise e\n",
    "        \n",
    "requestbody={'upload':open('./jsonfiles/ssurgodata1.json','rb')}\n",
    "\n",
    "\n",
    "#function call to convert json reponse to geojson\n",
    "ssurgodata_geojson=post_converttogeojson(requestbody)\n",
    "requestbody={'json':ssurgodata_geojson,'skipFailures':\"on\"}\n",
    "\n",
    "\n",
    "#function call to create shapefiles\n",
    "post_converttoshapefile(requestbody)"
   ]
  },
  {
   "cell_type": "code",
   "execution_count": null,
   "metadata": {},
   "outputs": [],
   "source": [
    "gdf = gpd.read_file('./shapefiles/OGRGeoJSON.shp')\n",
    "\n",
    "gdf['soilName']=gdf['MUKEY'].map(mukeydict)\n",
    "\n",
    "gdf.plot(column='soilName', cmap=None,figsize=(10, 10),legend=True) \n",
    "gdf.head()"
   ]
  }
 ],
 "metadata": {
  "kernelspec": {
   "display_name": "Python 3",
   "language": "python",
   "name": "python3"
  },
  "language_info": {
   "codemirror_mode": {
    "name": "ipython",
    "version": 3
   },
   "file_extension": ".py",
   "mimetype": "text/x-python",
   "name": "python",
   "nbconvert_exporter": "python",
   "pygments_lexer": "ipython3",
   "version": "3.6.6"
  }
 },
 "nbformat": 4,
 "nbformat_minor": 2
}
