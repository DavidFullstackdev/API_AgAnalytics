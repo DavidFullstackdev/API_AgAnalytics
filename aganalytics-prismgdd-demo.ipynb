{
 "cells": [
  {
   "cell_type": "markdown",
   "metadata": {},
   "source": [
    "# Ag Analytics-PRISM GDD- Demo\n"
   ]
  },
  {
   "cell_type": "markdown",
   "metadata": {},
   "source": [
    "Source data obtained from PRISM Climate Group, Oregon State University. Produces accumulation to date and historical growing degree days, the cumulative sum of days above 50°F.\n"
   ]
  },
  {
   "cell_type": "code",
   "execution_count": null,
   "metadata": {},
   "outputs": [],
   "source": [
    "import requests\n",
    "import json\n",
    "import time\n",
    "from pandas.io.json import json_normalize\n",
    "import pandas as pd\n",
    "import matplotlib.pyplot as plt\n",
    "import datetime as dt\n",
    "from matplotlib import dates\n",
    "from matplotlib.dates import DateFormatter\n",
    "%autosave 0"
   ]
  },
  {
   "cell_type": "markdown",
   "metadata": {},
   "source": [
    "### API details\n",
    "\n",
    "####Request URL:\n",
    "https://ag-analytics.azure-api.net/prismgdd/[?month][&day][&year][&coordinateX][&coordinateY][&startYear]\n",
    "\n",
    "####Parameters:\n",
    "\n",
    "***month***\n",
    "***day***\n",
    "***year - ***\n",
    "Define the end year of data range.\n",
    "\n",
    "***coordinateX - ***\n",
    "X coordinate for location desired.\n",
    "\n",
    "***coordinateY - ***\n",
    "Y coordinate for location desired.\n",
    "\n",
    "***startYear - ***\n",
    "Define the start year of data range.\n",
    "\n",
    "\n",
    "In order to get Ocp-Apim-Subscription-Key, please click on this link https://ag-analytics.org/developer/Session/SignInFromPayment"
   ]
  },
  {
   "cell_type": "markdown",
   "metadata": {},
   "source": [
    "### Request Parameters"
   ]
  },
  {
   "cell_type": "code",
   "execution_count": null,
   "metadata": {},
   "outputs": [],
   "source": [
    "month=1\n",
    "day=1\n",
    "year=2019\n",
    "coordinateX=-88.9893385940128\n",
    "coordinateY=40.010959177421654\n",
    "startYear=1981\n",
    "\n",
    "headers={'Ocp-Apim-Subscription-Key': 'xxxxxxxxxxxxxxxxxxxxxxxxxxxxxxxxxxx'}\n",
    "           "
   ]
  },
  {
   "cell_type": "markdown",
   "metadata": {},
   "source": [
    "###  API Function"
   ]
  },
  {
   "cell_type": "code",
   "execution_count": null,
   "metadata": {},
   "outputs": [],
   "source": [
    "def get_prism_gdd(month,day,year,coordinateX,coordinateY,startYear,headers):\n",
    "    try:\n",
    "        url = \"https://ag-analytics.azure-api.net/prismgdd/?month={}&day={}&year={}&coordinateX={}&coordinateY={}&startYear={}\".format(month,day,year,coordinateX,coordinateY,startYear)\n",
    "     \n",
    "        response = (requests.get(url,headers=headers).text)\n",
    "        \n",
    "        response_json = json.loads(response)\n",
    "        print(response_json)\n",
    "        time.sleep(0.5)\n",
    "        return response_json\n",
    "    \n",
    "    except Exception as e:\n",
    "        raise e"
   ]
  },
  {
   "cell_type": "markdown",
   "metadata": {},
   "source": [
    "### Calling API Function and print output"
   ]
  },
  {
   "cell_type": "code",
   "execution_count": null,
   "metadata": {},
   "outputs": [],
   "source": [
    "gdd=get_prism_gdd(month,day,year,coordinateX,coordinateY,startYear,headers)"
   ]
  },
  {
   "cell_type": "markdown",
   "metadata": {},
   "source": [
    "### Displaying output"
   ]
  },
  {
   "cell_type": "code",
   "execution_count": null,
   "metadata": {},
   "outputs": [],
   "source": [
    "res=pd.DataFrame()\n",
    "\n",
    "for i,j in enumerate(gdd):\n",
    "    \n",
    "    for index in gdd[i].keys():\n",
    "            \n",
    "        \n",
    "        df = pd.DataFrame.from_records(j[index])\n",
    "        df.rename(columns={'Accumulated GDD':index},inplace=True)\n",
    "        \n",
    "        if res.empty:\n",
    "            res=df\n",
    "        else:\n",
    "            res=res.merge(df,on=\"Date\",how=\"outer\")\n",
    "\n",
    "# removing feb 29th as the pandas datetime cannot handle just the feb 29th without year\n",
    "\n",
    "res = res[~(res['Date']==\"2-29\")]\n",
    "res['Date']=pd.to_datetime(res['Date'], format = '%m-%d')\n",
    "dfmt = dates.DateFormatter('%b %d')\n",
    "res.set_index('Date',inplace=True)\n",
    "\n",
    "res=res.sort_index()\n",
    "\n",
    "fig, ax = plt.subplots(figsize=(20,10), linewidth=5)\n",
    "\n",
    "ax.plot(res)\n",
    "ax.set_xlabel(\"Date\")\n",
    "ax.set_ylabel(\"Accumulated GDD\")\n",
    "ax.set_title(\"GDD\")\n",
    "ax.legend(res.columns)\n",
    "ax.xaxis.set_major_formatter(dfmt)\n"
   ]
  },
  {
   "cell_type": "code",
   "execution_count": null,
   "metadata": {},
   "outputs": [],
   "source": []
  }
 ],
 "metadata": {
  "kernelspec": {
   "display_name": "Python 3",
   "language": "python",
   "name": "python3"
  },
  "language_info": {
   "codemirror_mode": {
    "name": "ipython",
    "version": 3
   },
   "file_extension": ".py",
   "mimetype": "text/x-python",
   "name": "python",
   "nbconvert_exporter": "python",
   "pygments_lexer": "ipython3",
   "version": "3.6.6"
  }
 },
 "nbformat": 4,
 "nbformat_minor": 2
}
