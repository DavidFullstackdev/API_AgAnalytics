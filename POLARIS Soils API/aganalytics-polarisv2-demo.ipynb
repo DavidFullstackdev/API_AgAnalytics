{
 "cells": [
  {
   "cell_type": "markdown",
   "metadata": {},
   "source": [
    "# Ag-Analytics® - POLARIS Soils API "
   ]
  },
  {
   "cell_type": "markdown",
   "metadata": {},
   "source": [
    "Polaris is a recently developed soil data set that provides additional soil attributes. The POLARIS Soils Data Layers API provides a spatially continuous, internally consistent, quantitative prediction of soil series at a 30 m spatial resolution for the contiguous United States."
   ]
  },
  {
   "cell_type": "code",
   "execution_count": 16,
   "metadata": {},
   "outputs": [
    {
     "data": {
      "application/javascript": [
       "IPython.notebook.set_autosave_interval(0)"
      ]
     },
     "metadata": {},
     "output_type": "display_data"
    },
    {
     "name": "stdout",
     "output_type": "stream",
     "text": [
      "Autosave disabled\n"
     ]
    }
   ],
   "source": [
    "import requests\n",
    "import json\n",
    "import time\n",
    "import os\n",
    "from pandas.io.json import json_normalize\n",
    "from collections import defaultdict\n",
    "import pandas as pd\n",
    "import zipfile, io\n",
    "from IPython.display import Image\n",
    "\n",
    "%matplotlib inline\n",
    "%autosave 0"
   ]
  },
  {
   "cell_type": "markdown",
   "metadata": {},
   "source": [
    "Request URL:  https://ag-analytics.azure-api.net/polaris-new/\n",
    "\n",
    "1). __aoi__ (.tif, GeoJSON String): Area of interest as either TIFF file or Geojson string containing boundary coordinates.\n",
    "       \n",
    "2). __Soil_Parameter__ (string): Soil parameter to return.\n",
    "    \n",
    "    silt - silt percentage, %\n",
    "    sand - sand percentage, %\n",
    "    clay - clay percentage, %\n",
    "    bd - bulk density, g/cm3\n",
    "    awc - available water content, m3/m3\n",
    "    theta_s - saturated soil water content, m3/m3\n",
    "    theta_r - residual soil water content, m3/m3\n",
    "    theta_33 - soil water content at field capacity, m3/m3\n",
    "    theta_1500 - soil water content at the wilting point, m3/m3\n",
    "    ksat - saturated hydraulic conductivity, cm/hr\n",
    "    resdt - depth to restriction layer, cm\n",
    "    ph - soil pH in H2O, N/A\n",
    "    om - organic matter, %\n",
    "    caco3 - calcium carbonate in soil, %\n",
    "    cec - cation exchange capacity of soil, meq/100g\n",
    "    lambda - pore size distribution index (brooks-corey), N/A\n",
    "    hb - bubbling pressure (brooks-corey), cm\n",
    "    n - measure of the pore size distribution (van genuchten), N/A\n",
    "    alpha - scale parameter inversely proportional to mean pore diameter (van genuchten), cm-1\n",
    "\n",
    "3). __Depth_Range__ (string): Depth in soil column.\n",
    "\n",
    "    0-5 cm\n",
    "    5-15 cm\n",
    "    15-30 cm\n",
    "    30-60 cm\n",
    "    60-100 cm\n",
    "    100-200 cm\n",
    "\n",
    "4). __Statistic__ (string): Soil parameter statistic to return.\n",
    "\n",
    "    mean - Arithmetic mean\n",
    "    min - Minimum\n",
    "    max - Maximum\n",
    "    var - Variance"
   ]
  },
  {
   "cell_type": "markdown",
   "metadata": {},
   "source": [
    "---\n",
    "## POST Request API Fuction"
   ]
  },
  {
   "cell_type": "code",
   "execution_count": 17,
   "metadata": {},
   "outputs": [],
   "source": [
    "def polaris_service(values, files, headers):\n",
    "    try:\n",
    "        url = 'https://ag-analytics.azure-api.net/polaris-v2'\n",
    "        \n",
    "        if files == None:\n",
    "            response = requests.post(url, data=values,headers = headers).json()\n",
    "        else:\n",
    "            response = requests.post(url, files = files, data = values, headers= headers).json()\n",
    "            \n",
    "        print(response)\n",
    "        \n",
    "        return response\n",
    "    \n",
    "    except Exception as e:\n",
    "        print(e)\n",
    "        raise e"
   ]
  },
  {
   "cell_type": "markdown",
   "metadata": {},
   "source": [
    "## Raster (.tif) as AOI"
   ]
  },
  {
   "cell_type": "code",
   "execution_count": 53,
   "metadata": {},
   "outputs": [
    {
     "name": "stdout",
     "output_type": "stream",
     "text": [
      "[('Raster_File', <_io.BufferedReader name='C:\\\\Users\\\\Jeffrey\\\\JupyterLibrary\\\\result_raster_dem_20200717152408204847.tif'>)]\n"
     ]
    }
   ],
   "source": [
    "#Path to raster in your local machine\n",
    "rasterpath = r\"C:\\<local file path>\"\n",
    "gtiffs_files = [('Raster_File',(open(rasterpath, 'rb')))]\n",
    "print(gtiffs_files)\n",
    "\n",
    "#Parameters to create index\n",
    "gtiffs_values = {\"Soil_Parameter\": \"silt\",\n",
    "                 \"Depth_Range\": \"15-30\",\n",
    "                 \"Statistic\": \"mean\"}\n",
    "\n",
    "# Header for using a subscription key.\n",
    "gtiffs_headers={'Ocp-Apim-Subscription-Key': \"xxxxxxxxxxxxxxxxxxxxxxxxxxxxxxxxxxx\"}\n",
    "# headers={'Ocp-Apim-Subscription-Key': \"xxxxxxxxxxxxxxxxxxxxxxxxxxxxxxxxxxx\"}"
   ]
  },
  {
   "cell_type": "code",
   "execution_count": 54,
   "metadata": {},
   "outputs": [
    {
     "name": "stdout",
     "output_type": "stream",
     "text": [
      "{'Features': [{'attributes': {'CellSize': [5.0897109697334255e-05, -5.0897109697334255e-05], 'CoordinateSystem': 'GEOGCS[\"WGS 84\",DATUM[\"WGS_1984\",SPHEROID[\"WGS 84\",6378137,298.257223563,AUTHORITY[\"EPSG\",\"7030\"]],AUTHORITY[\"EPSG\",\"6326\"]],PRIMEM[\"Greenwich\",0],UNIT[\"degree\",0.0174532925199433],AUTHORITY[\"EPSG\",\"4326\"]]', 'Extent': '-94.32964119675205, 44.06489969590161, -94.31844383261864, 44.073043233453184', 'Legend': [{'Area': '6.56 %', 'Count': 2271, 'CountAllPixels': 34640, 'Max': 35.10296401977539, 'Mean': 34.23390274047851, 'Min': 33.36484146118164, 'color': '#d305fc'}, {'Area': '12.19 %', 'Count': 4223, 'CountAllPixels': 34640, 'Max': 36.84108657836914, 'Mean': 35.97202529907227, 'Min': 35.10296401977539, 'color': '#e570ff'}, {'Area': '40.38 %', 'Count': 13986, 'CountAllPixels': 34640, 'Max': 38.57920913696289, 'Mean': 37.710147857666016, 'Min': 36.84108657836914, 'color': '#eb94ff'}, {'Area': '25.23 %', 'Count': 8740, 'CountAllPixels': 34640, 'Max': 40.31733169555664, 'Mean': 39.44827041625976, 'Min': 38.57920913696289, 'color': '#f2b9ff'}, {'Area': '15.65 %', 'Count': 5420, 'CountAllPixels': 34640, 'Max': 42.05545425415039, 'Mean': 41.18639297485352, 'Min': 40.31733169555664, 'color': '#f9deff'}], 'Matrix': [160, 220], 'Max': 42.05545425415039, 'Mean': 38.225073568264825, 'Min': 33.36484146118164, 'OID': 0, 'Percentile5': 34.77616882324219, 'Percentile95': 41.037137222290035, 'Product': 'silt', 'Std': 1.8145451420409109, 'Variety': 'NoVariety', 'pngb64': 'data:image/png;base64, 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'}}], 'FileName': 'raster_polaris_silt_mean_15_30_20200717-154305_77143.tif'}\n"
     ]
    }
   ],
   "source": [
    "IndexResponse = polaris_service(gtiffs_values, gtiffs_files, gtiffs_headers)"
   ]
  },
  {
   "cell_type": "markdown",
   "metadata": {},
   "source": [
    "---\n",
    "## GeoJSON as AOI"
   ]
  },
  {
   "cell_type": "code",
   "execution_count": 55,
   "metadata": {},
   "outputs": [],
   "source": [
    "#Parameters to create index\n",
    "gjson_values = {\"aoi\": \"{\\\"type\\\":\\\"Feature\\\",\\\"geometry\\\":{\\\"type\\\":\\\"Polygon\\\",\\\"coordinates\\\":[[[-85.530165756639363,41.003585131948597],[-85.520434643189319,41.003807344585127],[-85.520353401853086,40.999164864997709],[-85.523662529524572,40.998736874798666],[-85.522491522109163,40.997877961142841],[-85.52301570506603,40.997135046630873],[-85.529932360326256,40.996987366356251],[-85.530165756639363,41.003585131948597]]]}}\",\n",
    "            \"Soil_Parameter\": \"ph\",\n",
    "            \"Depth_Range\": \"15-30\",\n",
    "            \"Statistic\": \"mean\",\n",
    "            \"Legend_Ranges\": \"10\"}\n",
    "\n",
    "gjson_files = None\n",
    "\n",
    "# Header for using a subscription key.\n",
    "gjson_headers={\"content-type\": \"application/x-www-form-urlencoded\",'Ocp-Apim-Subscription-Key': \"xxxxxxxxxxxxxxxxxxxxxxxxxxxxxxxxxxx\"}\n",
    "# headers={'content-type': \"application/x-www-form-urlencoded\",'Ocp-Apim-Subscription-Key': \"xxxxxxxxxxxxxxxxxxxxxxxxxxxxxxxxxxx\"}"
   ]
  },
  {
   "cell_type": "code",
   "execution_count": 56,
   "metadata": {},
   "outputs": [
    {
     "name": "stdout",
     "output_type": "stream",
     "text": [
      "{'Features': [{'attributes': {'CellSize': [4.808350382914593e-05, -4.808350382914593e-05], 'CoordinateSystem': 'GEOGCS[\"WGS 84\",DATUM[\"WGS_1984\",SPHEROID[\"WGS 84\",6378137,298.257223563,AUTHORITY[\"EPSG\",\"7030\"]],AUTHORITY[\"EPSG\",\"6326\"]],PRIMEM[\"Greenwich\",0],UNIT[\"degree\",0.0174532925199433],AUTHORITY[\"EPSG\",\"4326\"]]', 'Extent': '-85.53023686562858, 40.9961397438803, -85.51965849478617, 41.00383310449296', 'Legend': [{'Area': '2.65 %', 'Count': 844, 'CountAllPixels': 31900, 'Max': 5.909779167175293, 'Mean': 5.894406366348266, 'Min': 5.87903356552124, 'color': '#d305fc'}, {'Area': '8.36 %', 'Count': 2667, 'CountAllPixels': 31900, 'Max': 5.940524768829346, 'Mean': 5.92515196800232, 'Min': 5.909779167175293, 'color': '#d71ffc'}, {'Area': '16.11 %', 'Count': 5138, 'CountAllPixels': 31900, 'Max': 5.971270370483398, 'Mean': 5.955897569656372, 'Min': 5.940524768829346, 'color': '#dc3afd'}, {'Area': '24.05 %', 'Count': 7673, 'CountAllPixels': 31900, 'Max': 6.0020159721374515, 'Mean': 5.9866431713104244, 'Min': 5.971270370483398, 'color': '#e055fe'}, {'Area': '19.85 %', 'Count': 6333, 'CountAllPixels': 31900, 'Max': 6.032761573791504, 'Mean': 6.017388772964478, 'Min': 6.0020159721374515, 'color': '#e570ff'}, {'Area': '15.06 %', 'Count': 4804, 'CountAllPixels': 31900, 'Max': 6.063507175445556, 'Mean': 6.04813437461853, 'Min': 6.032761573791504, 'color': '#e986ff'}, {'Area': '8.2 %', 'Count': 2615, 'CountAllPixels': 31900, 'Max': 6.0942527770996096, 'Mean': 6.078879976272583, 'Min': 6.063507175445556, 'color': '#ed9cff'}, {'Area': '3.47 %', 'Count': 1106, 'CountAllPixels': 31900, 'Max': 6.124998378753662, 'Mean': 6.109625577926636, 'Min': 6.0942527770996096, 'color': '#f1b2ff'}, {'Area': '1.73 %', 'Count': 553, 'CountAllPixels': 31900, 'Max': 6.155743980407715, 'Mean': 6.140371179580688, 'Min': 6.124998378753662, 'color': '#f5c8ff'}, {'Area': '0.52 %', 'Count': 167, 'CountAllPixels': 31900, 'Max': 6.186489582061768, 'Mean': 6.171116781234741, 'Min': 6.155743980407715, 'color': '#f9deff'}], 'Matrix': [160, 220], 'Max': 6.186489582061768, 'Mean': 6.005016081475166, 'Min': 5.87903356552124, 'OID': 0, 'Percentile5': 5.924876689910889, 'Percentile95': 6.098343920707702, 'Product': 'ph', 'Std': 0.053588743825108365, 'Variety': 'NoVariety', 'pngb64': 'data:image/png;base64, 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'}}], 'FileName': 'raster_polaris_ph_mean_15_30_20200717-154355_84931.tif'}\n"
     ]
    }
   ],
   "source": [
    "IndexResponse = polaris_service(gjson_values, gjson_files, gjson_headers)"
   ]
  },
  {
   "cell_type": "markdown",
   "metadata": {},
   "source": [
    "## Visualize the response png"
   ]
  },
  {
   "cell_type": "code",
   "execution_count": 41,
   "metadata": {},
   "outputs": [
    {
     "data": {
      "text/html": [
       "<div>\n",
       "<style scoped>\n",
       "    .dataframe tbody tr th:only-of-type {\n",
       "        vertical-align: middle;\n",
       "    }\n",
       "\n",
       "    .dataframe tbody tr th {\n",
       "        vertical-align: top;\n",
       "    }\n",
       "\n",
       "    .dataframe thead th {\n",
       "        text-align: right;\n",
       "    }\n",
       "</style>\n",
       "<table border=\"1\" class=\"dataframe\">\n",
       "  <thead>\n",
       "    <tr style=\"text-align: right;\">\n",
       "      <th></th>\n",
       "      <th>Index</th>\n",
       "      <th>Max</th>\n",
       "      <th>Mean</th>\n",
       "      <th>Min</th>\n",
       "      <th>pngb64</th>\n",
       "    </tr>\n",
       "  </thead>\n",
       "  <tbody>\n",
       "    <tr>\n",
       "      <th>0</th>\n",
       "      <td>ph</td>\n",
       "      <td>6.18649</td>\n",
       "      <td>6.005016</td>\n",
       "      <td>5.879034</td>\n",
       "      <td>data:image/png;base64, iVBORw0KGgoAAAANSUhEUgA...</td>\n",
       "    </tr>\n",
       "  </tbody>\n",
       "</table>\n",
       "</div>"
      ],
      "text/plain": [
       "  Index      Max      Mean       Min  \\\n",
       "0    ph  6.18649  6.005016  5.879034   \n",
       "\n",
       "                                              pngb64  \n",
       "0  data:image/png;base64, iVBORw0KGgoAAAANSUhEUgA...  "
      ]
     },
     "execution_count": 41,
     "metadata": {},
     "output_type": "execute_result"
    }
   ],
   "source": [
    "df=defaultdict(list)\n",
    "for value in IndexResponse['Features']:\n",
    "    attributes = value['attributes']\n",
    "    df['Index'].append(attributes['Product'])\n",
    "    df['Max'].append(float(attributes['Max']))\n",
    "    df['Mean'].append(float(attributes['Mean']))\n",
    "    df['Min'].append(float(attributes['Min']))\n",
    "    df['pngb64'].append(attributes['pngb64'])\n",
    "\n",
    "indexdf=pd.DataFrame.from_dict(df)\n",
    "indexdf"
   ]
  },
  {
   "cell_type": "code",
   "execution_count": 42,
   "metadata": {},
   "outputs": [
    {
     "data": {
      "text/html": [
       "<style  type=\"text/css\" >\n",
       "    #T_b8508240_c842_11ea_9866_e86f38d9ac3arow0_col3 {\n",
       "            background-color:  #d305fc;\n",
       "        }    #T_b8508240_c842_11ea_9866_e86f38d9ac3arow1_col3 {\n",
       "            background-color:  #d71ffc;\n",
       "        }    #T_b8508240_c842_11ea_9866_e86f38d9ac3arow2_col3 {\n",
       "            background-color:  #dc3afd;\n",
       "        }    #T_b8508240_c842_11ea_9866_e86f38d9ac3arow3_col3 {\n",
       "            background-color:  #e055fe;\n",
       "        }    #T_b8508240_c842_11ea_9866_e86f38d9ac3arow4_col3 {\n",
       "            background-color:  #e570ff;\n",
       "        }    #T_b8508240_c842_11ea_9866_e86f38d9ac3arow5_col3 {\n",
       "            background-color:  #e986ff;\n",
       "        }    #T_b8508240_c842_11ea_9866_e86f38d9ac3arow6_col3 {\n",
       "            background-color:  #ed9cff;\n",
       "        }    #T_b8508240_c842_11ea_9866_e86f38d9ac3arow7_col3 {\n",
       "            background-color:  #f1b2ff;\n",
       "        }    #T_b8508240_c842_11ea_9866_e86f38d9ac3arow8_col3 {\n",
       "            background-color:  #f5c8ff;\n",
       "        }    #T_b8508240_c842_11ea_9866_e86f38d9ac3arow9_col3 {\n",
       "            background-color:  #f9deff;\n",
       "        }</style><table id=\"T_b8508240_c842_11ea_9866_e86f38d9ac3a\" ><thead>    <tr>        <th class=\"blank level0\" ></th>        <th class=\"col_heading level0 col0\" >Max</th>        <th class=\"col_heading level0 col1\" >Mean</th>        <th class=\"col_heading level0 col2\" >Min</th>        <th class=\"col_heading level0 col3\" >Color</th>    </tr></thead><tbody>\n",
       "                <tr>\n",
       "                        <th id=\"T_b8508240_c842_11ea_9866_e86f38d9ac3alevel0_row0\" class=\"row_heading level0 row0\" >0</th>\n",
       "                        <td id=\"T_b8508240_c842_11ea_9866_e86f38d9ac3arow0_col0\" class=\"data row0 col0\" >5.909779</td>\n",
       "                        <td id=\"T_b8508240_c842_11ea_9866_e86f38d9ac3arow0_col1\" class=\"data row0 col1\" >5.894406</td>\n",
       "                        <td id=\"T_b8508240_c842_11ea_9866_e86f38d9ac3arow0_col2\" class=\"data row0 col2\" >5.879034</td>\n",
       "                        <td id=\"T_b8508240_c842_11ea_9866_e86f38d9ac3arow0_col3\" class=\"data row0 col3\" >#d305fc</td>\n",
       "            </tr>\n",
       "            <tr>\n",
       "                        <th id=\"T_b8508240_c842_11ea_9866_e86f38d9ac3alevel0_row1\" class=\"row_heading level0 row1\" >1</th>\n",
       "                        <td id=\"T_b8508240_c842_11ea_9866_e86f38d9ac3arow1_col0\" class=\"data row1 col0\" >5.940525</td>\n",
       "                        <td id=\"T_b8508240_c842_11ea_9866_e86f38d9ac3arow1_col1\" class=\"data row1 col1\" >5.925152</td>\n",
       "                        <td id=\"T_b8508240_c842_11ea_9866_e86f38d9ac3arow1_col2\" class=\"data row1 col2\" >5.909779</td>\n",
       "                        <td id=\"T_b8508240_c842_11ea_9866_e86f38d9ac3arow1_col3\" class=\"data row1 col3\" >#d71ffc</td>\n",
       "            </tr>\n",
       "            <tr>\n",
       "                        <th id=\"T_b8508240_c842_11ea_9866_e86f38d9ac3alevel0_row2\" class=\"row_heading level0 row2\" >2</th>\n",
       "                        <td id=\"T_b8508240_c842_11ea_9866_e86f38d9ac3arow2_col0\" class=\"data row2 col0\" >5.971270</td>\n",
       "                        <td id=\"T_b8508240_c842_11ea_9866_e86f38d9ac3arow2_col1\" class=\"data row2 col1\" >5.955898</td>\n",
       "                        <td id=\"T_b8508240_c842_11ea_9866_e86f38d9ac3arow2_col2\" class=\"data row2 col2\" >5.940525</td>\n",
       "                        <td id=\"T_b8508240_c842_11ea_9866_e86f38d9ac3arow2_col3\" class=\"data row2 col3\" >#dc3afd</td>\n",
       "            </tr>\n",
       "            <tr>\n",
       "                        <th id=\"T_b8508240_c842_11ea_9866_e86f38d9ac3alevel0_row3\" class=\"row_heading level0 row3\" >3</th>\n",
       "                        <td id=\"T_b8508240_c842_11ea_9866_e86f38d9ac3arow3_col0\" class=\"data row3 col0\" >6.002016</td>\n",
       "                        <td id=\"T_b8508240_c842_11ea_9866_e86f38d9ac3arow3_col1\" class=\"data row3 col1\" >5.986643</td>\n",
       "                        <td id=\"T_b8508240_c842_11ea_9866_e86f38d9ac3arow3_col2\" class=\"data row3 col2\" >5.971270</td>\n",
       "                        <td id=\"T_b8508240_c842_11ea_9866_e86f38d9ac3arow3_col3\" class=\"data row3 col3\" >#e055fe</td>\n",
       "            </tr>\n",
       "            <tr>\n",
       "                        <th id=\"T_b8508240_c842_11ea_9866_e86f38d9ac3alevel0_row4\" class=\"row_heading level0 row4\" >4</th>\n",
       "                        <td id=\"T_b8508240_c842_11ea_9866_e86f38d9ac3arow4_col0\" class=\"data row4 col0\" >6.032762</td>\n",
       "                        <td id=\"T_b8508240_c842_11ea_9866_e86f38d9ac3arow4_col1\" class=\"data row4 col1\" >6.017389</td>\n",
       "                        <td id=\"T_b8508240_c842_11ea_9866_e86f38d9ac3arow4_col2\" class=\"data row4 col2\" >6.002016</td>\n",
       "                        <td id=\"T_b8508240_c842_11ea_9866_e86f38d9ac3arow4_col3\" class=\"data row4 col3\" >#e570ff</td>\n",
       "            </tr>\n",
       "            <tr>\n",
       "                        <th id=\"T_b8508240_c842_11ea_9866_e86f38d9ac3alevel0_row5\" class=\"row_heading level0 row5\" >5</th>\n",
       "                        <td id=\"T_b8508240_c842_11ea_9866_e86f38d9ac3arow5_col0\" class=\"data row5 col0\" >6.063507</td>\n",
       "                        <td id=\"T_b8508240_c842_11ea_9866_e86f38d9ac3arow5_col1\" class=\"data row5 col1\" >6.048134</td>\n",
       "                        <td id=\"T_b8508240_c842_11ea_9866_e86f38d9ac3arow5_col2\" class=\"data row5 col2\" >6.032762</td>\n",
       "                        <td id=\"T_b8508240_c842_11ea_9866_e86f38d9ac3arow5_col3\" class=\"data row5 col3\" >#e986ff</td>\n",
       "            </tr>\n",
       "            <tr>\n",
       "                        <th id=\"T_b8508240_c842_11ea_9866_e86f38d9ac3alevel0_row6\" class=\"row_heading level0 row6\" >6</th>\n",
       "                        <td id=\"T_b8508240_c842_11ea_9866_e86f38d9ac3arow6_col0\" class=\"data row6 col0\" >6.094253</td>\n",
       "                        <td id=\"T_b8508240_c842_11ea_9866_e86f38d9ac3arow6_col1\" class=\"data row6 col1\" >6.078880</td>\n",
       "                        <td id=\"T_b8508240_c842_11ea_9866_e86f38d9ac3arow6_col2\" class=\"data row6 col2\" >6.063507</td>\n",
       "                        <td id=\"T_b8508240_c842_11ea_9866_e86f38d9ac3arow6_col3\" class=\"data row6 col3\" >#ed9cff</td>\n",
       "            </tr>\n",
       "            <tr>\n",
       "                        <th id=\"T_b8508240_c842_11ea_9866_e86f38d9ac3alevel0_row7\" class=\"row_heading level0 row7\" >7</th>\n",
       "                        <td id=\"T_b8508240_c842_11ea_9866_e86f38d9ac3arow7_col0\" class=\"data row7 col0\" >6.124998</td>\n",
       "                        <td id=\"T_b8508240_c842_11ea_9866_e86f38d9ac3arow7_col1\" class=\"data row7 col1\" >6.109626</td>\n",
       "                        <td id=\"T_b8508240_c842_11ea_9866_e86f38d9ac3arow7_col2\" class=\"data row7 col2\" >6.094253</td>\n",
       "                        <td id=\"T_b8508240_c842_11ea_9866_e86f38d9ac3arow7_col3\" class=\"data row7 col3\" >#f1b2ff</td>\n",
       "            </tr>\n",
       "            <tr>\n",
       "                        <th id=\"T_b8508240_c842_11ea_9866_e86f38d9ac3alevel0_row8\" class=\"row_heading level0 row8\" >8</th>\n",
       "                        <td id=\"T_b8508240_c842_11ea_9866_e86f38d9ac3arow8_col0\" class=\"data row8 col0\" >6.155744</td>\n",
       "                        <td id=\"T_b8508240_c842_11ea_9866_e86f38d9ac3arow8_col1\" class=\"data row8 col1\" >6.140371</td>\n",
       "                        <td id=\"T_b8508240_c842_11ea_9866_e86f38d9ac3arow8_col2\" class=\"data row8 col2\" >6.124998</td>\n",
       "                        <td id=\"T_b8508240_c842_11ea_9866_e86f38d9ac3arow8_col3\" class=\"data row8 col3\" >#f5c8ff</td>\n",
       "            </tr>\n",
       "            <tr>\n",
       "                        <th id=\"T_b8508240_c842_11ea_9866_e86f38d9ac3alevel0_row9\" class=\"row_heading level0 row9\" >9</th>\n",
       "                        <td id=\"T_b8508240_c842_11ea_9866_e86f38d9ac3arow9_col0\" class=\"data row9 col0\" >6.186490</td>\n",
       "                        <td id=\"T_b8508240_c842_11ea_9866_e86f38d9ac3arow9_col1\" class=\"data row9 col1\" >6.171117</td>\n",
       "                        <td id=\"T_b8508240_c842_11ea_9866_e86f38d9ac3arow9_col2\" class=\"data row9 col2\" >6.155744</td>\n",
       "                        <td id=\"T_b8508240_c842_11ea_9866_e86f38d9ac3arow9_col3\" class=\"data row9 col3\" >#f9deff</td>\n",
       "            </tr>\n",
       "    </tbody></table>"
      ],
      "text/plain": [
       "<pandas.io.formats.style.Styler at 0x216751fbfc8>"
      ]
     },
     "execution_count": 42,
     "metadata": {},
     "output_type": "execute_result"
    }
   ],
   "source": [
    "#Image Legend\n",
    "df=defaultdict(list)\n",
    "for product in IndexResponse['Features']:\n",
    "    Legend = product['attributes']['Legend']\n",
    "    \n",
    "for val in Legend:\n",
    "    df['Max'].append(float(val['Max']))\n",
    "    df['Mean'].append(float(val['Mean']))\n",
    "    df['Min'].append(float(val['Min']))\n",
    "    df['Color'].append(val['color'])\n",
    "#     df['Range'] = ['Low','Medium','High']\n",
    "    \n",
    "legenddf = pd.DataFrame.from_dict(df)    \n",
    "legenddf.style.applymap(lambda x:\"background-color: %s\"%x, subset=['Color'])"
   ]
  },
  {
   "cell_type": "code",
   "execution_count": 43,
   "metadata": {},
   "outputs": [
    {
     "data": {
      "text/html": [
       "<img src=\"data:image/png;base64, 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\" width=\"500\" height=\"500\"/>"
      ],
      "text/plain": [
       "<IPython.core.display.Image object>"
      ]
     },
     "execution_count": 43,
     "metadata": {},
     "output_type": "execute_result"
    }
   ],
   "source": [
    "# IndexImage = indexdf.loc[indexdf['Index'] == 'POLARIS_Soils','pngb64'].iloc[0]\n",
    "IndexImage = IndexResponse[\"Features\"][0]['attributes'][\"pngb64\"]\n",
    "Image(url = IndexImage, width = 500, height = 500)"
   ]
  },
  {
   "cell_type": "code",
   "execution_count": null,
   "metadata": {},
   "outputs": [],
   "source": []
  }
 ],
 "metadata": {
  "kernelspec": {
   "display_name": "Python 3",
   "language": "python",
   "name": "python3"
  },
  "language_info": {
   "codemirror_mode": {
    "name": "ipython",
    "version": 3
   },
   "file_extension": ".py",
   "mimetype": "text/x-python",
   "name": "python",
   "nbconvert_exporter": "python",
   "pygments_lexer": "ipython3",
   "version": "3.7.6"
  }
 },
 "nbformat": 4,
 "nbformat_minor": 2
}
