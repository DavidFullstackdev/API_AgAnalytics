{
 "cells": [
  {
   "cell_type": "markdown",
   "metadata": {},
   "source": [
    "# Ag-Analytics® - Yield Model API"
   ]
  },
  {
   "cell_type": "markdown",
   "metadata": {},
   "source": [
    "The Ag-Analytics® Yield Forecast API uses Artificial Intelligence algorithms to forecast the yield on a given field, \n",
    "based on geospatial data.\n",
    "\n",
    "Crop yield is a function of a large set of parameters, many of which are outside the control of the farmer. \n",
    "The forces of nature are unpredictable and can make or break a growing season, while chemical applications can be \n",
    "rendered ineffective by new weeds or pests. The current version of the yield model is relatively simple as compared \n",
    "to the number of factors that actually influence yield, however, it still provides insight and predictive power. \n",
    "Current yield model factors are location, crop season, seeding characteristics, planting date, application characteristics, \n",
    "soil characteristics, past growing history, weather data, and satellite imagery.\n"
   ]
  },
  {
   "cell_type": "code",
   "execution_count": 1,
   "metadata": {},
   "outputs": [
    {
     "data": {
      "application/javascript": [
       "IPython.notebook.set_autosave_interval(0)"
      ]
     },
     "metadata": {},
     "output_type": "display_data"
    },
    {
     "name": "stdout",
     "output_type": "stream",
     "text": [
      "Autosave disabled\n"
     ]
    }
   ],
   "source": [
    "import requests\n",
    "import json\n",
    "import time\n",
    "import os\n",
    "from pandas.io.json import json_normalize\n",
    "from collections import defaultdict\n",
    "import pandas as pd\n",
    "import zipfile, io\n",
    "from IPython.display import Image\n",
    "\n",
    "%matplotlib inline\n",
    "%autosave 0"
   ]
  },
  {
   "cell_type": "markdown",
   "metadata": {},
   "source": [
    "### Request Parameter Details:\n",
    "\n",
    "####Request URL: https://ag-analytics.azure-api.net/yieldforecast/\n",
    "\n",
    "####Request Type: POST\n",
    "\n",
    "####Request Content-Type: application/json\n",
    "\n",
    "1) ***MODELNAME*** (Type of Model, text, required): The type of AI Model\n",
    "e.g. \"NN\"\n",
    "\n",
    "2) ***SHAPE*** (GeoJson, text, required): The shape of a field in GeoJson format\n",
    "\n",
    "3) ***ScalarVariables*** (Json, text, required): The constants for the given Shape\n",
    "\n",
    "4) ***CropSeason*** (Text, required): Growing season year for prediction. 2013 to 2019. Ex. “2018”\n",
    "\n",
    "5) ***PlantingDay1*** (ScalarVariables, text, required): Date when planting occurred for crop of interest.\n",
    "e.g. PlantingDay1:\"05/20/2018\" (key, value in ScalarVariables Json)\n",
    "\n",
    "6) ***SeedingDensity*** (ScalarVariables,float,optional): The seeding density applied. Default 0\n",
    "e.g. SeedingDensity:30000 (key, value in ScalarVariables Json)\n",
    "\n",
    "7) ***HarvestDay*** (ScalarVariables, text, required): Date when harvest is expected.\n",
    "e.g. HarvestDay:“10/20/2018” (key, value in ScalarVariables Json)\n",
    "\n",
    "In order to get Ocp-Apim-Subscription-Key, please click on this link https://analytics.ag/Session/SignInToAPIPayment"
   ]
  },
  {
   "cell_type": "markdown",
   "metadata": {},
   "source": [
    "### Request Parameters"
   ]
  },
  {
   "cell_type": "code",
   "execution_count": 2,
   "metadata": {},
   "outputs": [],
   "source": [
    "values = {\n",
    "\"MODELNAME\": \"NN\",\n",
    "\"SHAPE\": \"{\\\"type\\\":\\\"Feature\\\",\\\"geometry\\\":{\\\"type\\\":\\\"Polygon\\\",\\\"coordinates\\\":[[[-89.199484,40.972729],[-89.199773,40.97258],[-89.200135,40.972415],[-89.20034,40.972318],[-89.200445,40.972177],[-89.200439,40.972001],[-89.200404,40.971815],[-89.200245,40.971599],[-89.20004,40.971397],[-89.199869,40.971233],[-89.199865,40.971097],[-89.199952,40.970952],[-89.200264,40.97078],[-89.200517,40.970664],[-89.200903,40.970471],[-89.201168,40.970345],[-89.201324,40.970277],[-89.201407,40.970174],[-89.201428,40.970042],[-89.20271,40.970005],[-89.202738,40.970421],[-89.202844,40.970431],[-89.202851,40.970648],[-89.203123,40.970666],[-89.203216,40.973626],[-89.20332,40.973635],[-89.203281,40.972154],[-89.203277,40.972049],[-89.203227,40.970607],[-89.204645,40.97055],[-89.204639,40.970427],[-89.205456,40.970446],[-89.205638,40.970467],[-89.206002,40.970527],[-89.206306,40.97059],[-89.206516,40.970642],[-89.206711,40.97061],[-89.20688,40.970542],[-89.207086,40.970492],[-89.207267,40.970414],[-89.207449,40.970364],[-89.207667,40.970286],[-89.207849,40.970255],[-89.208057,40.970251],[-89.208287,40.970328],[-89.208494,40.970369],[-89.208672,40.970421],[-89.208866,40.970506],[-89.208972,40.970511],[-89.209009,40.970595],[-89.20893,40.970671],[-89.208736,40.970787],[-89.208535,40.970909],[-89.208325,40.971052],[-89.207907,40.971306],[-89.207633,40.971478],[-89.207313,40.971574],[-89.207065,40.971645],[-89.206566,40.971699],[-89.206246,40.971784],[-89.205998,40.971878],[-89.205548,40.972042],[-89.205013,40.97232],[-89.20468,40.972494],[-89.204246,40.972725],[-89.203988,40.972931],[-89.203819,40.973168],[-89.203666,40.973428],[-89.203616,40.973685],[-89.203552,40.973966],[-89.203548,40.9743],[-89.203411,40.974615],[-89.203284,40.974906],[-89.202723,40.975587],[-89.20283,40.975719],[-89.203383,40.975106],[-89.203522,40.974847],[-89.203658,40.974521],[-89.203723,40.974241],[-89.20381,40.97376],[-89.203891,40.973546],[-89.20407,40.973197],[-89.204197,40.973016],[-89.204369,40.972868],[-89.204686,40.972672],[-89.205018,40.972499],[-89.205351,40.972314],[-89.205742,40.972139],[-89.206047,40.971999],[-89.206367,40.971904],[-89.206907,40.971771],[-89.207303,40.971719],[-89.207551,40.971658],[-89.207846,40.971535],[-89.207938,40.971481],[-89.208059,40.971448],[-89.208267,40.971295],[-89.208534,40.971115],[-89.209089,40.970762],[-89.209108,40.971493],[-89.209143,40.972829],[-89.209176,40.974108],[-89.209236,40.977186],[-89.20442,40.977285],[-89.199613,40.977383],[-89.199533,40.974593],[-89.199484,40.972729]]]},\\\"properties\\\":{\\\"OBJECTID\\\":5102679,\\\"CALCACRES\\\":145.08999634,\\\"CALCACRES2\\\":null},\\\"id\\\":5102679}\",\n",
    "\"ScalarVariables\": {\n",
    "\"CropSeason\": \"2018\",\n",
    "\"PlantingDay1\": \"05/20/2018\",\n",
    "\"SeedingDensity\": \"30000\",\n",
    "\"HarvestDay\": \"10/20/2018\"\n",
    "}\n",
    "}\n",
    "\n",
    "# Basic Header Pattern.\n",
    "headers={'Content-Type':'application/json'}\n",
    "\n",
    "# Header for using a subscription key.\n",
    "# headers={'content-type': \"application/json\",'Ocp-Apim-Subscription-Key': \"xxxxxxxxxxxxxxxxxxxxxxxxxxxxxxxxxxx\"}  \n"
   ]
  },
  {
   "cell_type": "markdown",
   "metadata": {},
   "source": [
    "### API Function"
   ]
  },
  {
   "cell_type": "code",
   "execution_count": 4,
   "metadata": {},
   "outputs": [],
   "source": [
    "def yieldmodel(values,headers):\n",
    "    try:\n",
    "#         url = \"https://ag-analytics.azure-api.net/yieldforecast/\"\n",
    "        url = \"https://ag-analytics.azure-api.net/yieldforecast/\"\n",
    "        \n",
    "     \n",
    "        response = requests.post(url, json=values, headers=headers).json()\n",
    "        \n",
    "        print(response)\n",
    "\n",
    "        return response\n",
    "    \n",
    "    except Exception as e:\n",
    "        print(e)\n",
    "        raise e"
   ]
  },
  {
   "cell_type": "markdown",
   "metadata": {},
   "source": [
    "### Calling API Function and Displaying Result"
   ]
  },
  {
   "cell_type": "code",
   "execution_count": 5,
   "metadata": {},
   "outputs": [
    {
     "name": "stdout",
     "output_type": "stream",
     "text": [
      "{'raster_filename': 'result_yieldraster_20200623_155936_4994.tif', 'rasterinfo': [{'attributes': {'CellSize': [0.0001, -0.0001], 'CoordinateSystem': 'GEOGCS[\"WGS 84\",DATUM[\"WGS_1984\",SPHEROID[\"WGS 84\",6378137,298.257223563,AUTHORITY[\"EPSG\",\"7030\"]],AUTHORITY[\"EPSG\",\"6326\"]],PRIMEM[\"Greenwich\",0],UNIT[\"degree\",0.0174532925199433],AUTHORITY[\"EPSG\",\"4326\"]]', 'Extent': '-89.209236, 40.969983000000006, -89.19953600000001, 40.977383', 'Legend': [{'Area': '11.62 %', 'Count': 765, 'CountAllPixels': 6584, 'Max': 73.60094536675348, 'Mean': 65.16615910000272, 'Min': 56.73137283325195, 'color': '#ff0000'}, {'Area': '19.7 %', 'Count': 1297, 'CountAllPixels': 6584, 'Max': 90.47051790025499, 'Mean': 82.03573163350424, 'Min': 73.60094536675348, 'color': '#ff2a1a'}, {'Area': '17.1 %', 'Count': 1126, 'CountAllPixels': 6584, 'Max': 107.3400904337565, 'Mean': 98.90530416700574, 'Min': 90.47051790025499, 'color': '#ff5435'}, {'Area': '15.34 %', 'Count': 1010, 'CountAllPixels': 6584, 'Max': 124.20966296725803, 'Mean': 115.77487670050726, 'Min': 107.3400904337565, 'color': '#ff7f50'}, {'Area': '11.1 %', 'Count': 731, 'CountAllPixels': 6584, 'Max': 141.07923550075955, 'Mean': 132.6444492340088, 'Min': 124.20966296725803, 'color': '#cc9840'}, {'Area': '9.95 %', 'Count': 655, 'CountAllPixels': 6584, 'Max': 157.94880803426105, 'Mean': 149.51402176751031, 'Min': 141.07923550075955, 'color': '#99b230'}, {'Area': '8.17 %', 'Count': 538, 'CountAllPixels': 6584, 'Max': 174.81838056776257, 'Mean': 166.3835943010118, 'Min': 157.94880803426105, 'color': '#66cb20'}, {'Area': '5.1 %', 'Count': 336, 'CountAllPixels': 6584, 'Max': 191.6879531012641, 'Mean': 183.25316683451334, 'Min': 174.81838056776257, 'color': '#33e510'}, {'Area': '1.91 %', 'Count': 126, 'CountAllPixels': 6584, 'Max': 208.55752563476562, 'Mean': 200.12273936801486, 'Min': 191.6879531012641, 'color': '#00ff00'}], 'Matrix': [74, 97], 'Max': 208.55752563476562, 'Mean': 114.80323369361071, 'Min': 56.73137283325195, 'OID': 0, 'Percentile5': 66.23199424743653, 'Percentile95': 180.0384811401367, 'Variety': 'NoVariety', 'pngb64': 'data:image/png;base64, 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'}}]}\n"
     ]
    }
   ],
   "source": [
    "yield_response=yieldmodel(values,headers)"
   ]
  },
  {
   "cell_type": "markdown",
   "metadata": {},
   "source": [
    "### Displaying Output Image"
   ]
  },
  {
   "cell_type": "code",
   "execution_count": 6,
   "metadata": {},
   "outputs": [
    {
     "data": {
      "text/html": [
       "<style  type=\"text/css\" >\n",
       "    #T_d9b31958_b56a_11ea_ae08_e86f38d9ac3arow0_col4 {\n",
       "            background-color:  #ff0000;\n",
       "        }    #T_d9b31958_b56a_11ea_ae08_e86f38d9ac3arow1_col4 {\n",
       "            background-color:  #ff2a1a;\n",
       "        }    #T_d9b31958_b56a_11ea_ae08_e86f38d9ac3arow2_col4 {\n",
       "            background-color:  #ff5435;\n",
       "        }    #T_d9b31958_b56a_11ea_ae08_e86f38d9ac3arow3_col4 {\n",
       "            background-color:  #ff7f50;\n",
       "        }    #T_d9b31958_b56a_11ea_ae08_e86f38d9ac3arow4_col4 {\n",
       "            background-color:  #cc9840;\n",
       "        }    #T_d9b31958_b56a_11ea_ae08_e86f38d9ac3arow5_col4 {\n",
       "            background-color:  #99b230;\n",
       "        }    #T_d9b31958_b56a_11ea_ae08_e86f38d9ac3arow6_col4 {\n",
       "            background-color:  #66cb20;\n",
       "        }    #T_d9b31958_b56a_11ea_ae08_e86f38d9ac3arow7_col4 {\n",
       "            background-color:  #33e510;\n",
       "        }    #T_d9b31958_b56a_11ea_ae08_e86f38d9ac3arow8_col4 {\n",
       "            background-color:  #00ff00;\n",
       "        }</style><table id=\"T_d9b31958_b56a_11ea_ae08_e86f38d9ac3a\" ><thead>    <tr>        <th class=\"blank level0\" ></th>        <th class=\"col_heading level0 col0\" >Area %</th>        <th class=\"col_heading level0 col1\" >Min</th>        <th class=\"col_heading level0 col2\" >Max</th>        <th class=\"col_heading level0 col3\" >Mean</th>        <th class=\"col_heading level0 col4\" >Color</th>    </tr></thead><tbody>\n",
       "                <tr>\n",
       "                        <th id=\"T_d9b31958_b56a_11ea_ae08_e86f38d9ac3alevel0_row0\" class=\"row_heading level0 row0\" >0</th>\n",
       "                        <td id=\"T_d9b31958_b56a_11ea_ae08_e86f38d9ac3arow0_col0\" class=\"data row0 col0\" >11.62 %</td>\n",
       "                        <td id=\"T_d9b31958_b56a_11ea_ae08_e86f38d9ac3arow0_col1\" class=\"data row0 col1\" >56.731373</td>\n",
       "                        <td id=\"T_d9b31958_b56a_11ea_ae08_e86f38d9ac3arow0_col2\" class=\"data row0 col2\" >73.600945</td>\n",
       "                        <td id=\"T_d9b31958_b56a_11ea_ae08_e86f38d9ac3arow0_col3\" class=\"data row0 col3\" >65.166159</td>\n",
       "                        <td id=\"T_d9b31958_b56a_11ea_ae08_e86f38d9ac3arow0_col4\" class=\"data row0 col4\" >#ff0000</td>\n",
       "            </tr>\n",
       "            <tr>\n",
       "                        <th id=\"T_d9b31958_b56a_11ea_ae08_e86f38d9ac3alevel0_row1\" class=\"row_heading level0 row1\" >1</th>\n",
       "                        <td id=\"T_d9b31958_b56a_11ea_ae08_e86f38d9ac3arow1_col0\" class=\"data row1 col0\" >19.7 %</td>\n",
       "                        <td id=\"T_d9b31958_b56a_11ea_ae08_e86f38d9ac3arow1_col1\" class=\"data row1 col1\" >73.600945</td>\n",
       "                        <td id=\"T_d9b31958_b56a_11ea_ae08_e86f38d9ac3arow1_col2\" class=\"data row1 col2\" >90.470518</td>\n",
       "                        <td id=\"T_d9b31958_b56a_11ea_ae08_e86f38d9ac3arow1_col3\" class=\"data row1 col3\" >82.035732</td>\n",
       "                        <td id=\"T_d9b31958_b56a_11ea_ae08_e86f38d9ac3arow1_col4\" class=\"data row1 col4\" >#ff2a1a</td>\n",
       "            </tr>\n",
       "            <tr>\n",
       "                        <th id=\"T_d9b31958_b56a_11ea_ae08_e86f38d9ac3alevel0_row2\" class=\"row_heading level0 row2\" >2</th>\n",
       "                        <td id=\"T_d9b31958_b56a_11ea_ae08_e86f38d9ac3arow2_col0\" class=\"data row2 col0\" >17.1 %</td>\n",
       "                        <td id=\"T_d9b31958_b56a_11ea_ae08_e86f38d9ac3arow2_col1\" class=\"data row2 col1\" >90.470518</td>\n",
       "                        <td id=\"T_d9b31958_b56a_11ea_ae08_e86f38d9ac3arow2_col2\" class=\"data row2 col2\" >107.340090</td>\n",
       "                        <td id=\"T_d9b31958_b56a_11ea_ae08_e86f38d9ac3arow2_col3\" class=\"data row2 col3\" >98.905304</td>\n",
       "                        <td id=\"T_d9b31958_b56a_11ea_ae08_e86f38d9ac3arow2_col4\" class=\"data row2 col4\" >#ff5435</td>\n",
       "            </tr>\n",
       "            <tr>\n",
       "                        <th id=\"T_d9b31958_b56a_11ea_ae08_e86f38d9ac3alevel0_row3\" class=\"row_heading level0 row3\" >3</th>\n",
       "                        <td id=\"T_d9b31958_b56a_11ea_ae08_e86f38d9ac3arow3_col0\" class=\"data row3 col0\" >15.34 %</td>\n",
       "                        <td id=\"T_d9b31958_b56a_11ea_ae08_e86f38d9ac3arow3_col1\" class=\"data row3 col1\" >107.340090</td>\n",
       "                        <td id=\"T_d9b31958_b56a_11ea_ae08_e86f38d9ac3arow3_col2\" class=\"data row3 col2\" >124.209663</td>\n",
       "                        <td id=\"T_d9b31958_b56a_11ea_ae08_e86f38d9ac3arow3_col3\" class=\"data row3 col3\" >115.774877</td>\n",
       "                        <td id=\"T_d9b31958_b56a_11ea_ae08_e86f38d9ac3arow3_col4\" class=\"data row3 col4\" >#ff7f50</td>\n",
       "            </tr>\n",
       "            <tr>\n",
       "                        <th id=\"T_d9b31958_b56a_11ea_ae08_e86f38d9ac3alevel0_row4\" class=\"row_heading level0 row4\" >4</th>\n",
       "                        <td id=\"T_d9b31958_b56a_11ea_ae08_e86f38d9ac3arow4_col0\" class=\"data row4 col0\" >11.1 %</td>\n",
       "                        <td id=\"T_d9b31958_b56a_11ea_ae08_e86f38d9ac3arow4_col1\" class=\"data row4 col1\" >124.209663</td>\n",
       "                        <td id=\"T_d9b31958_b56a_11ea_ae08_e86f38d9ac3arow4_col2\" class=\"data row4 col2\" >141.079236</td>\n",
       "                        <td id=\"T_d9b31958_b56a_11ea_ae08_e86f38d9ac3arow4_col3\" class=\"data row4 col3\" >132.644449</td>\n",
       "                        <td id=\"T_d9b31958_b56a_11ea_ae08_e86f38d9ac3arow4_col4\" class=\"data row4 col4\" >#cc9840</td>\n",
       "            </tr>\n",
       "            <tr>\n",
       "                        <th id=\"T_d9b31958_b56a_11ea_ae08_e86f38d9ac3alevel0_row5\" class=\"row_heading level0 row5\" >5</th>\n",
       "                        <td id=\"T_d9b31958_b56a_11ea_ae08_e86f38d9ac3arow5_col0\" class=\"data row5 col0\" >9.95 %</td>\n",
       "                        <td id=\"T_d9b31958_b56a_11ea_ae08_e86f38d9ac3arow5_col1\" class=\"data row5 col1\" >141.079236</td>\n",
       "                        <td id=\"T_d9b31958_b56a_11ea_ae08_e86f38d9ac3arow5_col2\" class=\"data row5 col2\" >157.948808</td>\n",
       "                        <td id=\"T_d9b31958_b56a_11ea_ae08_e86f38d9ac3arow5_col3\" class=\"data row5 col3\" >149.514022</td>\n",
       "                        <td id=\"T_d9b31958_b56a_11ea_ae08_e86f38d9ac3arow5_col4\" class=\"data row5 col4\" >#99b230</td>\n",
       "            </tr>\n",
       "            <tr>\n",
       "                        <th id=\"T_d9b31958_b56a_11ea_ae08_e86f38d9ac3alevel0_row6\" class=\"row_heading level0 row6\" >6</th>\n",
       "                        <td id=\"T_d9b31958_b56a_11ea_ae08_e86f38d9ac3arow6_col0\" class=\"data row6 col0\" >8.17 %</td>\n",
       "                        <td id=\"T_d9b31958_b56a_11ea_ae08_e86f38d9ac3arow6_col1\" class=\"data row6 col1\" >157.948808</td>\n",
       "                        <td id=\"T_d9b31958_b56a_11ea_ae08_e86f38d9ac3arow6_col2\" class=\"data row6 col2\" >174.818381</td>\n",
       "                        <td id=\"T_d9b31958_b56a_11ea_ae08_e86f38d9ac3arow6_col3\" class=\"data row6 col3\" >166.383594</td>\n",
       "                        <td id=\"T_d9b31958_b56a_11ea_ae08_e86f38d9ac3arow6_col4\" class=\"data row6 col4\" >#66cb20</td>\n",
       "            </tr>\n",
       "            <tr>\n",
       "                        <th id=\"T_d9b31958_b56a_11ea_ae08_e86f38d9ac3alevel0_row7\" class=\"row_heading level0 row7\" >7</th>\n",
       "                        <td id=\"T_d9b31958_b56a_11ea_ae08_e86f38d9ac3arow7_col0\" class=\"data row7 col0\" >5.1 %</td>\n",
       "                        <td id=\"T_d9b31958_b56a_11ea_ae08_e86f38d9ac3arow7_col1\" class=\"data row7 col1\" >174.818381</td>\n",
       "                        <td id=\"T_d9b31958_b56a_11ea_ae08_e86f38d9ac3arow7_col2\" class=\"data row7 col2\" >191.687953</td>\n",
       "                        <td id=\"T_d9b31958_b56a_11ea_ae08_e86f38d9ac3arow7_col3\" class=\"data row7 col3\" >183.253167</td>\n",
       "                        <td id=\"T_d9b31958_b56a_11ea_ae08_e86f38d9ac3arow7_col4\" class=\"data row7 col4\" >#33e510</td>\n",
       "            </tr>\n",
       "            <tr>\n",
       "                        <th id=\"T_d9b31958_b56a_11ea_ae08_e86f38d9ac3alevel0_row8\" class=\"row_heading level0 row8\" >8</th>\n",
       "                        <td id=\"T_d9b31958_b56a_11ea_ae08_e86f38d9ac3arow8_col0\" class=\"data row8 col0\" >1.91 %</td>\n",
       "                        <td id=\"T_d9b31958_b56a_11ea_ae08_e86f38d9ac3arow8_col1\" class=\"data row8 col1\" >191.687953</td>\n",
       "                        <td id=\"T_d9b31958_b56a_11ea_ae08_e86f38d9ac3arow8_col2\" class=\"data row8 col2\" >208.557526</td>\n",
       "                        <td id=\"T_d9b31958_b56a_11ea_ae08_e86f38d9ac3arow8_col3\" class=\"data row8 col3\" >200.122739</td>\n",
       "                        <td id=\"T_d9b31958_b56a_11ea_ae08_e86f38d9ac3arow8_col4\" class=\"data row8 col4\" >#00ff00</td>\n",
       "            </tr>\n",
       "    </tbody></table>"
      ],
      "text/plain": [
       "<pandas.io.formats.style.Styler at 0x1f57d1ca948>"
      ]
     },
     "execution_count": 6,
     "metadata": {},
     "output_type": "execute_result"
    }
   ],
   "source": [
    "# Image legend.\n",
    "df=defaultdict(list)\n",
    "for resp in yield_response[\"rasterinfo\"][0]['attributes']['Legend']:\n",
    "    df['Area %'].append(resp['Area'])\n",
    "    df['Min'].append(resp['Min'])\n",
    "    df['Max'].append(resp['Max'])\n",
    "    df['Mean'].append(resp['Mean'])\n",
    "    df['Color'].append(resp['color'])\n",
    "\n",
    "# Create a Data Frame from the dictionary and display.\n",
    "yield_df=pd.DataFrame.from_dict(df)\n",
    "yield_df = yield_df.style.applymap(lambda x:\"background-color: %s\"%x, subset=['Color'])\n",
    "yield_df"
   ]
  },
  {
   "cell_type": "code",
   "execution_count": 7,
   "metadata": {},
   "outputs": [
    {
     "data": {
      "text/html": [
       "<img src=\"data:image/png;base64, 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\" width=\"400\" height=\"200\"/>"
      ],
      "text/plain": [
       "<IPython.core.display.Image object>"
      ]
     },
     "execution_count": 7,
     "metadata": {},
     "output_type": "execute_result"
    }
   ],
   "source": [
    "# Display image of field.\n",
    "yield_image = yield_response[\"rasterinfo\"][0]['attributes'][\"pngb64\"]\n",
    "Image(url = yield_image, width = 400, height = 200)"
   ]
  },
  {
   "cell_type": "markdown",
   "metadata": {},
   "source": [
    "# GET Request"
   ]
  },
  {
   "cell_type": "markdown",
   "metadata": {},
   "source": [
    "GET request for downloading POST requested file to local machine."
   ]
  },
  {
   "cell_type": "code",
   "execution_count": 10,
   "metadata": {},
   "outputs": [
    {
     "name": "stdout",
     "output_type": "stream",
     "text": [
      "File check: result_yieldraster_20200623_155936_4994.tif\n"
     ]
    }
   ],
   "source": [
    "# Use user specified filename, otherwise use filename from above POST request.\n",
    "filename = '' # Specify filename. Set to '' if you want to use POST request file.\n",
    "\n",
    "# User specified local path where file will be downloaded.\n",
    "local_path = r\"C:\\<download path>\" # E.g., r\"C:\\Users\\John_Doe\\Documents\\rasters\"\n",
    "\n",
    "# Check if filename was specified.\n",
    "if len(filename) == 0:\n",
    "    filename = yield_response['raster_filename']\n",
    "    \n",
    "print('File check:', filename)\n",
    "\n",
    "# Create GET request payload.\n",
    "values = {'filename': filename}"
   ]
  },
  {
   "cell_type": "code",
   "execution_count": 11,
   "metadata": {},
   "outputs": [],
   "source": [
    "def yieldmodel_get(values, local_path):\n",
    "    try:\n",
    "#         url = \"https://ag-analytics.azure-api.net/yieldforecast/\"\n",
    "        url = \"https://ag-analytics.azure-api.net/yieldforecast/\"\n",
    "    \n",
    "        download_path = os.path.join(local_path, values['filename'])\n",
    "     \n",
    "        response = requests.get(url, params=values)\n",
    "        open(download_path, 'wb').write(response.content)\n",
    "        \n",
    "        print(response.url)\n",
    "\n",
    "        return response\n",
    "    \n",
    "    except Exception as e:\n",
    "        print(e)\n",
    "        raise e"
   ]
  },
  {
   "cell_type": "code",
   "execution_count": 12,
   "metadata": {},
   "outputs": [
    {
     "name": "stdout",
     "output_type": "stream",
     "text": [
      "https://ag-analytics.azure-api.net/yieldforecast/?filename=result_yieldraster_20200623_155936_4994.tif\n"
     ]
    },
    {
     "data": {
      "text/plain": [
       "<Response [200]>"
      ]
     },
     "execution_count": 12,
     "metadata": {},
     "output_type": "execute_result"
    }
   ],
   "source": [
    "yieldmodel_get(values, local_path)"
   ]
  },
  {
   "cell_type": "code",
   "execution_count": null,
   "metadata": {},
   "outputs": [],
   "source": []
  }
 ],
 "metadata": {
  "kernelspec": {
   "display_name": "Python 3",
   "language": "python",
   "name": "python3"
  },
  "language_info": {
   "codemirror_mode": {
    "name": "ipython",
    "version": 3
   },
   "file_extension": ".py",
   "mimetype": "text/x-python",
   "name": "python",
   "nbconvert_exporter": "python",
   "pygments_lexer": "ipython3",
   "version": "3.7.6"
  }
 },
 "nbformat": 4,
 "nbformat_minor": 2
}
