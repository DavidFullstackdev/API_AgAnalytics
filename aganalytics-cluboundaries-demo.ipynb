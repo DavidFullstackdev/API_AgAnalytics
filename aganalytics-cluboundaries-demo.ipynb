{
 "cells": [
  {
   "cell_type": "markdown",
   "metadata": {},
   "source": [
    "# Ag Analytics- BoundaryAI -Demo"
   ]
  },
  {
   "cell_type": "markdown",
   "metadata": {},
   "source": [
    "Common Land Unit (CLU) boundaries are farm/field boundaries used by United States Department of Agriculture (USDA) in the delivery of certain farm programs.\n",
    "\n"
   ]
  },
  {
   "cell_type": "code",
   "execution_count": null,
   "metadata": {},
   "outputs": [],
   "source": [
    "import requests\n",
    "import json\n",
    "import time\n",
    "from pandas.io.json import json_normalize\n",
    "import requests, zipfile, io\n",
    "%matplotlib inline\n",
    "import geopandas as gpd\n",
    "%autosave 0"
   ]
  },
  {
   "cell_type": "markdown",
   "metadata": {},
   "source": [
    "### API Details\n",
    "\n",
    "####Request URL:https://ag-analytics.azure-api.net/CommonLandUnitBoundary/get?geometry={geometry}\n",
    "\n",
    "####Request parameters:\n",
    "\n",
    "***geometry - *** string\n",
    "\n",
    "\n",
    "\n",
    "***f - ***  string(geojson/json)\n",
    "\n",
    "\n",
    "The geometry to apply as the spatial filter. \n",
    "The structure of the geometry is the same as the structure of the json/geojson \n",
    "\n",
    "\n",
    "In order to get Ocp-Apim-Subscription-Key, please click on this link https://ag-analytics.org/developer/Session/SignInFromPayment\n",
    "\n"
   ]
  },
  {
   "cell_type": "code",
   "execution_count": null,
   "metadata": {},
   "outputs": [],
   "source": [
    "geometry={\"xmin\":-88,\"ymin\":40.2,\"xmax\":-88.126,\"ymax\":40.22,\"spatialReference\":{\"wkid\":4326}}\n",
    "f=\"geojson\"\n",
    "headers={'Ocp-Apim-Subscription-Key': 'xxxxxxxxxxxxxxxxxxxxxxxxxxxxxxxxx'}"
   ]
  },
  {
   "cell_type": "markdown",
   "metadata": {},
   "source": [
    "### API Function"
   ]
  },
  {
   "cell_type": "code",
   "execution_count": null,
   "metadata": {},
   "outputs": [],
   "source": [
    "def get_reverse_geocode_data(geometry,f,headers):\n",
    "    try:\n",
    "        url = 'https://ag-analytics.azure-api.net/CommonLandUnitBoundary/get?geometry={}&f={}'.format(geometry,f)\n",
    "        \n",
    "        \n",
    "        \n",
    "        response = (requests.get(url,headers=headers).text)\n",
    "      \n",
    "                \n",
    "        print(response)\n",
    "\n",
    "        \n",
    "        response_json = json.dumps(response)\n",
    "        time.sleep(0.5)\n",
    "        return response_json\n",
    "    \n",
    "    except Exception as e:\n",
    "        raise e"
   ]
  },
  {
   "cell_type": "markdown",
   "metadata": {},
   "source": [
    "### Calling API and Displaying Response API"
   ]
  },
  {
   "cell_type": "code",
   "execution_count": null,
   "metadata": {
    "scrolled": true
   },
   "outputs": [],
   "source": [
    "clu=get_reverse_geocode_data(geometry,f,headers)"
   ]
  },
  {
   "cell_type": "markdown",
   "metadata": {},
   "source": [
    "### Displaying Output Map"
   ]
  },
  {
   "cell_type": "code",
   "execution_count": null,
   "metadata": {},
   "outputs": [],
   "source": [
    "# Converting geojson response to shapefile\n",
    "\n",
    "def post_converttoshapefile(requestbody):\n",
    "    try:\n",
    "        url = \"https://ogre.adc4gis.com/convertJson\"\n",
    "     \n",
    "        response = (requests.post(url,data=requestbody))\n",
    "        print(response)\n",
    "        \n",
    "        z = zipfile.ZipFile(io.BytesIO(response.content))\n",
    "        z.extractall(\"./shapefiles/\")\n",
    "        \n",
    "        time.sleep(0.5)\n",
    "        return response\n",
    "    \n",
    "    except Exception as e:\n",
    "        raise e"
   ]
  },
  {
   "cell_type": "code",
   "execution_count": null,
   "metadata": {},
   "outputs": [],
   "source": [
    "requestbody={'json':clu,'skipFailures':\"on\",\"destination\":\"C://Users\"}\n",
    "\n",
    "# Function to generate shapefiles from geojson\n",
    "post_converttoshapefile(requestbody)\n",
    "\n",
    "\n",
    "# reading shapefile and plotting\n",
    "gdf = gpd.read_file('./shapefiles/OGRGeoJSON.shp')\n",
    "\n",
    "gdf.plot(column='CALCACRES', cmap=None,figsize=(100, 100))"
   ]
  },
  {
   "cell_type": "code",
   "execution_count": null,
   "metadata": {},
   "outputs": [],
   "source": []
  }
 ],
 "metadata": {
  "kernelspec": {
   "display_name": "Python 3",
   "language": "python",
   "name": "python3"
  },
  "language_info": {
   "codemirror_mode": {
    "name": "ipython",
    "version": 3
   },
   "file_extension": ".py",
   "mimetype": "text/x-python",
   "name": "python",
   "nbconvert_exporter": "python",
   "pygments_lexer": "ipython3",
   "version": "3.6.6"
  },
  "widgets": {
   "application/vnd.jupyter.widget-state+json": {
    "state": {},
    "version_major": 2,
    "version_minor": 0
   }
  }
 },
 "nbformat": 4,
 "nbformat_minor": 2
}
