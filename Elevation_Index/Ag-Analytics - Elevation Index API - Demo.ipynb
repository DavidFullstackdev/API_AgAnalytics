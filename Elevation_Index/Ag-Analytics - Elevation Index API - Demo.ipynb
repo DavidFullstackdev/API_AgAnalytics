{
 "cells": [
  {
   "cell_type": "markdown",
   "metadata": {},
   "source": [
    "# Ag-Analytics® - Elevation Index API "
   ]
  },
  {
   "cell_type": "markdown",
   "metadata": {},
   "source": [
    "Local elevation on a field can have a strong correlation with harvest yield. The correlation stems from the drainage dynamics that are present on a given field, with low areas being productive in dry years and high areas being productive in wet years. \n",
    "\n",
    "The Elevation Index API supports calculation of a set of elevation indices including field relative elevation, maximum slope, ,local Topographic Position Index(TPI), and local Topographic Roughness Index(TRI) for a given field elevation. "
   ]
  },
  {
   "cell_type": "markdown",
   "metadata": {},
   "source": [
    "### Required libraries"
   ]
  },
  {
   "cell_type": "code",
   "execution_count": 1,
   "metadata": {},
   "outputs": [
    {
     "data": {
      "application/javascript": [
       "IPython.notebook.set_autosave_interval(0)"
      ]
     },
     "metadata": {},
     "output_type": "display_data"
    },
    {
     "name": "stdout",
     "output_type": "stream",
     "text": [
      "Autosave disabled\n"
     ]
    }
   ],
   "source": [
    "import requests\n",
    "import json\n",
    "import time\n",
    "import os\n",
    "from pandas.io.json import json_normalize\n",
    "from collections import defaultdict\n",
    "import pandas as pd\n",
    "import zipfile, io\n",
    "from IPython.display import Image\n",
    "\n",
    "%matplotlib inline\n",
    "%autosave 0"
   ]
  },
  {
   "cell_type": "markdown",
   "metadata": {},
   "source": [
    "### Request Parameter Details"
   ]
  },
  {
   "cell_type": "markdown",
   "metadata": {},
   "source": [
    "Request URL:  https://ag-analytics.azure-api.net/elevation-index\n",
    "       \n",
    "1) __Shape__(geojson string): Geojson boundary of the area of interest (AOI).       \n",
    "       \n",
    "2) __index_list__(string): The elevation index of interest to retrieve.\n",
    "    \n",
    "    i. Relative_Elevation: Derived by calculating the z-score of every point in the field\n",
    "    \n",
    "    ii. Slop: The maximum slope of each point on the field is calculated by taking the gradient of the elevation for each point.\n",
    "    \n",
    "    iii.TPI: The topographic position index is a method of measuring the elevation of a given point with respect to a surrounding neighborhood of surrounding points. This index indicates the local extrema,or points of maximum and minimum elevation on a sub-field level. \n",
    "    \n",
    "    iV.TRI:  The topographic Roughness index express the amount of elevation difference between adjacent points on local field\n",
    "\n",
    "3) __Outside_Radius(optional)__: Outer radius of search area of each point. Used in TPI only.\n",
    "\n",
    "        (Ex:Outside_Radius =11 the outer search radius is 11 * cellsize. When cellsize is 0.001 of the elevation raster, the radius is about 11 * 8 = 88 meter\n",
    "\n",
    "4) __Inside_Radius(optional)__: Inner radius of search area. Used in TPI only.\n",
    "\n",
    "5) __Search_Radius(optional)__: Radius of computational box. search_radius = 1 => 3x3 box, 2 => 5x5 box, etc. Used in TRI only\n",
    "\n"
   ]
  },
  {
   "cell_type": "markdown",
   "metadata": {},
   "source": [
    "### API Function"
   ]
  },
  {
   "cell_type": "code",
   "execution_count": 16,
   "metadata": {},
   "outputs": [],
   "source": [
    "def ElevationIndex(values, headers):\n",
    "    try:\n",
    "        url = 'https://ag-analytics.azure-api.net/elevation-index'\n",
    "        \n",
    "        response = requests.post(url, json=values, headers=headers).json()\n",
    "\n",
    "        print(response)\n",
    "        \n",
    "        return response\n",
    "    \n",
    "    except Exception as e:\n",
    "        print(e)\n",
    "        raise e"
   ]
  },
  {
   "cell_type": "markdown",
   "metadata": {},
   "source": [
    "### Request with GeoJSON shape."
   ]
  },
  {
   "cell_type": "code",
   "execution_count": 30,
   "metadata": {},
   "outputs": [],
   "source": [
    "# Request as GeoJSON.\n",
    "values = {'Shape': '{\\\"type\\\":\\\"Feature\\\",\\\"geometry\\\":{\\\"type\\\":\\\"Polygon\\\",\\\"coordinates\\\":[[[-76.5907145, 42.443918], [-76.5898132, 42.4224745], [-76.5699863, 42.4230447], [-76.5710592, 42.4443296], [-76.5907145, 42.443918]]]},\\\"properties\\\":{\\\"OBJECTID\\\":4944402,\\\"CALCACRES\\\":46.15999985,\\\"CALCACRES2\\\":null},\\\"id\\\":4944402}',\n",
    "            'index_list':\"['TRI']\",\n",
    "            'Outside_Radius' :'5',\n",
    "            'Inside_Radius':'3',\n",
    "            'Search_Radius' :'2',\n",
    "            'Legend_Range': '10'\n",
    "}\n",
    "\n",
    "headers={'Content-Type':'application/json'}\n"
   ]
  },
  {
   "cell_type": "code",
   "execution_count": 31,
   "metadata": {},
   "outputs": [
    {
     "name": "stdout",
     "output_type": "stream",
     "text": [
      "{'TRI': 'raster_TRI_20200622205918465442.tif', 'features': [[{'attributes': {'CellSize': [9.259259269220297e-05, -9.259259269220297e-05], 'CoordinateSystem': 'GEOGCS[\"WGS 84\",DATUM[\"WGS_1984\",SPHEROID[\"WGS 84\",6378137,298.257223563,AUTHORITY[\"EPSG\",\"7030\"]],AUTHORITY[\"EPSG\",\"6326\"]],PRIMEM[\"Greenwich\",0],UNIT[\"degree\",0.0174532925199433],AUTHORITY[\"EPSG\",\"4326\"]]', 'Extent': '-76.5907145, 42.42238515553195, -76.57006635182964, 42.4443296', 'Legend': [{'Area': '10.0 %', 'Count': 4906, 'CountAllPixels': 49060, 'Max': 0.4233935952186585, 'Mean': 0.23043658919632437, 'Min': 0.03747958317399025, 'color': '#4d76d5'}, {'Area': '10.0 %', 'Count': 4906, 'CountAllPixels': 49060, 'Max': 0.6059746384620667, 'Mean': 0.5146841168403626, 'Min': 0.4233935952186585, 'color': '#738bbd'}, {'Area': '10.0 %', 'Count': 4906, 'CountAllPixels': 49060, 'Max': 0.7470613121986389, 'Mean': 0.6765179753303527, 'Min': 0.6059746384620667, 'color': '#99a1a6'}, {'Area': '10.0 %', 'Count': 4906, 'CountAllPixels': 49060, 'Max': 0.9067371487617494, 'Mean': 0.8268992304801941, 'Min': 0.7470613121986389, 'color': '#bfb68f'}, {'Area': '10.0 %', 'Count': 4906, 'CountAllPixels': 49060, 'Max': 1.080329418182373, 'Mean': 0.9935332834720612, 'Min': 0.9067371487617494, 'color': '#e5cc78'}, {'Area': '10.0 %', 'Count': 4906, 'CountAllPixels': 49060, 'Max': 1.2589396476745605, 'Mean': 1.1696345329284668, 'Min': 1.080329418182373, 'color': '#e5b470'}, {'Area': '10.0 %', 'Count': 4906, 'CountAllPixels': 49060, 'Max': 1.4528558373451226, 'Mean': 1.3558977425098415, 'Min': 1.2589396476745605, 'color': '#e69c69'}, {'Area': '10.0 %', 'Count': 4906, 'CountAllPixels': 49060, 'Max': 1.7247976064682011, 'Mean': 1.5888267219066619, 'Min': 1.4528558373451226, 'color': '#e68462'}, {'Area': '10.0 %', 'Count': 4906, 'CountAllPixels': 49060, 'Max': 2.1798481941223145, 'Mean': 1.9523229002952578, 'Min': 1.7247976064682011, 'color': '#e76c5b'}, {'Area': '10.0 %', 'Count': 4906, 'CountAllPixels': 49060, 'Max': 5.874935150146484, 'Mean': 4.027391672134399, 'Min': 2.1798481941223145, 'color': '#e85454'}], 'Matrix': [237, 223], 'Max': 5.874935150146484, 'Mean': 1.2156471014022827, 'Min': 0.03747958317399025, 'OID': 0, 'Percentile5': 0.2992626026272774, 'Percentile95': 2.547736132144926, 'Product': 'TRI', 'Std': 0.7506499428901579, 'Variety': 'NoVariety', 'pngb64': 'data:image/png;base64, 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'}}]]}\n"
     ]
    }
   ],
   "source": [
    "IndexResponse = ElevationIndex(values, headers)"
   ]
  },
  {
   "cell_type": "markdown",
   "metadata": {},
   "source": [
    "### Output Index Summary"
   ]
  },
  {
   "cell_type": "code",
   "execution_count": 32,
   "metadata": {},
   "outputs": [
    {
     "data": {
      "text/html": [
       "<div>\n",
       "<style scoped>\n",
       "    .dataframe tbody tr th:only-of-type {\n",
       "        vertical-align: middle;\n",
       "    }\n",
       "\n",
       "    .dataframe tbody tr th {\n",
       "        vertical-align: top;\n",
       "    }\n",
       "\n",
       "    .dataframe thead th {\n",
       "        text-align: right;\n",
       "    }\n",
       "</style>\n",
       "<table border=\"1\" class=\"dataframe\">\n",
       "  <thead>\n",
       "    <tr style=\"text-align: right;\">\n",
       "      <th></th>\n",
       "      <th>Index</th>\n",
       "      <th>Max</th>\n",
       "      <th>Mean</th>\n",
       "      <th>Min</th>\n",
       "      <th>pngb64</th>\n",
       "    </tr>\n",
       "  </thead>\n",
       "  <tbody>\n",
       "    <tr>\n",
       "      <th>0</th>\n",
       "      <td>TRI</td>\n",
       "      <td>5.874935</td>\n",
       "      <td>1.215647</td>\n",
       "      <td>0.03748</td>\n",
       "      <td>data:image/png;base64, iVBORw0KGgoAAAANSUhEUgA...</td>\n",
       "    </tr>\n",
       "  </tbody>\n",
       "</table>\n",
       "</div>"
      ],
      "text/plain": [
       "  Index       Max      Mean      Min  \\\n",
       "0   TRI  5.874935  1.215647  0.03748   \n",
       "\n",
       "                                              pngb64  \n",
       "0  data:image/png;base64, iVBORw0KGgoAAAANSUhEUgA...  "
      ]
     },
     "execution_count": 32,
     "metadata": {},
     "output_type": "execute_result"
    }
   ],
   "source": [
    "df=defaultdict(list)\n",
    "for value in IndexResponse['features']:\n",
    "    attributes = value[0]['attributes']\n",
    "    df['Index'].append(attributes['Product'])\n",
    "    df['Max'].append(float(attributes['Max']))\n",
    "    df['Mean'].append(float(attributes['Mean']))\n",
    "    df['Min'].append(float(attributes['Min']))\n",
    "    df['pngb64'].append(attributes['pngb64'])\n",
    "\n",
    "indexdf=pd.DataFrame.from_dict(df)\n",
    "#indexdf = indexdf.sort_values(by = ['Area'], ascending=False).style.applymap(lambda x:\"background-color: %s\"%x, subset=['Color'])\n",
    "indexdf"
   ]
  },
  {
   "cell_type": "markdown",
   "metadata": {},
   "source": [
    "### Displaying Index Image"
   ]
  },
  {
   "cell_type": "code",
   "execution_count": 33,
   "metadata": {},
   "outputs": [],
   "source": [
    "#####################################\n",
    "# Select one index to display. Must match one of the following: \n",
    "# ['Slope', 'Relative_Elevation', 'TPI', 'TRI']\n",
    "Index = 'TRI'\n",
    "######################################"
   ]
  },
  {
   "cell_type": "code",
   "execution_count": 34,
   "metadata": {},
   "outputs": [
    {
     "data": {
      "text/html": [
       "<style  type=\"text/css\" >\n",
       "    #T_4a405fe2_b4cb_11ea_82d2_40a8f0580b71row0_col3 {\n",
       "            background-color:  #4d76d5;\n",
       "        }    #T_4a405fe2_b4cb_11ea_82d2_40a8f0580b71row1_col3 {\n",
       "            background-color:  #738bbd;\n",
       "        }    #T_4a405fe2_b4cb_11ea_82d2_40a8f0580b71row2_col3 {\n",
       "            background-color:  #99a1a6;\n",
       "        }    #T_4a405fe2_b4cb_11ea_82d2_40a8f0580b71row3_col3 {\n",
       "            background-color:  #bfb68f;\n",
       "        }    #T_4a405fe2_b4cb_11ea_82d2_40a8f0580b71row4_col3 {\n",
       "            background-color:  #e5cc78;\n",
       "        }    #T_4a405fe2_b4cb_11ea_82d2_40a8f0580b71row5_col3 {\n",
       "            background-color:  #e5b470;\n",
       "        }    #T_4a405fe2_b4cb_11ea_82d2_40a8f0580b71row6_col3 {\n",
       "            background-color:  #e69c69;\n",
       "        }    #T_4a405fe2_b4cb_11ea_82d2_40a8f0580b71row7_col3 {\n",
       "            background-color:  #e68462;\n",
       "        }    #T_4a405fe2_b4cb_11ea_82d2_40a8f0580b71row8_col3 {\n",
       "            background-color:  #e76c5b;\n",
       "        }    #T_4a405fe2_b4cb_11ea_82d2_40a8f0580b71row9_col3 {\n",
       "            background-color:  #e85454;\n",
       "        }</style><table id=\"T_4a405fe2_b4cb_11ea_82d2_40a8f0580b71\" ><thead>    <tr>        <th class=\"blank level0\" ></th>        <th class=\"col_heading level0 col0\" >Max</th>        <th class=\"col_heading level0 col1\" >Mean</th>        <th class=\"col_heading level0 col2\" >Min</th>        <th class=\"col_heading level0 col3\" >Color</th>    </tr></thead><tbody>\n",
       "                <tr>\n",
       "                        <th id=\"T_4a405fe2_b4cb_11ea_82d2_40a8f0580b71level0_row0\" class=\"row_heading level0 row0\" >0</th>\n",
       "                        <td id=\"T_4a405fe2_b4cb_11ea_82d2_40a8f0580b71row0_col0\" class=\"data row0 col0\" >0.423394</td>\n",
       "                        <td id=\"T_4a405fe2_b4cb_11ea_82d2_40a8f0580b71row0_col1\" class=\"data row0 col1\" >0.230437</td>\n",
       "                        <td id=\"T_4a405fe2_b4cb_11ea_82d2_40a8f0580b71row0_col2\" class=\"data row0 col2\" >0.037480</td>\n",
       "                        <td id=\"T_4a405fe2_b4cb_11ea_82d2_40a8f0580b71row0_col3\" class=\"data row0 col3\" >#4d76d5</td>\n",
       "            </tr>\n",
       "            <tr>\n",
       "                        <th id=\"T_4a405fe2_b4cb_11ea_82d2_40a8f0580b71level0_row1\" class=\"row_heading level0 row1\" >1</th>\n",
       "                        <td id=\"T_4a405fe2_b4cb_11ea_82d2_40a8f0580b71row1_col0\" class=\"data row1 col0\" >0.605975</td>\n",
       "                        <td id=\"T_4a405fe2_b4cb_11ea_82d2_40a8f0580b71row1_col1\" class=\"data row1 col1\" >0.514684</td>\n",
       "                        <td id=\"T_4a405fe2_b4cb_11ea_82d2_40a8f0580b71row1_col2\" class=\"data row1 col2\" >0.423394</td>\n",
       "                        <td id=\"T_4a405fe2_b4cb_11ea_82d2_40a8f0580b71row1_col3\" class=\"data row1 col3\" >#738bbd</td>\n",
       "            </tr>\n",
       "            <tr>\n",
       "                        <th id=\"T_4a405fe2_b4cb_11ea_82d2_40a8f0580b71level0_row2\" class=\"row_heading level0 row2\" >2</th>\n",
       "                        <td id=\"T_4a405fe2_b4cb_11ea_82d2_40a8f0580b71row2_col0\" class=\"data row2 col0\" >0.747061</td>\n",
       "                        <td id=\"T_4a405fe2_b4cb_11ea_82d2_40a8f0580b71row2_col1\" class=\"data row2 col1\" >0.676518</td>\n",
       "                        <td id=\"T_4a405fe2_b4cb_11ea_82d2_40a8f0580b71row2_col2\" class=\"data row2 col2\" >0.605975</td>\n",
       "                        <td id=\"T_4a405fe2_b4cb_11ea_82d2_40a8f0580b71row2_col3\" class=\"data row2 col3\" >#99a1a6</td>\n",
       "            </tr>\n",
       "            <tr>\n",
       "                        <th id=\"T_4a405fe2_b4cb_11ea_82d2_40a8f0580b71level0_row3\" class=\"row_heading level0 row3\" >3</th>\n",
       "                        <td id=\"T_4a405fe2_b4cb_11ea_82d2_40a8f0580b71row3_col0\" class=\"data row3 col0\" >0.906737</td>\n",
       "                        <td id=\"T_4a405fe2_b4cb_11ea_82d2_40a8f0580b71row3_col1\" class=\"data row3 col1\" >0.826899</td>\n",
       "                        <td id=\"T_4a405fe2_b4cb_11ea_82d2_40a8f0580b71row3_col2\" class=\"data row3 col2\" >0.747061</td>\n",
       "                        <td id=\"T_4a405fe2_b4cb_11ea_82d2_40a8f0580b71row3_col3\" class=\"data row3 col3\" >#bfb68f</td>\n",
       "            </tr>\n",
       "            <tr>\n",
       "                        <th id=\"T_4a405fe2_b4cb_11ea_82d2_40a8f0580b71level0_row4\" class=\"row_heading level0 row4\" >4</th>\n",
       "                        <td id=\"T_4a405fe2_b4cb_11ea_82d2_40a8f0580b71row4_col0\" class=\"data row4 col0\" >1.080329</td>\n",
       "                        <td id=\"T_4a405fe2_b4cb_11ea_82d2_40a8f0580b71row4_col1\" class=\"data row4 col1\" >0.993533</td>\n",
       "                        <td id=\"T_4a405fe2_b4cb_11ea_82d2_40a8f0580b71row4_col2\" class=\"data row4 col2\" >0.906737</td>\n",
       "                        <td id=\"T_4a405fe2_b4cb_11ea_82d2_40a8f0580b71row4_col3\" class=\"data row4 col3\" >#e5cc78</td>\n",
       "            </tr>\n",
       "            <tr>\n",
       "                        <th id=\"T_4a405fe2_b4cb_11ea_82d2_40a8f0580b71level0_row5\" class=\"row_heading level0 row5\" >5</th>\n",
       "                        <td id=\"T_4a405fe2_b4cb_11ea_82d2_40a8f0580b71row5_col0\" class=\"data row5 col0\" >1.258940</td>\n",
       "                        <td id=\"T_4a405fe2_b4cb_11ea_82d2_40a8f0580b71row5_col1\" class=\"data row5 col1\" >1.169635</td>\n",
       "                        <td id=\"T_4a405fe2_b4cb_11ea_82d2_40a8f0580b71row5_col2\" class=\"data row5 col2\" >1.080329</td>\n",
       "                        <td id=\"T_4a405fe2_b4cb_11ea_82d2_40a8f0580b71row5_col3\" class=\"data row5 col3\" >#e5b470</td>\n",
       "            </tr>\n",
       "            <tr>\n",
       "                        <th id=\"T_4a405fe2_b4cb_11ea_82d2_40a8f0580b71level0_row6\" class=\"row_heading level0 row6\" >6</th>\n",
       "                        <td id=\"T_4a405fe2_b4cb_11ea_82d2_40a8f0580b71row6_col0\" class=\"data row6 col0\" >1.452856</td>\n",
       "                        <td id=\"T_4a405fe2_b4cb_11ea_82d2_40a8f0580b71row6_col1\" class=\"data row6 col1\" >1.355898</td>\n",
       "                        <td id=\"T_4a405fe2_b4cb_11ea_82d2_40a8f0580b71row6_col2\" class=\"data row6 col2\" >1.258940</td>\n",
       "                        <td id=\"T_4a405fe2_b4cb_11ea_82d2_40a8f0580b71row6_col3\" class=\"data row6 col3\" >#e69c69</td>\n",
       "            </tr>\n",
       "            <tr>\n",
       "                        <th id=\"T_4a405fe2_b4cb_11ea_82d2_40a8f0580b71level0_row7\" class=\"row_heading level0 row7\" >7</th>\n",
       "                        <td id=\"T_4a405fe2_b4cb_11ea_82d2_40a8f0580b71row7_col0\" class=\"data row7 col0\" >1.724798</td>\n",
       "                        <td id=\"T_4a405fe2_b4cb_11ea_82d2_40a8f0580b71row7_col1\" class=\"data row7 col1\" >1.588827</td>\n",
       "                        <td id=\"T_4a405fe2_b4cb_11ea_82d2_40a8f0580b71row7_col2\" class=\"data row7 col2\" >1.452856</td>\n",
       "                        <td id=\"T_4a405fe2_b4cb_11ea_82d2_40a8f0580b71row7_col3\" class=\"data row7 col3\" >#e68462</td>\n",
       "            </tr>\n",
       "            <tr>\n",
       "                        <th id=\"T_4a405fe2_b4cb_11ea_82d2_40a8f0580b71level0_row8\" class=\"row_heading level0 row8\" >8</th>\n",
       "                        <td id=\"T_4a405fe2_b4cb_11ea_82d2_40a8f0580b71row8_col0\" class=\"data row8 col0\" >2.179848</td>\n",
       "                        <td id=\"T_4a405fe2_b4cb_11ea_82d2_40a8f0580b71row8_col1\" class=\"data row8 col1\" >1.952323</td>\n",
       "                        <td id=\"T_4a405fe2_b4cb_11ea_82d2_40a8f0580b71row8_col2\" class=\"data row8 col2\" >1.724798</td>\n",
       "                        <td id=\"T_4a405fe2_b4cb_11ea_82d2_40a8f0580b71row8_col3\" class=\"data row8 col3\" >#e76c5b</td>\n",
       "            </tr>\n",
       "            <tr>\n",
       "                        <th id=\"T_4a405fe2_b4cb_11ea_82d2_40a8f0580b71level0_row9\" class=\"row_heading level0 row9\" >9</th>\n",
       "                        <td id=\"T_4a405fe2_b4cb_11ea_82d2_40a8f0580b71row9_col0\" class=\"data row9 col0\" >5.874935</td>\n",
       "                        <td id=\"T_4a405fe2_b4cb_11ea_82d2_40a8f0580b71row9_col1\" class=\"data row9 col1\" >4.027392</td>\n",
       "                        <td id=\"T_4a405fe2_b4cb_11ea_82d2_40a8f0580b71row9_col2\" class=\"data row9 col2\" >2.179848</td>\n",
       "                        <td id=\"T_4a405fe2_b4cb_11ea_82d2_40a8f0580b71row9_col3\" class=\"data row9 col3\" >#e85454</td>\n",
       "            </tr>\n",
       "    </tbody></table>"
      ],
      "text/plain": [
       "<pandas.io.formats.style.Styler at 0x18414f5e048>"
      ]
     },
     "execution_count": 34,
     "metadata": {},
     "output_type": "execute_result"
    }
   ],
   "source": [
    "#Select one index\n",
    "Index = Index\n",
    "\n",
    "#Image Legend\n",
    "df=defaultdict(list)\n",
    "for product in IndexResponse['features']:\n",
    "    if Index == product[0]['attributes']['Product']:\n",
    "        Legend = product[0]['attributes']['Legend']\n",
    "for val in Legend:\n",
    "    df['Max'].append(float(val['Max']))\n",
    "    df['Mean'].append(float(val['Mean']))\n",
    "    df['Min'].append(float(val['Min']))\n",
    "    df['Color'].append(val['color'])\n",
    "    \n",
    "legenddf = pd.DataFrame.from_dict(df)    \n",
    "legenddf.style.applymap(lambda x:\"background-color: %s\"%x, subset=['Color'])"
   ]
  },
  {
   "cell_type": "code",
   "execution_count": 35,
   "metadata": {},
   "outputs": [
    {
     "data": {
      "text/html": [
       "<img src=\"data:image/png;base64, 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\" width=\"500\" height=\"500\"/>"
      ],
      "text/plain": [
       "<IPython.core.display.Image object>"
      ]
     },
     "execution_count": 35,
     "metadata": {},
     "output_type": "execute_result"
    }
   ],
   "source": [
    "IndexImage = indexdf.loc[indexdf['Index'] == Index,'pngb64'].iloc[0]\n",
    "Image(url = IndexImage, width= 500, height =500)"
   ]
  },
  {
   "cell_type": "markdown",
   "metadata": {},
   "source": [
    "# GET Request"
   ]
  },
  {
   "cell_type": "code",
   "execution_count": 38,
   "metadata": {},
   "outputs": [
    {
     "name": "stdout",
     "output_type": "stream",
     "text": [
      "{'filenames': ['raster_TRI_20200622205918465442.tif']}\n"
     ]
    }
   ],
   "source": [
    "# Specify local path where file will be downloaded.\n",
    "local_path = r\"<Path to local directory>\" # E.g., r\"C:\\Users\\John_Doe\\Documents\\rasters\"\n",
    "\n",
    "# Create GET request payload.\n",
    "Index = 'TRI'\n",
    "values = {'filenames': [IndexResponse[Index],]}\n",
    "print(values)"
   ]
  },
  {
   "cell_type": "code",
   "execution_count": 39,
   "metadata": {},
   "outputs": [],
   "source": [
    "def Elevation_Index_get(values, local_path):\n",
    "    try:\n",
    "        url = 'https://ag-analytics.azure-api.net/elevation-index'\n",
    "    \n",
    "        download_path = os.path.join(local_path, values['filenames'][0])\n",
    "        print(values)\n",
    "     \n",
    "        response = requests.get(url, params=values)\n",
    "        open(download_path, 'wb').write(response.content)\n",
    "        \n",
    "        print(response.url)\n",
    "\n",
    "        return response\n",
    "    \n",
    "    except Exception as e:\n",
    "        print(e)\n",
    "        raise e"
   ]
  },
  {
   "cell_type": "code",
   "execution_count": 40,
   "metadata": {},
   "outputs": [
    {
     "name": "stdout",
     "output_type": "stream",
     "text": [
      "{'filenames': ['raster_TRI_20200622205918465442.tif']}\n",
      "https://ag-analytics.azure-api.net/elevation-index?filenames=raster_TRI_20200622205918465442.tif\n"
     ]
    },
    {
     "data": {
      "text/plain": [
       "<Response [200]>"
      ]
     },
     "execution_count": 40,
     "metadata": {},
     "output_type": "execute_result"
    }
   ],
   "source": [
    "Elevation_Index_get(values, local_path)"
   ]
  },
  {
   "cell_type": "code",
   "execution_count": null,
   "metadata": {},
   "outputs": [],
   "source": []
  }
 ],
 "metadata": {
  "kernelspec": {
   "display_name": "ag-env",
   "language": "python",
   "name": "ag-env"
  },
  "language_info": {
   "codemirror_mode": {
    "name": "ipython",
    "version": 3
   },
   "file_extension": ".py",
   "mimetype": "text/x-python",
   "name": "python",
   "nbconvert_exporter": "python",
   "pygments_lexer": "ipython3",
   "version": "3.6.8"
  }
 },
 "nbformat": 4,
 "nbformat_minor": 2
}
