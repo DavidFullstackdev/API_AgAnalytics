{
 "cells": [
  {
   "cell_type": "markdown",
   "metadata": {},
   "source": [
    "# Ag Analytics-PolarisSoilsDataLayers-Demo\n"
   ]
  },
  {
   "cell_type": "raw",
   "metadata": {},
   "source": [
   "The POLARIS Soils Data Layers API provides a spatially continuous, internally consistent, quantitative prediction of soil series at a 30 m spatial resolution for the contiguous United States."
   ]
  },
  {
   "cell_type": "code",
   "execution_count": null,
   "metadata": {},
   "outputs": [],
   "source": [
    "import requests\n",
    "import json\n",
    "import time\n",
    "from pandas.io.json import json_normalize\n",
    "from collections import defaultdict\n",
    "import pandas as pd\n",
    "import geopandas as gpd\n",
    "import requests, zipfile, io\n",
    "%matplotlib inline\n",
    "%autosave 0"
   ]
  },
  {
   "cell_type": "markdown",
   "metadata": {},
   "source": [
    "### API Details:\n",
    "\n",
    "####Request URL: https://ag-analytics.azure-api.net/PolarisSoilsDataLayers/get[?inputShape][&SoilValue][&Statistics][&SoilHorizon]\n",
    "\n",
    "####Parameters:\n",
    "\n",
    "***inputShape - ***\n",
    "The shape information for field in esriGeometryPolygon format.\n",
    "\n",
    "***SoilValue - ***\n",
    "e.g. pH, Organic Matter\n",
    "\n",
    "***Statistics - ***\n",
    "Statistics options are: min, max, mean, and variance\n",
    "\n",
    "***SoilHorizon - ***\n",
    "Soil depth in CM.\n",
    "\n",
    "\n",
    "In order to get Ocp-Apim-Subscription-Key, please click on this link https://ag-analytics.org/developer/Session/SignInFromPayment"
   ]
  },
  {
   "cell_type": "markdown",
   "metadata": {},
   "source": [
    "### Request Parameters"
   ]
  },
  {
   "cell_type": "code",
   "execution_count": null,
   "metadata": {},
   "outputs": [],
   "source": [
    "inputShape={\"geometryType\":\"esriGeometryPolygon\",\"features\":[{\"geometry\":{\"rings\":[[[-89.045774,43.730605],[-89.04577,43.730488],[-89.045722,43.729998],[-89.045789,43.729653],[-89.045661,43.72961],[-89.045635,43.729782],[-89.045644,43.730045],[-89.045653,43.730308],[-89.045651,43.730607],[-89.041228,43.730676],[-89.041171,43.728908],[-89.041111,43.727076],[-89.042892,43.727044],[-89.044665,43.727018],[-89.046178,43.726999],[-89.046237,43.730597],[-89.045774,43.730605]]],\"spatialReference\":{\"wkid\":4326}}}]}\n",
    "SoilValue=\"ph\"\n",
    "Statistics=\"mean\"\n",
    "SoilHorizon=\"0_5\"\n",
    "headers={'Ocp-Apim-Subscription-Key': 'xxxxxxxxxxxxxxxxxxxxxxxxxxxxxxxxxxx'}\n",
    "           "
   ]
  },
  {
   "cell_type": "markdown",
   "metadata": {},
   "source": [
    "###  API Function"
   ]
  },
  {
   "cell_type": "code",
   "execution_count": null,
   "metadata": {},
   "outputs": [],
   "source": [
    "def get_polarissoil_datalayers(inputShape,SoilValue,Statistics,SoilHorizon,headers):\n",
    "    try:\n",
    "        url = \"https://ag-analytics.azure-api.net/PolarisSoilsDataLayers/get?inputShape={}&SoilValue={}&Statistics={}&SoilHorizon={}\".format(inputShape,SoilValue,Statistics,SoilHorizon)\n",
    "     \n",
    "        response = (requests.get(url,headers=headers).text)\n",
    "        \n",
    "        response_json = json.loads(response)\n",
    "        #print(response_json)\n",
    "        time.sleep(0.5)\n",
    "        return response_json\n",
    "    \n",
    "    except Exception as e:\n",
    "        raise e"
   ]
  },
  {
   "cell_type": "markdown",
   "metadata": {},
   "source": [
    "### Calling API Function and Displaying Response"
   ]
  },
  {
   "cell_type": "code",
   "execution_count": null,
   "metadata": {},
   "outputs": [],
   "source": [
    "polaris=get_polarissoil_datalayers(inputShape,SoilValue,Statistics,SoilHorizon,headers)"
   ]
  },
  {
   "cell_type": "markdown",
   "metadata": {},
   "source": [
    "### Displaying Table"
   ]
  },
  {
   "cell_type": "code",
   "execution_count": null,
   "metadata": {},
   "outputs": [],
   "source": [
    "df=defaultdict(list)\n",
    "resolution=5\n",
    "areaOfOnePixel=resolution*resolution\n",
    "totalpixels = 0\n",
    "for value in polaris['results'][3]['value']: \n",
    "    val=str(round(value[0] * 100) / 100) + \"-\" + str(round(value[1] * 100) / 100)\n",
    "    df[SoilValue].append(val)\n",
    "for value in polaris['results'][2]['value']['features']: \n",
    "    totalpixels+=value['attributes']['Count']\n",
    "\n",
    "totalArea=(totalpixels * areaOfOnePixel) * 0.000247105\n",
    "\n",
    "for value in polaris['results'][2]['value']['features']: \n",
    "    partAcres = (value['attributes']['Count'] * areaOfOnePixel) * 0.000247105\n",
    "    percentAcres = (partAcres / totalArea) * 100\n",
    "    df['Area per Part (Acres)'].append(round(partAcres * 100) / 100)\n",
    "    df['% of Total'].append(round(percentAcres * 100) / 100)\n",
    "\n",
    "soil=pd.DataFrame.from_dict(df)\n",
    "soil"
   ]
  },
  {
   "cell_type": "markdown",
   "metadata": {},
   "source": [
    "### Displaying  Map"
   ]
  },
  {
   "cell_type": "markdown",
   "metadata": {},
   "source": [
    "#### Helper Functions"
   ]
  },
  {
   "cell_type": "code",
   "execution_count": null,
   "metadata": {},
   "outputs": [],
   "source": [
    "def post_converttogeojson(requestbody):\n",
    "    try:\n",
    "        url = \"https://ogre.adc4gis.com/convert\"\n",
    "     \n",
    "        response = (requests.post(url,files=requestbody).text)\n",
    "        \n",
    "        return response\n",
    "\n",
    "    except Exception as e:\n",
    "        raise e\n",
    "def post_converttoshapefile(requestbody):\n",
    "    try:\n",
    "        url = \"https://ogre.adc4gis.com/convertJson\"\n",
    "     \n",
    "        response = (requests.post(url,data=requestbody))\n",
    "        \n",
    "        z = zipfile.ZipFile(io.BytesIO(response.content))\n",
    "        z.extractall(\"./shapefiles/\")\n",
    "        \n",
    "        time.sleep(0.5)\n",
    "        return response\n",
    "    \n",
    "    except Exception as e:\n",
    "        raise e"
   ]
  },
  {
   "cell_type": "code",
   "execution_count": null,
   "metadata": {},
   "outputs": [],
   "source": [
    "requestbody={'upload':open('./jsonfiles/polarisdata1.json','rb')}\n",
    "\n",
    "polarisdata_geojson=post_converttogeojson(requestbody)\n",
    "requestbody={'json':polarisdata_geojson,'skipFailures':\"on\"}\n",
    "post_converttoshapefile(requestbody)"
   ]
  },
  {
   "cell_type": "markdown",
   "metadata": {},
   "source": [
    "#### Displaying Output Map"
   ]
  },
  {
   "cell_type": "code",
   "execution_count": null,
   "metadata": {},
   "outputs": [],
   "source": [
    "gdf = gpd.read_file('./shapefiles/OGRGeoJSON.shp')\n",
    "gdf.plot(column='val_float', cmap=None,figsize=(10, 10),legend=True) \n",
    "gdf.head()"
   ]
  },
  {
   "cell_type": "code",
   "execution_count": null,
   "metadata": {},
   "outputs": [],
   "source": []
  }
 ],
 "metadata": {
  "kernelspec": {
   "display_name": "Python 3",
   "language": "python",
   "name": "python3"
  },
  "language_info": {
   "codemirror_mode": {
    "name": "ipython",
    "version": 3
   },
   "file_extension": ".py",
   "mimetype": "text/x-python",
   "name": "python",
   "nbconvert_exporter": "python",
   "pygments_lexer": "ipython3",
   "version": "3.6.6"
  }
 },
 "nbformat": 4,
 "nbformat_minor": 2
}
