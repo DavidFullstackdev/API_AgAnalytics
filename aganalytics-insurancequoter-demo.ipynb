{
 "cells": [
  {
   "cell_type": "markdown",
   "metadata": {},
   "source": [
    "# Ag Analytics-FederalCropInsuranceQuoter-Demo\n"
   ]
  },
  {
   "cell_type": "markdown",
   "metadata": {},
   "source": [
    "To calculate insurance premiums for Yield Protection, Revenue Protection, and Revenue Protection with Harvest Price exclusion, along with their area coverage alternatives.\n"
   ]
  },
  {
   "cell_type": "code",
   "execution_count": null,
   "metadata": {},
   "outputs": [],
   "source": [
    "import requests\n",
    "import json\n",
    "import time\n",
    "from pandas.io.json import json_normalize\n",
    "import pandas as pd\n",
    "from collections import defaultdict\n",
    "%autosave 0"
   ]
  },
  {
   "cell_type": "markdown",
   "metadata": {},
   "source": [
    "### API details\n",
    "\n",
    "####Request URL:\n",
    "https://ag-analytics.azure-api.net/FederalCropInsuranceQuoter/post\n",
    "\n",
    "####Request body:\n",
    "\n",
    "***'FIPS' :*** The FIPS code of a county (e.g. 17019). \n",
    "\n",
    "***'CropCode':*** The code for a crop (e.g. corn's crop code is 41) from table A00420 of RMA ADM files. \n",
    "***'Type' : ***The code for the type of a crop (e.g. corn type grain is 16) from RMA ADM files. \n",
    "***'Practice': ***The code for the practice type of a crop (e.g. non-irrigated is 3) from RMA ADM files. Call the Practice API for available for that cfrtop \n",
    "***'PreventedPlanning' :*** An integer in the range [0, 2]. 0 = Standard, 1 = Plus 5%, 2 = Plus 1. \n",
    "***'UseTAYield' : ***int An integer in the range [0, 1]. 1 = Use Trend-Adjusted Yield, 0 = do not use Trend-Adjusted Yield. \n",
    "***'SharePercentage' : ***double A float indicating the insured share percent, in the range [0.001, 1]. \n",
    "***'TrendAdjustedYield' :*** double A double specifying the Trend-Adjusted Yield. \n",
    "***'Acres' : ***double A double specifying the acreage. \n",
    "***'Year' :*** int An integer specifying the year that the calculation should take place for. \n",
    "***'APHYield' :*** double A double specifying the Actual Production History Yield. \n",
    "***'Price' :*** double A double specifying the projected crop price. \n",
    "***'Volatility' :*** double A double specifying the volatility of the crop. \n",
    "***‘ReturnParameters’ :*** int If value is 1, parameters for the steps of the premium calculation are included in the response. If value is 0, parameters from the premium calculation are not included in the response. \n",
    "***‘HighRiskCode’:***\tstring Subcounty high risk code that the insured field is located in and is relevant to the specified crop, practice, and type (e.g. ‘AAA’). \n",
    "\n",
    "\n",
    "\n",
    "In order to get Ocp-Apim-Subscription-Key, please click on this link https://ag-analytics.org/developer/Session/SignInFromPayment"
   ]
  },
  {
   "cell_type": "markdown",
   "metadata": {},
   "source": [
    "### Request Parameters"
   ]
  },
  {
   "cell_type": "code",
   "execution_count": null,
   "metadata": {},
   "outputs": [],
   "source": [
    "requestbody={'FIPS':17081, 'CropCode':41, 'Type':16, 'Practice':3, 'PreventedPlanting':0, 'UseTAYield':1, 'UsePerAcre':1, 'SharePercentage':1.00, 'TrendAdjustedYield':129.88, 'Acres':44.56999969, 'Year':2019, 'APHYield':129.88, 'Price':4.00, 'Volatility':0.15, 'IncludeAdminFee':0.0}\n",
    "\n",
    "headers={'Content-Type':'application/json',\n",
    "'Ocp-Apim-Subscription-Key': 'xxxxxxxxxxxxxxxxxxxxxxxxxxxxxxxxxxx'}\n",
    "           "
   ]
  },
  {
   "cell_type": "markdown",
   "metadata": {},
   "source": [
    "###  API Function"
   ]
  },
  {
   "cell_type": "code",
   "execution_count": null,
   "metadata": {},
   "outputs": [],
   "source": [
    "def post_crop_insurance_quoter(requestbody,headers):\n",
    "    try:\n",
    "        url = \"https://ag-analytics.azure-api.net/FederalCropInsuranceQuoter/post\"\n",
    "     \n",
    "        response = (requests.post(url,data=json.dumps(requestbody),headers=headers).text)\n",
    "        \n",
    "        \n",
    "        response_json = json.loads(response)\n",
    "        \n",
    "        print(response_json)\n",
    "        time.sleep(0.5)\n",
    "        return response_json\n",
    "    \n",
    "    except Exception as e:\n",
    "        raise e"
   ]
  },
  {
   "cell_type": "markdown",
   "metadata": {},
   "source": [
    "### Calling API Function and Displaying Response"
   ]
  },
  {
   "cell_type": "code",
   "execution_count": null,
   "metadata": {},
   "outputs": [],
   "source": [
    "crop_insurance=post_crop_insurance_quoter(requestbody,headers)"
   ]
  },
  {
   "cell_type": "code",
   "execution_count": null,
   "metadata": {},
   "outputs": [],
   "source": [
    "df=defaultdict(list)\n",
    "\n",
    "\n",
    "for i in range(3):\n",
    "    for value,u in zip(['Revenue Protection','Revenue Protection with Harvest Price Exclusion','Yield Protection'],['Optional','Basic','Enterprise']):\n",
    "        \n",
    "        df['Product Type'].append(value)\n",
    "        df['Unit'].append(u)\n",
    "    \n",
    "coverage=['50%','55%','60%','65%','70%','75%','80%','85%']    \n",
    "\n",
    "\n",
    "for k in range(9):\n",
    "    for i,j in enumerate(coverage):\n",
    "        \n",
    "        df[j+'Premium perAcre'].append(crop_insurance['Premium'][i][k])\n",
    "        df[j+'Premium totalAcre'].append(crop_insurance['PremiumAllAcres'][i][k])\n",
    "        df[j+'Liability total Acre'].append(crop_insurance['Liability'][i][0])\n",
    "\n",
    "    \n",
    "\n",
    "df=pd.DataFrame.from_dict(df)\n",
    "df\n"
   ]
  }
 ],
 "metadata": {
  "kernelspec": {
   "display_name": "Python 3",
   "language": "python",
   "name": "python3"
  },
  "language_info": {
   "codemirror_mode": {
    "name": "ipython",
    "version": 3
   },
   "file_extension": ".py",
   "mimetype": "text/x-python",
   "name": "python",
   "nbconvert_exporter": "python",
   "pygments_lexer": "ipython3",
   "version": "3.6.6"
  }
 },
 "nbformat": 4,
 "nbformat_minor": 2
}
