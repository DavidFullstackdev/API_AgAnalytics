{
 "cells": [
  {
   "cell_type": "markdown",
   "metadata": {},
   "source": [
    "# Ag-Analytics® Farmland Sales API "
   ]
  },
  {
   "cell_type": "markdown",
   "metadata": {},
   "source": [
    "Ag-Analytics® Farmland Sales Service API is offered in conjunction with Farmland Finder and provides users with easy and fast access to filter and find land for sale, complete with the sales and geographic data components to get a detailed description of that land’s value. The data of this service is originally provided by [Farmland Finder](https://www.farmlandfinder.com). In this version of Land Value Service API, each parcel/land has a full description of the entire sale/transaction. Multiple parcel/land record can belong to one transaction. In geographic attribute, each result record gives the detailed description of a certain land/parcel itself, while the attribute in ‘sales’ may carry the information for the transaction/sale other than this parcel/land."
   ]
  },
  {
   "cell_type": "markdown",
   "metadata": {},
   "source": [
    "### Required libraries"
   ]
  },
  {
   "cell_type": "code",
   "execution_count": 33,
   "metadata": {},
   "outputs": [],
   "source": [
    "import requests\n",
    "import json\n",
    "import pandas as pd\n",
    "import folium\n",
    "import mplleaflet\n",
    "import geojson\n",
    "import shapely.wkt"
   ]
  },
  {
   "cell_type": "markdown",
   "metadata": {},
   "source": [
    "### Request Parameter Details"
   ]
  },
  {
   "cell_type": "markdown",
   "metadata": {},
   "source": [
    "Request URL:  https://ag-analytics.azure-api.net/farmland-sales\n",
    "\n",
    "       \n",
    "1). __Location Parameters__(Required): \n",
    "    To make a valid request,at least one location parameters need to be provided.\n",
    "    \n",
    "    i. State:  The name of State in string format.Title cased.\n",
    "    \n",
    "    ii. County: The name of State in string format. Title cased.This parameter will be valid only if the State parameter is provided\n",
    "    \n",
    "    iii.Bounding_box: Area of interest in geoJSON format(See example below).\n",
    "    \n",
    "\n",
    "2). __Sale Condition Parameters__(optional): Optional parameters to specify response based on sale conditions\n",
    "\n",
    "    i. Status: Sale Condition of the property. Vaild options are: Sold, For Sale, Expired Listing.\n",
    "    \n",
    "    ii. StartDate (Required only if Status is Sold):Searching starting date of the property Sale Date. In format 'yyyy-mm-dd'\n",
    "    \n",
    "    iii.EndDate (Required only if Status is Sold):Searching end date of the property Sale Date. In format 'yyyy-mm-dd'"
   ]
  },
  {
   "cell_type": "markdown",
   "metadata": {},
   "source": [
    "### Response Description"
   ]
  },
  {
   "cell_type": "markdown",
   "metadata": {},
   "source": [
    "__Basic Information__\n",
    "\n",
    "1).ID :The unique sale id for each parcel as a string\n",
    "\n",
    "2).Shape: The boundary of the parcel/property in Well Known Text type\n",
    "\n",
    "3).State: The state where the parcel/property locates in. \n",
    "\n",
    "4).County:The county where the parcel/property locates in.\n",
    "\n",
    "5).Entry_Updated:The date of the sales information has been updated\n",
    "\n",
    "__Sale Information__\n",
    "\n",
    "1).Avg_CSR2: the average The Iowa Corn Suitability Rating(Soil Productivity Index)\n",
    "\n",
    "2).CRP: If the property joined the Conservation Reserve Program.(‘Yes’ or ‘No’)\n",
    "\n",
    "3).Total_Acres: the total acres of the entire sale\n",
    "\n",
    "4).Tillable_Acres: the tillable acres of the sale\n",
    "\n",
    "5).Percent_Tillable: the percent tillable area\n",
    "\n",
    "6).CRP_Acres: the CRP acres\n",
    "\n",
    "7).Sale_Price: the total sale price of the sale record\n",
    "\n",
    "8).Price_Acre: the price per acre of the sale record\n",
    "\n",
    "9).Status: one of the following values: \"For Sale\", \"Listing Expired\", \"Sold\"\n",
    "\n",
    "10).Sale_Condition: one of the following values: \"Auction\", \"Listing\"\n",
    "\n",
    "11).Listing_Agent: the listing agent name\n",
    "\n",
    "12).Buyer: the buyer name as a string\n",
    "\n",
    "13).Sale_Date: The sale date string in YYYY-MM-DD format. (When the parcel is still listing, the attribute will be Null\n",
    "\n",
    "14).Taxes_total: taxes for the sale as a float\n",
    "\n",
    "15).Assessed_Land: If the land/parcel has been assessed\n",
    "\n",
    "16).Broker_URL: The URL link to the broker listing webpage as a string\n",
    "\n",
    "\n",
    "__Geographic Information__\n",
    "\n",
    "1).lat_center: the latitudinal center of the parcel/property as a float value\n",
    "\n",
    "2).lng_center: the longitudinal center of the parcel/property as a float value\n",
    "\n",
    "3).range: the range as a string (ex: 26W - always include E or W)\n",
    "\n",
    "4).sect: the section as string (ex: 17)\n",
    "\n",
    "5).twnshp: the township as a string (ex: 78N - always include N or S)\n",
    "\n",
    "6).county_name: the county name as a string (Title cased - for ex: Osceola, Polk, etc.)\n",
    "\n",
    "7).state_name: the state name as a string (Title cased - for ex: Michigan)\n",
    "\n",
    "8).STATEFP: the FIPS to state level as a string\n",
    "\n",
    "9).FIPS: the FIPS to county level as a string\n"
   ]
  },
  {
   "cell_type": "markdown",
   "metadata": {},
   "source": [
    "### Request Parameter Example"
   ]
  },
  {
   "cell_type": "code",
   "execution_count": 37,
   "metadata": {},
   "outputs": [],
   "source": [
    "State= \"Michigan\"\n",
    "County= \"Houghton\"\n",
    "Bounding_box = '{\"type\":\"Feature\",\"properties\":{},\"geometry\":{\"type\":\"Polygon\",\"coordinates\":[[[-88.6,47.04],[-88.54,47.04],[-88.54,47.1],[-88.6,47.1],[-88.6,47.04]]]}}'\n",
    "\n",
    "Status = 'Sold'\n",
    "StartDate = '2019-08-08'\n",
    "EndDate = '2020-01-01'\n",
    "\n",
    "#Format the inputs()\n",
    "values = {\n",
    "    'State':State,\n",
    "    'County' : County,\n",
    "    'Bounding_Box': Bounding_box,\n",
    "    'StartDate':StartDate,\n",
    "    'EndDate':EndDate,\n",
    "    'Status' :Status\n",
    "}\n",
    "\n",
    "# Header for using a subscription key.\n",
    "headers = {'Content-Type': 'application/x-www-form-urlencoded','Ocp-Apim-Subscription-Key': \"xxxxxxxxxxxxxxxxxxxxxxxxxxxxxxxxxxx\"}"
   ]
  },
  {
   "cell_type": "markdown",
   "metadata": {},
   "source": [
    "### API Function"
   ]
  },
  {
   "cell_type": "code",
   "execution_count": 35,
   "metadata": {},
   "outputs": [],
   "source": [
    "def LandValueService(values,headers):\n",
    "    try:\n",
    "        url = 'https://ag-analytics.azure-api.net/farmland-sales'\n",
    "        \n",
    "        response = requests.post(url, data = values,headers = headers).json()\n",
    "        #resp = json.loads(response)\n",
    "        print(response)\n",
    "        \n",
    "        return response\n",
    "    \n",
    "    except Exception as e:\n",
    "        print(e)\n",
    "        raise e"
   ]
  },
  {
   "cell_type": "markdown",
   "metadata": {},
   "source": [
    "### Calling API Function and Displaying Response"
   ]
  },
  {
   "cell_type": "code",
   "execution_count": 38,
   "metadata": {},
   "outputs": [
    {
     "name": "stdout",
     "output_type": "stream",
     "text": [
      "[{'ID': '5e277282526a87486f9d3a74', 'Entry_Updated': '0019-08-01 00:00:00', 'basics': {'Shape': 'POLYGON((-88.5901467200157 47.0475234037846, -88.5965618942772 47.0475663534384, -88.5962213412716 47.0463376577456, -88.595880830534 47.0451090572013, -88.5955141283121 47.0437858907245, -88.5948444899643 47.0414058363943, -88.5944499955406 47.0399963668948, -88.5893904796341 47.039925019316, -88.5843330336802 47.0398535058385, -88.5846001922596 47.0436668695639, -88.5848663176613 47.0474801244352, -88.5901467200157 47.0475234037846))', 'State': 'Michigan', 'County': 'Houghton'}, 'sales': {'Avg_CSR2': 21.0952, 'CRP': None, 'Total_Acres': 177.0, 'Tillable_Acres': 0.0, 'Percent_Tillable': 0.0, 'CRP_Acres': None, 'Sale_Price': '200000.0000', 'Price_Acre': '1051.0000', 'Status': 'For Sale', 'Sale_Condition': 'Listing', 'Listing_Agent': 'Northern Michigan Land Brokers', 'Buyer': None, 'Sale_Date': None, 'Taxes_total': None, 'Assessed_Land': None, 'Broker_URL': 'http://www.joshsteinland.com/listing.php?target_mls=1116460'}, 'geographic': {'lat_center': 47.04382, 'lng_center': -88.59006, 'range': '34W', 'sect': '26', 'twnshp': '54N', 'county_name': 'Houghton', 'state_name': 'Michigan', 'STATEFP': '26', 'FIPS': '26061'}}, {'ID': '5e277282526a87486f9d3a20', 'Entry_Updated': '0019-07-31 00:00:00', 'basics': {'Shape': 'POLYGON((-88.5594344373249 47.0924597366254, -88.5625360528681 47.0920578740365, -88.5625651644924 47.0914837758929, -88.5583720690032 47.091414224385, -88.5590370631635 47.0920222165261, -88.5592945650998 47.092282379225, -88.5594344373249 47.0924597366254))', 'State': 'Michigan', 'County': 'Houghton'}, 'sales': {'Avg_CSR2': 15.987759999999998, 'CRP': None, 'Total_Acres': 159.0, 'Tillable_Acres': 2.0, 'Percent_Tillable': 1.0, 'CRP_Acres': None, 'Sale_Price': '398000.0000', 'Price_Acre': '2503.0000', 'Status': 'For Sale', 'Sale_Condition': 'Listing', 'Listing_Agent': 'Northern Michigan Land Brokers', 'Buyer': None, 'Sale_Date': None, 'Taxes_total': None, 'Assessed_Land': None, 'Broker_URL': 'http://www.joshsteinland.com/listing.php?target_mls=1093781'}, 'geographic': {'lat_center': 47.09185, 'lng_center': -88.56054, 'range': '34W', 'sect': '12', 'twnshp': '54N', 'county_name': 'Houghton', 'state_name': 'Michigan', 'STATEFP': '26', 'FIPS': '26061'}}]\n"
     ]
    }
   ],
   "source": [
    "LandValueResponse = LandValueService(values)"
   ]
  },
  {
   "cell_type": "markdown",
   "metadata": {},
   "source": [
    "### Response by Category"
   ]
  },
  {
   "cell_type": "code",
   "execution_count": 22,
   "metadata": {},
   "outputs": [],
   "source": [
    "#Format response to dataframes\n",
    "ID = []\n",
    "basics = []\n",
    "sales = []\n",
    "geographic =[]\n",
    "for record in LandValueResponse:\n",
    "    basics.append(record['basics'])\n",
    "    sales.append(record['sales'])\n",
    "    geographic.append(record['geographic'])\n",
    "    ID.append(record['ID'])\n",
    "basics_db = pd.DataFrame(basics)\n",
    "basics_db['ID'] = ID\n",
    "sales_db = pd.DataFrame(sales)\n",
    "sales_db['ID'] = ID\n",
    "geographic_db = pd.DataFrame(geographic)\n",
    "geographic_db['ID'] = ID"
   ]
  },
  {
   "cell_type": "markdown",
   "metadata": {},
   "source": [
    "#### 1.Parcel Basics "
   ]
  },
  {
   "cell_type": "code",
   "execution_count": 26,
   "metadata": {},
   "outputs": [
    {
     "data": {
      "text/html": [
       "<div>\n",
       "<style scoped>\n",
       "    .dataframe tbody tr th:only-of-type {\n",
       "        vertical-align: middle;\n",
       "    }\n",
       "\n",
       "    .dataframe tbody tr th {\n",
       "        vertical-align: top;\n",
       "    }\n",
       "\n",
       "    .dataframe thead th {\n",
       "        text-align: right;\n",
       "    }\n",
       "</style>\n",
       "<table border=\"1\" class=\"dataframe\">\n",
       "  <thead>\n",
       "    <tr style=\"text-align: right;\">\n",
       "      <th>ID</th>\n",
       "      <th>5e277282526a87486f9d3a74</th>\n",
       "      <th>5e277282526a87486f9d3a20</th>\n",
       "    </tr>\n",
       "  </thead>\n",
       "  <tbody>\n",
       "    <tr>\n",
       "      <th>County</th>\n",
       "      <td>Houghton</td>\n",
       "      <td>Houghton</td>\n",
       "    </tr>\n",
       "    <tr>\n",
       "      <th>Shape</th>\n",
       "      <td>POLYGON((-88.5901467200157 47.0475234037846, -...</td>\n",
       "      <td>POLYGON((-88.5594344373249 47.0924597366254, -...</td>\n",
       "    </tr>\n",
       "    <tr>\n",
       "      <th>State</th>\n",
       "      <td>Michigan</td>\n",
       "      <td>Michigan</td>\n",
       "    </tr>\n",
       "  </tbody>\n",
       "</table>\n",
       "</div>"
      ],
      "text/plain": [
       "ID                               5e277282526a87486f9d3a74  \\\n",
       "County                                           Houghton   \n",
       "Shape   POLYGON((-88.5901467200157 47.0475234037846, -...   \n",
       "State                                            Michigan   \n",
       "\n",
       "ID                               5e277282526a87486f9d3a20  \n",
       "County                                           Houghton  \n",
       "Shape   POLYGON((-88.5594344373249 47.0924597366254, -...  \n",
       "State                                            Michigan  "
      ]
     },
     "execution_count": 26,
     "metadata": {},
     "output_type": "execute_result"
    }
   ],
   "source": [
    "#Narrow table\n",
    "basics_db.set_index('ID').T\n",
    "#Wide table\n",
    "# basics_db.set_index('ID')"
   ]
  },
  {
   "cell_type": "markdown",
   "metadata": {},
   "source": [
    "#### 2.Sale Information"
   ]
  },
  {
   "cell_type": "code",
   "execution_count": 27,
   "metadata": {},
   "outputs": [
    {
     "data": {
      "text/html": [
       "<div>\n",
       "<style scoped>\n",
       "    .dataframe tbody tr th:only-of-type {\n",
       "        vertical-align: middle;\n",
       "    }\n",
       "\n",
       "    .dataframe tbody tr th {\n",
       "        vertical-align: top;\n",
       "    }\n",
       "\n",
       "    .dataframe thead th {\n",
       "        text-align: right;\n",
       "    }\n",
       "</style>\n",
       "<table border=\"1\" class=\"dataframe\">\n",
       "  <thead>\n",
       "    <tr style=\"text-align: right;\">\n",
       "      <th>ID</th>\n",
       "      <th>5e277282526a87486f9d3a74</th>\n",
       "      <th>5e277282526a87486f9d3a20</th>\n",
       "    </tr>\n",
       "  </thead>\n",
       "  <tbody>\n",
       "    <tr>\n",
       "      <th>Assessed_Land</th>\n",
       "      <td>None</td>\n",
       "      <td>None</td>\n",
       "    </tr>\n",
       "    <tr>\n",
       "      <th>Avg_CSR2</th>\n",
       "      <td>21.0952</td>\n",
       "      <td>15.9878</td>\n",
       "    </tr>\n",
       "    <tr>\n",
       "      <th>Broker_URL</th>\n",
       "      <td>http://www.joshsteinland.com/listing.php?targe...</td>\n",
       "      <td>http://www.joshsteinland.com/listing.php?targe...</td>\n",
       "    </tr>\n",
       "    <tr>\n",
       "      <th>Buyer</th>\n",
       "      <td>None</td>\n",
       "      <td>None</td>\n",
       "    </tr>\n",
       "    <tr>\n",
       "      <th>CRP</th>\n",
       "      <td>None</td>\n",
       "      <td>None</td>\n",
       "    </tr>\n",
       "    <tr>\n",
       "      <th>CRP_Acres</th>\n",
       "      <td>None</td>\n",
       "      <td>None</td>\n",
       "    </tr>\n",
       "    <tr>\n",
       "      <th>Listing_Agent</th>\n",
       "      <td>Northern Michigan Land Brokers</td>\n",
       "      <td>Northern Michigan Land Brokers</td>\n",
       "    </tr>\n",
       "    <tr>\n",
       "      <th>Percent_Tillable</th>\n",
       "      <td>0</td>\n",
       "      <td>1</td>\n",
       "    </tr>\n",
       "    <tr>\n",
       "      <th>Price_Acre</th>\n",
       "      <td>1051.0000</td>\n",
       "      <td>2503.0000</td>\n",
       "    </tr>\n",
       "    <tr>\n",
       "      <th>Sale_Condition</th>\n",
       "      <td>Listing</td>\n",
       "      <td>Listing</td>\n",
       "    </tr>\n",
       "    <tr>\n",
       "      <th>Sale_Date</th>\n",
       "      <td>None</td>\n",
       "      <td>None</td>\n",
       "    </tr>\n",
       "    <tr>\n",
       "      <th>Sale_Price</th>\n",
       "      <td>200000.0000</td>\n",
       "      <td>398000.0000</td>\n",
       "    </tr>\n",
       "    <tr>\n",
       "      <th>Status</th>\n",
       "      <td>For Sale</td>\n",
       "      <td>For Sale</td>\n",
       "    </tr>\n",
       "    <tr>\n",
       "      <th>Taxes_total</th>\n",
       "      <td>None</td>\n",
       "      <td>None</td>\n",
       "    </tr>\n",
       "    <tr>\n",
       "      <th>Tillable_Acres</th>\n",
       "      <td>0</td>\n",
       "      <td>2</td>\n",
       "    </tr>\n",
       "    <tr>\n",
       "      <th>Total_Acres</th>\n",
       "      <td>177</td>\n",
       "      <td>159</td>\n",
       "    </tr>\n",
       "  </tbody>\n",
       "</table>\n",
       "</div>"
      ],
      "text/plain": [
       "ID                                         5e277282526a87486f9d3a74  \\\n",
       "Assessed_Land                                                  None   \n",
       "Avg_CSR2                                                    21.0952   \n",
       "Broker_URL        http://www.joshsteinland.com/listing.php?targe...   \n",
       "Buyer                                                          None   \n",
       "CRP                                                            None   \n",
       "CRP_Acres                                                      None   \n",
       "Listing_Agent                        Northern Michigan Land Brokers   \n",
       "Percent_Tillable                                                  0   \n",
       "Price_Acre                                                1051.0000   \n",
       "Sale_Condition                                              Listing   \n",
       "Sale_Date                                                      None   \n",
       "Sale_Price                                              200000.0000   \n",
       "Status                                                     For Sale   \n",
       "Taxes_total                                                    None   \n",
       "Tillable_Acres                                                    0   \n",
       "Total_Acres                                                     177   \n",
       "\n",
       "ID                                         5e277282526a87486f9d3a20  \n",
       "Assessed_Land                                                  None  \n",
       "Avg_CSR2                                                    15.9878  \n",
       "Broker_URL        http://www.joshsteinland.com/listing.php?targe...  \n",
       "Buyer                                                          None  \n",
       "CRP                                                            None  \n",
       "CRP_Acres                                                      None  \n",
       "Listing_Agent                        Northern Michigan Land Brokers  \n",
       "Percent_Tillable                                                  1  \n",
       "Price_Acre                                                2503.0000  \n",
       "Sale_Condition                                              Listing  \n",
       "Sale_Date                                                      None  \n",
       "Sale_Price                                              398000.0000  \n",
       "Status                                                     For Sale  \n",
       "Taxes_total                                                    None  \n",
       "Tillable_Acres                                                    2  \n",
       "Total_Acres                                                     159  "
      ]
     },
     "execution_count": 27,
     "metadata": {},
     "output_type": "execute_result"
    }
   ],
   "source": [
    "sales_db.set_index('ID').T"
   ]
  },
  {
   "cell_type": "markdown",
   "metadata": {},
   "source": [
    "#### 3.Location Information"
   ]
  },
  {
   "cell_type": "code",
   "execution_count": 28,
   "metadata": {},
   "outputs": [
    {
     "data": {
      "text/html": [
       "<div>\n",
       "<style scoped>\n",
       "    .dataframe tbody tr th:only-of-type {\n",
       "        vertical-align: middle;\n",
       "    }\n",
       "\n",
       "    .dataframe tbody tr th {\n",
       "        vertical-align: top;\n",
       "    }\n",
       "\n",
       "    .dataframe thead th {\n",
       "        text-align: right;\n",
       "    }\n",
       "</style>\n",
       "<table border=\"1\" class=\"dataframe\">\n",
       "  <thead>\n",
       "    <tr style=\"text-align: right;\">\n",
       "      <th>ID</th>\n",
       "      <th>5e277282526a87486f9d3a74</th>\n",
       "      <th>5e277282526a87486f9d3a20</th>\n",
       "    </tr>\n",
       "  </thead>\n",
       "  <tbody>\n",
       "    <tr>\n",
       "      <th>FIPS</th>\n",
       "      <td>26061</td>\n",
       "      <td>26061</td>\n",
       "    </tr>\n",
       "    <tr>\n",
       "      <th>STATEFP</th>\n",
       "      <td>26</td>\n",
       "      <td>26</td>\n",
       "    </tr>\n",
       "    <tr>\n",
       "      <th>county_name</th>\n",
       "      <td>Houghton</td>\n",
       "      <td>Houghton</td>\n",
       "    </tr>\n",
       "    <tr>\n",
       "      <th>lat_center</th>\n",
       "      <td>47.0438</td>\n",
       "      <td>47.0919</td>\n",
       "    </tr>\n",
       "    <tr>\n",
       "      <th>lng_center</th>\n",
       "      <td>-88.5901</td>\n",
       "      <td>-88.5605</td>\n",
       "    </tr>\n",
       "    <tr>\n",
       "      <th>range</th>\n",
       "      <td>34W</td>\n",
       "      <td>34W</td>\n",
       "    </tr>\n",
       "    <tr>\n",
       "      <th>sect</th>\n",
       "      <td>26</td>\n",
       "      <td>12</td>\n",
       "    </tr>\n",
       "    <tr>\n",
       "      <th>state_name</th>\n",
       "      <td>Michigan</td>\n",
       "      <td>Michigan</td>\n",
       "    </tr>\n",
       "    <tr>\n",
       "      <th>twnshp</th>\n",
       "      <td>54N</td>\n",
       "      <td>54N</td>\n",
       "    </tr>\n",
       "  </tbody>\n",
       "</table>\n",
       "</div>"
      ],
      "text/plain": [
       "ID          5e277282526a87486f9d3a74 5e277282526a87486f9d3a20\n",
       "FIPS                           26061                    26061\n",
       "STATEFP                           26                       26\n",
       "county_name                 Houghton                 Houghton\n",
       "lat_center                   47.0438                  47.0919\n",
       "lng_center                  -88.5901                 -88.5605\n",
       "range                            34W                      34W\n",
       "sect                              26                       12\n",
       "state_name                  Michigan                 Michigan\n",
       "twnshp                           54N                      54N"
      ]
     },
     "execution_count": 28,
     "metadata": {},
     "output_type": "execute_result"
    }
   ],
   "source": [
    "geographic_db.set_index('ID').T"
   ]
  },
  {
   "cell_type": "markdown",
   "metadata": {},
   "source": [
    "### Visualize Parcels on Map"
   ]
  },
  {
   "cell_type": "code",
   "execution_count": 29,
   "metadata": {},
   "outputs": [],
   "source": [
    "#Convert shapes to geojson\n",
    "shapes = []\n",
    "for record in LandValueResponse:\n",
    "    wkt = record['basics']['Shape']\n",
    "    g1 = shapely.wkt.loads(wkt)\n",
    "    g2 = geojson.Feature(geometry=g1)\n",
    "    shapes.append(g2)"
   ]
  },
  {
   "cell_type": "code",
   "execution_count": 30,
   "metadata": {},
   "outputs": [
    {
     "data": {
      "text/html": [
       "<div style=\"width:100%;\"><div style=\"position:relative;width:100%;height:0;padding-bottom:60%;\"><iframe src=\"data:text/html;charset=utf-8;base64,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\" style=\"position:absolute;width:100%;height:100%;left:0;top:0;border:none !important;\" allowfullscreen webkitallowfullscreen mozallowfullscreen></iframe></div></div>"
      ],
      "text/plain": [
       "<folium.folium.Map at 0x2cba58965f8>"
      ]
     },
     "execution_count": 30,
     "metadata": {},
     "output_type": "execute_result"
    }
   ],
   "source": [
    "#Display parcels on map\n",
    "zoom_point=json.loads(Bounding_box)['geometry']['coordinates'][0][0]\n",
    "m = folium.Map([zoom_point[1],zoom_point[0]],tiles='Cartodb Positron', zoom_start=11,width='70%', height='100%')\n",
    "for shape in shapes:\n",
    "    folium.GeoJson(shape).add_to(m)\n",
    "m"
   ]
  }
 ],
 "metadata": {
  "kernelspec": {
   "display_name": "agflask-env",
   "language": "python",
   "name": "agflask-env"
  },
  "language_info": {
   "codemirror_mode": {
    "name": "ipython",
    "version": 3
   },
   "file_extension": ".py",
   "mimetype": "text/x-python",
   "name": "python",
   "nbconvert_exporter": "python",
   "pygments_lexer": "ipython3",
   "version": "3.6.6"
  }
 },
 "nbformat": 4,
 "nbformat_minor": 2
}
