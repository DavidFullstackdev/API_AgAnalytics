{
 "cells": [
  {
   "cell_type": "markdown",
   "metadata": {},
   "source": [
    "# Ag-Analytics-Harmonised Landsat Sentinel API-Demo\n"
   ]
  },
  {
   "cell_type": "markdown",
   "metadata": {},
   "source": [
    "<br>The Harmonized Landsat and Sentinel-2 (HLS) is a NASA initiative to produce a Virtual Constellation (VC) of surface reflectance (SR) data from the Operational Land Imager (OLI) and MultiSpectral Instrument (MSI) onboard the Landsat 8 and Sentinel-2 remote sensing satellites, respectively. The data from these satellites creates unprecedented opportunities for timely and accurate observation of Earth status and dynamics at moderate (<30 m) spatial resolution every 2-3 days.\n",
    "\n",
    "<br>The Ag-Analytics provides the service which a user can provide a polygon in specific formats in additional with more customized options to retrieve the dynamics of their land at various times for Landsat from 2013 and Sentinel-2 from 2015 calendar years. Additionally, this service also provides information on cloud cover, statistics, Normalized Difference Vegetation Index in addition to MSI bands information.\n",
    "\n",
    "\n",
    "<br> Experience the usage of this service on Ag-Analytics website using below link\n",
    "<br>https://ag-analytics.portal.azure-api.net/docs/services/harmonized-landsat-sentinel-service/operations/hls-service"
   ]
  },
  {
   "cell_type": "code",
   "execution_count": 1,
   "metadata": {},
   "outputs": [
    {
     "data": {
      "application/javascript": [
       "IPython.notebook.set_autosave_interval(0)"
      ]
     },
     "metadata": {},
     "output_type": "display_data"
    },
    {
     "name": "stdout",
     "output_type": "stream",
     "text": [
      "Autosave disabled\n"
     ]
    }
   ],
   "source": [
    "import requests\n",
    "import json\n",
    "import time\n",
    "import os\n",
    "from pandas.io.json import json_normalize\n",
    "from collections import defaultdict\n",
    "import pandas as pd\n",
    "import zipfile, io\n",
    "from IPython.display import Image\n",
    "\n",
    "%matplotlib inline\n",
    "%autosave 0"
   ]
  },
  {
   "cell_type": "markdown",
   "metadata": {},
   "source": [
    "### Request Parameters Details:\n",
    "\n",
    "####Request URL: https://aganalyticsapimanagementservice.azure-api.net/hls/detect_and_clip_tiles\n",
    "\n",
    "\n",
    "1) ***aoi ***(geometry, file/text, required): The structure of the geometry can be one of the following.\n",
    "<br>\n",
    "i.\t  JSON geometry objects returned by the arcgis rest api, (file/text) \n",
    "ii.\t  GEOJSON (file/text)\n",
    "iii.  Shapefile (file)\n",
    "iv.\t  Raster of tiff extension (file)\n",
    "\n",
    "\n",
    "2) ***Band*** (Spectral band name, list, required): Provide the list of HLS Spectral band names to retrieve for given aoi<br>\n",
    "•\tCurrently Supporting: Red, Green, Blue, NDVI, Coastal Aerosol, NIR\n",
    "\n",
    "\n",
    "3) ***satellite***(Type of satellite, text, optional):<br>  Landsat or Sentinel. Default (Landsat)\n",
    "\n",
    "4) ***resolution*** (cellsize in meters, float, optional):<br> Default (0.0001)\n",
    "\n",
    "\n",
    "5) ***Startdate*** (Date, mm/dd/yyyy, optional): Enter the starting date to capture the details from Landsat/Sentinel-2<br>\n",
    "•\tYear in Startdate for Landsat should start from 2013 <br>\n",
    "•\tYear in Startdate for Sentinel should start from 2015 <br>\n",
    "•\tNote Startdate and Enddate both should be given, In the absence of other the service retrieves the latest information available on the land.<br>\n",
    "\n",
    "6) ***Enddate*** (Date, mm/dd/yyyy, optional): Enter the end date to capture the details from Landsat/Sentinel-2<br>\n",
    "•\tYear in Enddate for Landsat can be till current year <br>\n",
    "•\tYear in Enddate for Sentinel can be till current year <br>\n",
    "•\tNote Startdate and Enddate both should be given, In the absence of other the service retrieves the latest information available on the land<br>\n",
    "\n",
    "7) ***byweek*** (int,boolean,optional):This parameter will mosaic the rasters in a week Default 1\n",
    "\n",
    "\n",
    "In order to get Ocp-Apim-Subscription-Key, please click on this link https://ag-analytics.org/developer/Session/SignInFromPayment"
   ]
  },
  {
   "cell_type": "markdown",
   "metadata": {},
   "source": [
    "### Request Parameters"
   ]
  },
  {
   "cell_type": "code",
   "execution_count": 2,
   "metadata": {},
   "outputs": [],
   "source": [
    "values={\"aoi\": '{\"type\":\"Feature\",\"geometry\":{\"type\":\"Polygon\",\"coordinates\":[[[-93.511545,42.071053],[-93.511565,42.074566],[-93.50667,42.074588],[-93.501908,42.074559],[-93.501936,42.071045],[-93.511545,42.071053]]]},\"properties\":{\"OBJECTID\":3350330,\"CALCACRES\":77.09999847,\"CALCACRES2\":null},\"id\":3350330}',\n",
    "\"Band\": \"['NDVI']\",\n",
    "\"Enddate\": \"3/8/2019\",\n",
    "\"Startdate\": \"3/2/2019\",\n",
    "\"legendtype\": \"Relative\",\n",
    "\"satellite\": \"Landsat,Sentinel\",\n",
    "\"resolution\":\"0.00001\",\n",
    "\"byweek\":\"1\"}\n",
    "\n",
    "\n",
    "    \n",
    "headers={'Content-Type':'application/x-www-form-urlencoded','Ocp-Apim-Subscription-Key': 'xxxxxxxxxxxxxxxxxxxxxxxxxxxxxx'}\n",
    "           "
   ]
  },
  {
   "cell_type": "markdown",
   "metadata": {},
   "source": [
    "###  API Function"
   ]
  },
  {
   "cell_type": "code",
   "execution_count": 5,
   "metadata": {},
   "outputs": [],
   "source": [
    "def harmonisedlandsatdata(values,headers):\n",
    "    try:\n",
    "        url = \"https://aganalyticsapimanagementservice.azure-api.net/detect_and_clip_tiles\"        \n",
    "     \n",
    "        response = requests.post(url, data=values,headers=headers).json()\n",
    "        \n",
    "        print(response)\n",
    "\n",
    "        return response\n",
    "    \n",
    "    except Exception as e:\n",
    "        print(e)\n",
    "        raise e"
   ]
  },
  {
   "cell_type": "markdown",
   "metadata": {},
   "source": [
    "### Calling API Function and Displaying Response"
   ]
  },
  {
   "cell_type": "code",
   "execution_count": 6,
   "metadata": {
    "scrolled": true
   },
   "outputs": [
    {
     "name": "stdout",
     "output_type": "stream",
     "text": [
      "[{'tiledate': '02/25/2019-03/03/2019', 'band': 'NDVI', 'download_url': 'downloads/raster_bandNDVI_date2019056-2019062_20191204_205712_3537.tif', 'features': [{'attributes': {'OID': 0, 'Extent': '-93.51155513090414, 42.071050716073884, -93.50191513090414, 42.07458071607388', 'Mean': -0.05406530029859541, 'Max': -0.05220879137841957, 'Min': -0.05630117657168601, 'Std': 0.0006640823555605791, 'Percentile5': -0.05510107010083765, 'Percentile95': -0.052937400036051505, 'pngb64': 'data:image/png;base64, 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', 'Legend': [{'color': '#ff0000', 'Min': -0.05630117657168601, 'Max': -0.05561911237280827, 'Mean': -0.05596014447224714, 'Area': '0.6 %', 'Count': 1702, 'CountAllPixels': 281440}, {'color': '#ff6666', 'Min': -0.05561911237280827, 'Max': -0.05493704817393053, 'Mean': -0.055278080273369404, 'Area': '9.51 %', 'Count': 26764, 'CountAllPixels': 281440}, {'color': '#ffff66', 'Min': -0.05493704817393053, 'Max': -0.054254983975052795, 'Mean': -0.05459601607449166, 'Area': '30.2 %', 'Count': 84990, 'CountAllPixels': 281440}, {'color': '#ffff00', 'Min': -0.054254983975052795, 'Max': -0.05357291977617505, 'Mean': -0.05391395187561392, 'Area': '35.27 %', 'Count': 99263, 'CountAllPixels': 281440}, {'color': '#66ff66', 'Min': -0.05357291977617505, 'Max': -0.05289085557729731, 'Mean': -0.05323188767673618, 'Area': '19.93 %', 'Count': 56104, 'CountAllPixels': 281440}, {'color': '#00ff00', 'Min': -0.05289085557729731, 'Max': -0.05220879137841957, 'Mean': -0.05254982347785844, 'Area': '4.48 %', 'Count': 12617, 'CountAllPixels': 281440}], 'CoordinateSystem': 'GEOGCS[\"WGS 84\",DATUM[\"WGS_1984\",SPHEROID[\"WGS 84\",6378137,298.257223563,AUTHORITY[\"EPSG\",\"7030\"]],AUTHORITY[\"EPSG\",\"6326\"]],PRIMEM[\"Greenwich\",0,AUTHORITY[\"EPSG\",\"8901\"]],UNIT[\"degree\",0.0174532925199433,AUTHORITY[\"EPSG\",\"9122\"]],AUTHORITY[\"EPSG\",\"4326\"]]', 'CellSize': [1.0000000000004704e-05, -9.999999999993804e-06], 'Matrix': [353, 964]}}], 'Xcoordinates': '', 'Ycoordinates': '', 'Values': '', 'error': '', 'nodata_raster': False, 'dayoftiles': '2019056-2019062', 'week': '9'}, {'tiledate': '03/04/2019-03/10/2019', 'band': 'NDVI', 'download_url': 'downloads/raster_bandNDVI_date2019063-2019069_20191204_205713_8814.tif', 'features': [{'attributes': {'OID': 0, 'Extent': '-93.51155513090414, 42.071050716073884, -93.50191513090414, 42.07458071607388', 'Mean': -0.02874932533850765, 'Max': -0.021922297374343713, 'Min': -0.04038802564650479, 'Std': 0.0035170479899424194, 'Percentile5': -0.03538869607157529, 'Percentile95': -0.02369910008859827, 'pngb64': 'data:image/png;base64, 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', 'Legend': [{'color': '#ff0000', 'Min': -0.04038802564650479, 'Max': -0.03731040426781128, 'Mean': -0.03884921495715803, 'Area': '1.15 %', 'Count': 3235, 'CountAllPixels': 281440}, {'color': '#ff6666', 'Min': -0.03731040426781128, 'Max': -0.03423278288911776, 'Mean': -0.03577159357846452, 'Area': '7.92 %', 'Count': 22293, 'CountAllPixels': 281440}, {'color': '#ffff66', 'Min': -0.03423278288911776, 'Max': -0.031155161510424252, 'Mean': -0.03269397219977101, 'Area': '13.95 %', 'Count': 39254, 'CountAllPixels': 281440}, {'color': '#ffff00', 'Min': -0.031155161510424252, 'Max': -0.028077540131730735, 'Mean': -0.029616350821077494, 'Area': '30.24 %', 'Count': 85114, 'CountAllPixels': 281440}, {'color': '#66ff66', 'Min': -0.028077540131730735, 'Max': -0.024999918753037226, 'Mean': -0.02653872944238398, 'Area': '31.86 %', 'Count': 89667, 'CountAllPixels': 281440}, {'color': '#00ff00', 'Min': -0.024999918753037226, 'Max': -0.021922297374343713, 'Mean': -0.02346110806369047, 'Area': '14.88 %', 'Count': 41877, 'CountAllPixels': 281440}], 'CoordinateSystem': 'GEOGCS[\"WGS 84\",DATUM[\"WGS_1984\",SPHEROID[\"WGS 84\",6378137,298.257223563,AUTHORITY[\"EPSG\",\"7030\"]],AUTHORITY[\"EPSG\",\"6326\"]],PRIMEM[\"Greenwich\",0,AUTHORITY[\"EPSG\",\"8901\"]],UNIT[\"degree\",0.0174532925199433,AUTHORITY[\"EPSG\",\"9122\"]],AUTHORITY[\"EPSG\",\"4326\"]]', 'CellSize': [1.0000000000004704e-05, -9.999999999993804e-06], 'Matrix': [353, 964]}}], 'Xcoordinates': '', 'Ycoordinates': '', 'Values': '', 'error': '', 'nodata_raster': False, 'dayoftiles': '2019063-2019069', 'week': '10'}]\n"
     ]
    }
   ],
   "source": [
    "hlsresponse=harmonisedlandsatdata(values,headers)"
   ]
  },
  {
   "cell_type": "markdown",
   "metadata": {},
   "source": [
    "### Displaying  Output Image"
   ]
  },
  {
   "cell_type": "code",
   "execution_count": 7,
   "metadata": {},
   "outputs": [
    {
     "name": "stdout",
     "output_type": "stream",
     "text": [
      "Legend Values :  [{'color': '#ff0000', 'Min': -0.05630117657168601, 'Max': -0.05561911237280827, 'Mean': -0.05596014447224714, 'Area': '0.6 %', 'Count': 1702, 'CountAllPixels': 281440}, {'color': '#ff6666', 'Min': -0.05561911237280827, 'Max': -0.05493704817393053, 'Mean': -0.055278080273369404, 'Area': '9.51 %', 'Count': 26764, 'CountAllPixels': 281440}, {'color': '#ffff66', 'Min': -0.05493704817393053, 'Max': -0.054254983975052795, 'Mean': -0.05459601607449166, 'Area': '30.2 %', 'Count': 84990, 'CountAllPixels': 281440}, {'color': '#ffff00', 'Min': -0.054254983975052795, 'Max': -0.05357291977617505, 'Mean': -0.05391395187561392, 'Area': '35.27 %', 'Count': 99263, 'CountAllPixels': 281440}, {'color': '#66ff66', 'Min': -0.05357291977617505, 'Max': -0.05289085557729731, 'Mean': -0.05323188767673618, 'Area': '19.93 %', 'Count': 56104, 'CountAllPixels': 281440}, {'color': '#00ff00', 'Min': -0.05289085557729731, 'Max': -0.05220879137841957, 'Mean': -0.05254982347785844, 'Area': '4.48 %', 'Count': 12617, 'CountAllPixels': 281440}]\n",
      "Legend Values :  [{'color': '#ff0000', 'Min': -0.04038802564650479, 'Max': -0.03731040426781128, 'Mean': -0.03884921495715803, 'Area': '1.15 %', 'Count': 3235, 'CountAllPixels': 281440}, {'color': '#ff6666', 'Min': -0.03731040426781128, 'Max': -0.03423278288911776, 'Mean': -0.03577159357846452, 'Area': '7.92 %', 'Count': 22293, 'CountAllPixels': 281440}, {'color': '#ffff66', 'Min': -0.03423278288911776, 'Max': -0.031155161510424252, 'Mean': -0.03269397219977101, 'Area': '13.95 %', 'Count': 39254, 'CountAllPixels': 281440}, {'color': '#ffff00', 'Min': -0.031155161510424252, 'Max': -0.028077540131730735, 'Mean': -0.029616350821077494, 'Area': '30.24 %', 'Count': 85114, 'CountAllPixels': 281440}, {'color': '#66ff66', 'Min': -0.028077540131730735, 'Max': -0.024999918753037226, 'Mean': -0.02653872944238398, 'Area': '31.86 %', 'Count': 89667, 'CountAllPixels': 281440}, {'color': '#00ff00', 'Min': -0.024999918753037226, 'Max': -0.021922297374343713, 'Mean': -0.02346110806369047, 'Area': '14.88 %', 'Count': 41877, 'CountAllPixels': 281440}]\n"
     ]
    },
    {
     "data": {
      "text/html": [
       "<img src=\"data:image/png;base64, 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\"/>"
      ],
      "text/plain": [
       "<IPython.core.display.Image object>"
      ]
     },
     "execution_count": 7,
     "metadata": {},
     "output_type": "execute_result"
    }
   ],
   "source": [
    "for resp in hlsresponse:\n",
    "    if resp[\"band\"]==\"NDVI\" and resp[\"download_url\"]!=\"\":\n",
    "        \n",
    "        print(\"Legend Values : \",resp[\"features\"][0]['attributes']['Legend'])\n",
    "        \n",
    "        img_uri=resp[\"features\"][0]['attributes'][\"pngb64\"]\n",
    "        \n",
    "        Image(url=img_uri)\n",
    "\n",
    "        \n",
    "        \n",
    "\n",
    "Image(url=img_uri)        \n",
    "        "
   ]
  },
  {
   "cell_type": "markdown",
   "metadata": {},
   "source": [
    "# GET Request"
   ]
  },
  {
   "cell_type": "markdown",
   "metadata": {},
   "source": [
    "GET request for downloading the HLS images returned in the POST request."
   ]
  },
  {
   "cell_type": "code",
   "execution_count": 8,
   "metadata": {},
   "outputs": [],
   "source": [
    "# User specified local path where file will be downloaded.\n",
    "local_path = r\"C:\\<Path to download directory>\" # E.g., r\"C:\\Users\\John_Doe\\Documents\\rasters\""
   ]
  },
  {
   "cell_type": "code",
   "execution_count": 19,
   "metadata": {},
   "outputs": [],
   "source": [
    "def HLS_get(local_path):\n",
    "    try:\n",
    "        url = \"https://aganalyticsapimanagementservice.azure-api.net/detect_and_clip_tiles\"\n",
    "    \n",
    "        for resp in hlsresponse:\n",
    "            file_url = resp['download_url']\n",
    "            file_name = file_url.split('/')[-1]\n",
    "            download_path = os.path.join(local_path, file_name)\n",
    "            \n",
    "            values = {'filename': file_name}\n",
    "     \n",
    "            response = requests.get(url, params=values)\n",
    "            open(download_path, 'wb').write(response.content)\n",
    "        \n",
    "            print(response.url)\n",
    "\n",
    "        return response\n",
    "    \n",
    "    except Exception as e:\n",
    "        print(e)\n",
    "        raise e"
   ]
  },
  {
   "cell_type": "code",
   "execution_count": 20,
   "metadata": {},
   "outputs": [
    {
     "name": "stdout",
     "output_type": "stream",
     "text": [
      "https://agflaskdev.eastus2.cloudapp.azure.com/flask_api/api/v1.0/tile_service/detect_and_clip_tiles?filename=raster_bandNDVI_date2019056-2019062_20191204_205712_3537.tif\n",
      "https://agflaskdev.eastus2.cloudapp.azure.com/flask_api/api/v1.0/tile_service/detect_and_clip_tiles?filename=raster_bandNDVI_date2019063-2019069_20191204_205713_8814.tif\n"
     ]
    },
    {
     "data": {
      "text/plain": [
       "<Response [200]>"
      ]
     },
     "execution_count": 20,
     "metadata": {},
     "output_type": "execute_result"
    }
   ],
   "source": [
    "HLS_get(local_path)"
   ]
  },
  {
   "cell_type": "code",
   "execution_count": null,
   "metadata": {},
   "outputs": [],
   "source": []
  }
 ],
 "metadata": {
  "kernelspec": {
   "display_name": "Python 3",
   "language": "python",
   "name": "python3"
  },
  "language_info": {
   "codemirror_mode": {
    "name": "ipython",
    "version": 3
   },
   "file_extension": ".py",
   "mimetype": "text/x-python",
   "name": "python",
   "nbconvert_exporter": "python",
   "pygments_lexer": "ipython3",
   "version": "3.6.8"
  }
 },
 "nbformat": 4,
 "nbformat_minor": 2
}
