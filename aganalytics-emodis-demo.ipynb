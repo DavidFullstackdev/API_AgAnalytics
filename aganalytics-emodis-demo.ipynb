{
 "cells": [
  {
   "cell_type": "markdown",
   "metadata": {},
   "source": [
    "# Ag Analytics-eMODIS-demo"
   ]
  },
  {
   "cell_type": "markdown",
   "metadata": {},
   "source": [
    "This eMODIS API provides a Normalized Difference Vegetation Index (NDVI), which quantifies vegetation by measuring the difference between near-infrared (which vegetation strongly reflects) and red light (which vegetation absorbs)."
   ]
  },
  {
   "cell_type": "code",
   "execution_count": null,
   "metadata": {},
   "outputs": [],
   "source": [
    "import requests\n",
    "import json\n",
    "import time\n",
    "from pandas.io.json import json_normalize\n",
    "import numpy as np\n",
    "import pandas as pd\n",
    "import matplotlib.pyplot as plt\n",
    "%autosave 0"
   ]
  },
  {
   "cell_type": "markdown",
   "metadata": {},
   "source": [
    "### API Details\n",
    "\n",
    "####Request URL:https://ag-analytics.azure-api.net/eMODIS/[?year][&shape][&filtered][&startYear]\n",
    "\n",
    "####Request parameters\n",
    "\n",
    "***year - ***\n",
    "The year of which you would like to receive data up to. (e.g. – 2018)\n",
    "\n",
    "***shape - ***\n",
    "(ESRI Polygon shape): The shape information for field in esriGeometryPolygon format. See example request below. Standard open source JavaScript front-end libraries (e.g., Leaflet) can be used to structure the shape.\n",
    "\n",
    "***filtered - ***\n",
    "Filter values using modified SG filter.\n",
    "\n",
    "***startYear - ***\n",
    "The year you would like the historical range to start. (e.g. 2002 -)\n",
    "\n",
    "\n",
    "In order to get Ocp-Apim-Subscription-Key, please click on this link https://analytics.ag/Session/SignInToAPIPayment\n"
   ]
  },
  {
   "cell_type": "markdown",
   "metadata": {},
   "source": [
    "### Request Parameters"
   ]
  },
  {
   "cell_type": "code",
   "execution_count": null,
   "metadata": {},
   "outputs": [],
   "source": [
    "year=2019\n",
    "shape={\"rings\":[[[-91.42396,38.285882],[-91.424146,38.285908],[-91.424585,38.285883],[-91.424669,38.285878],[-91.424981,38.2857],[-91.425093,38.285636],[-91.425162,38.285572],[-91.425365,38.285384],[-91.425408,38.285312],[-91.425564,38.285048],[-91.425676,38.284729],[-91.425753,38.284391],[-91.425933,38.284091],[-91.426397,38.283576],[-91.426753,38.283242],[-91.42733,38.282874],[-91.427799,38.28267],[-91.428179,38.282556],[-91.428529,38.282496],[-91.428971,38.282456],[-91.429343,38.282461],[-91.429609,38.282529],[-91.430162,38.282738],[-91.431095,38.283107],[-91.431361,38.283148],[-91.431722,38.283107],[-91.432515,38.282696],[-91.433079,38.282402],[-91.433506,38.281959],[-91.433796,38.28145],[-91.433935,38.280939],[-91.434023,38.28062],[-91.434217,38.280247],[-91.434515,38.279884],[-91.435083,38.279398],[-91.435737,38.278775],[-91.435842,38.278675],[-91.436245,38.278296],[-91.436674,38.278036],[-91.436825,38.277933],[-91.436832,38.278407],[-91.437145,38.278468],[-91.437252,38.278341],[-91.437768,38.278302],[-91.437892,38.284998],[-91.437906,38.285771],[-91.437906,38.285773],[-91.433113,38.285862],[-91.423955,38.28603],[-91.423961,38.286021],[-91.42396,38.285882]],[[-91.436093,38.278766],[-91.43616,38.278913],[-91.43631,38.278942],[-91.436473,38.278917],[-91.436465,38.278761],[-91.436374,38.278687],[-91.436166,38.278647],[-91.436093,38.278766]]],\"spatialReference\":{\"wkid\":4326}}\n",
    "filtered=True\n",
    "startyear=2002\n",
    "headers={'Ocp-Apim-Subscription-Key': 'xxxxxxxxxxxxxxxxxxxxxxxxxxxxxxxxxxx'}\n",
    "           "
   ]
  },
  {
   "cell_type": "markdown",
   "metadata": {},
   "source": [
    "###  API Function"
   ]
  },
  {
   "cell_type": "code",
   "execution_count": null,
   "metadata": {},
   "outputs": [],
   "source": [
    "def get_NDVI(year,shape,filtered,startyear,headers):\n",
    "    try:\n",
    "        url = \"https://ag-analytics.azure-api.net/eMODIS/?year={}&shape={}&filtered={}&startYear={}\".format(year,shape,filtered,startyear)\n",
    "        response = (requests.get(url,headers=headers).text)\n",
    "\n",
    "        \n",
    "        \n",
    "        response_json = json.loads(response)\n",
    "        \n",
    "        print(response_json)\n",
    "        \n",
    "\n",
    "        time.sleep(0.5)\n",
    "        return response_json\n",
    "    \n",
    "    except Exception as e:\n",
    "        raise e"
   ]
  },
  {
   "cell_type": "markdown",
   "metadata": {},
   "source": [
    "### Calling API Function and print output"
   ]
  },
  {
   "cell_type": "code",
   "execution_count": null,
   "metadata": {},
   "outputs": [],
   "source": [
    "ndvidata=get_NDVI(year,shape,filtered,startyear,headers)\n"
   ]
  },
  {
   "cell_type": "markdown",
   "metadata": {},
   "source": [
    "### Displaying Output"
   ]
  },
  {
   "cell_type": "code",
   "execution_count": null,
   "metadata": {},
   "outputs": [],
   "source": [
    "\n",
    "res=pd.DataFrame()\n",
    "\n",
    "for i,j in enumerate(ndvidata):\n",
    "    \n",
    "    for index in ndvidata[i].keys():\n",
    "            \n",
    "        \n",
    "        df = pd.DataFrame.from_records(j[index])\n",
    "        df.rename(columns={'NDVI Value':index},inplace=True)\n",
    "        if res.empty:\n",
    "            res=df\n",
    "        else:\n",
    "            res=res.merge(df,on=\"Week\",how=\"outer\")\n",
    "        \n",
    "res.set_index('Week',inplace=True)\n",
    "res=res.sort_index()\n",
    "plt.plot(res)\n",
    "plt.xlabel(\"week\")\n",
    "plt.ylabel(\"NDVI Values\")\n",
    "plt.title(\"Emodis NDVI\")\n",
    "plt.legend(res.columns)"
   ]
  },
  {
   "cell_type": "code",
   "execution_count": null,
   "metadata": {},
   "outputs": [],
   "source": []
  }
 ],
 "metadata": {
  "kernelspec": {
   "display_name": "Python 3",
   "language": "python",
   "name": "python3"
  },
  "language_info": {
   "codemirror_mode": {
    "name": "ipython",
    "version": 3
   },
   "file_extension": ".py",
   "mimetype": "text/x-python",
   "name": "python",
   "nbconvert_exporter": "python",
   "pygments_lexer": "ipython3",
   "version": "3.6.6"
  }
 },
 "nbformat": 4,
 "nbformat_minor": 2
}
