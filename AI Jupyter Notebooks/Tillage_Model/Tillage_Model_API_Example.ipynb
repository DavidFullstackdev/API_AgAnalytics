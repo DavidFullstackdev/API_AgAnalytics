{
 "cells": [
  {
   "cell_type": "markdown",
   "metadata": {},
   "source": [
    "# Ag-Analytics® - Tillage Model API"
   ]
  },
  {
   "cell_type": "markdown",
   "metadata": {},
   "source": [
    "The Ag-Analytics® Tillage Model API uses artificial intelligence algorithms to determine whether a field has been tilled at a certain date of the year. The Tillage Model API provides service by considering satellite imagery, field location, and time of the year.\n",
    "\n",
    "The Tillage Model is a “backfilling model”, meaning that it can determine whether a field was tilled in the past, rather than provide prediction as to whether a field will be tilled. The model uses a seven-week window of landsat imagery, so as long as the date requested is more than three weeks prior to the current date (i.e., if today is Monday of the 20th week of the year, the latest request that can be made is for the 16th week.).\n"
   ]
  },
  {
   "cell_type": "code",
   "execution_count": 9,
   "metadata": {},
   "outputs": [
    {
     "data": {
      "application/javascript": [
       "IPython.notebook.set_autosave_interval(0)"
      ]
     },
     "metadata": {},
     "output_type": "display_data"
    },
    {
     "name": "stdout",
     "output_type": "stream",
     "text": [
      "Autosave disabled\n"
     ]
    }
   ],
   "source": [
    "import requests\n",
    "import json\n",
    "import time\n",
    "from pandas.io.json import json_normalize\n",
    "from collections import defaultdict\n",
    "import pandas as pd\n",
    "import zipfile, io\n",
    "from IPython.display import Image\n",
    "\n",
    "%matplotlib inline\n",
    "%autosave 0"
   ]
  },
  {
   "cell_type": "markdown",
   "metadata": {},
   "source": [
    "### Request Parameters Details:\n",
    "####Request URL: https://ag-analytics.azure-api.net/tillage-model/[?f][&geometry]\n",
    "\n",
    "1) ***ModelType*** (Text, optional): Determines the type of model to be used for prediction. Can be one of the following:\n",
    "- \"RF\": Random forest classifier\n",
    "- \"NN\": Neural network\n",
    "- \"SVM\": Support vector machine\n",
    "\n",
    "2) ***SHAPE*** (geometry, file/text, required): The boundary of the field of interest.\n",
    "\n",
    "3) ***TillageStartDate*** (Date, mm-dd-yyyy, required): The date of interest for predicting tillage.\n"
   ]
  },
  {
   "cell_type": "markdown",
   "metadata": {},
   "source": [
    "### Request Parameters"
   ]
  },
  {
   "cell_type": "markdown",
   "metadata": {},
   "source": [
    "The Tillage API service takes the request in Json format. Below are examples formatted in Json."
   ]
  },
  {
   "cell_type": "code",
   "execution_count": 156,
   "metadata": {},
   "outputs": [],
   "source": [
    "values = {\n",
    "\"ModelType\": \"SVM\",\n",
    "\"SHAPE\": \"{\\\"type\\\":\\\"Feature\\\",\\\"geometry\\\":{\\\"type\\\":\\\"Polygon\\\",\\\"coordinates\\\":[[[-89.199484,40.972729],[-89.199773,40.97258],[-89.200135,40.972415],[-89.20034,40.972318],[-89.200445,40.972177],[-89.200439,40.972001],[-89.200404,40.971815],[-89.200245,40.971599],[-89.20004,40.971397],[-89.199869,40.971233],[-89.199865,40.971097],[-89.199952,40.970952],[-89.200264,40.97078],[-89.200517,40.970664],[-89.200903,40.970471],[-89.201168,40.970345],[-89.201324,40.970277],[-89.201407,40.970174],[-89.201428,40.970042],[-89.20271,40.970005],[-89.202738,40.970421],[-89.202844,40.970431],[-89.202851,40.970648],[-89.203123,40.970666],[-89.203216,40.973626],[-89.20332,40.973635],[-89.203281,40.972154],[-89.203277,40.972049],[-89.203227,40.970607],[-89.204645,40.97055],[-89.204639,40.970427],[-89.205456,40.970446],[-89.205638,40.970467],[-89.206002,40.970527],[-89.206306,40.97059],[-89.206516,40.970642],[-89.206711,40.97061],[-89.20688,40.970542],[-89.207086,40.970492],[-89.207267,40.970414],[-89.207449,40.970364],[-89.207667,40.970286],[-89.207849,40.970255],[-89.208057,40.970251],[-89.208287,40.970328],[-89.208494,40.970369],[-89.208672,40.970421],[-89.208866,40.970506],[-89.208972,40.970511],[-89.209009,40.970595],[-89.20893,40.970671],[-89.208736,40.970787],[-89.208535,40.970909],[-89.208325,40.971052],[-89.207907,40.971306],[-89.207633,40.971478],[-89.207313,40.971574],[-89.207065,40.971645],[-89.206566,40.971699],[-89.206246,40.971784],[-89.205998,40.971878],[-89.205548,40.972042],[-89.205013,40.97232],[-89.20468,40.972494],[-89.204246,40.972725],[-89.203988,40.972931],[-89.203819,40.973168],[-89.203666,40.973428],[-89.203616,40.973685],[-89.203552,40.973966],[-89.203548,40.9743],[-89.203411,40.974615],[-89.203284,40.974906],[-89.202723,40.975587],[-89.20283,40.975719],[-89.203383,40.975106],[-89.203522,40.974847],[-89.203658,40.974521],[-89.203723,40.974241],[-89.20381,40.97376],[-89.203891,40.973546],[-89.20407,40.973197],[-89.204197,40.973016],[-89.204369,40.972868],[-89.204686,40.972672],[-89.205018,40.972499],[-89.205351,40.972314],[-89.205742,40.972139],[-89.206047,40.971999],[-89.206367,40.971904],[-89.206907,40.971771],[-89.207303,40.971719],[-89.207551,40.971658],[-89.207846,40.971535],[-89.207938,40.971481],[-89.208059,40.971448],[-89.208267,40.971295],[-89.208534,40.971115],[-89.209089,40.970762],[-89.209108,40.971493],[-89.209143,40.972829],[-89.209176,40.974108],[-89.209236,40.977186],[-89.20442,40.977285],[-89.199613,40.977383],[-89.199533,40.974593],[-89.199484,40.972729]]]},\\\"properties\\\":{\\\"OBJECTID\\\":5102679,\\\"CALCACRES\\\":145.08999634,\\\"CALCACRES2\\\":null},\\\"id\\\":5102679}\",\n",
    "\"ScalarVariables\": {\n",
    "\"TillageStartDate\": \"04-23-2018\"\n",
    "}\n",
    "}\n",
    "\n",
    "# Basic header pattern.\n",
    "headers={'Content-Type':'application/json'}\n",
    "\n",
    "# Header for using a subscription key.\n",
    "# headers={'Content-Type':'application/x-www-form-urlencoded','Ocp-Apim-Subscription-Key': '••••••••••••••••••••••••••••••••'}"
   ]
  },
  {
   "cell_type": "markdown",
   "metadata": {},
   "source": [
    "### API Fuction"
   ]
  },
  {
   "cell_type": "code",
   "execution_count": 160,
   "metadata": {},
   "outputs": [],
   "source": [
    "def tillage_forecast(values,headers):\n",
    "    try:\n",
    "        url = \"https://ag-analytics.azure-api.net/tillage-model/\"\n",
    "        url = \"http://127.0.0.1:5000/agflask/api/v1.0/Tillage_Model_Forecast\"\n",
    "     \n",
    "        response = requests.post(url, json=values, headers=headers).json()\n",
    "        \n",
    "        print(response)\n",
    "\n",
    "        return response\n",
    "    \n",
    "    except Exception as e:\n",
    "        print(e)\n",
    "        raise e"
   ]
  },
  {
   "cell_type": "markdown",
   "metadata": {},
   "source": [
    "### Calling API Function and Displaying Response"
   ]
  },
  {
   "cell_type": "code",
   "execution_count": 161,
   "metadata": {},
   "outputs": [
    {
     "name": "stdout",
     "output_type": "stream",
     "text": [
      "{'feature_averages': [{'Key': 'x', 'Value': -89.20441134369396}, {'Key': 'y', 'Value': 40.973876813508674}], 'raster_filename': 'result_tillageraster_20200626_204635_7403.tif', 'rasterinfo': [{'attributes': {'CellSize': [0.0001, -0.0001], 'CoordinateSystem': 'GEOGCS[\"WGS 84\",DATUM[\"WGS_1984\",SPHEROID[\"WGS 84\",6378137,298.257223563,AUTHORITY[\"EPSG\",\"7030\"]],AUTHORITY[\"EPSG\",\"6326\"]],PRIMEM[\"Greenwich\",0],UNIT[\"degree\",0.0174532925199433],AUTHORITY[\"EPSG\",\"4326\"]]', 'Extent': '-89.209236, 40.969983000000006, -89.19953600000001, 40.977383', 'Legend': [{'Area': 3.262830828783441, 'AreaPercent': '1.02 %', 'AreaUnit': 'ac', 'Count': 68, 'CountAllPixels': 6692, 'Till': 'No', 'Value': -1, 'Variety': 'Variety -1.0', 'color': '#4bbe84'}, {'Area': 317.8381089685517, 'AreaPercent': '98.98 %', 'AreaUnit': 'ac', 'Count': 6624, 'CountAllPixels': 6692, 'Till': 'Yes', 'Value': 1, 'Variety': 'Variety 1.0', 'color': '#7f0f41'}], 'pngb64': 'data:image/png;base64, iVBORw0KGgoAAAANSUhEUgAAAGEAAABKCAYAAACrbTpWAAABwklEQVR4nO3bTU7CQBxA8cG4d+VNuIByAu5jYjwRK5bEC3ATV97AVUkd6QcFZ95/eL8VQROmvExbpu0qpZTen16+kqp5qD0AGQHBCABGADACgBEAjABgBAAjABgBwAgARgAwAoARAIwAYAQAIwAYAcAIAEYAMAKAEQCMAGAEACMAGAHACABGADACgBEAjABgBABchONuk467Te1hFIWLcEsf35/Ptccwx2PtAeTW20PtIRTX9EyIoukIUR6IbDZClONBSg1HiDILUmo4QiRGAGgmQuQfeM1EiPz7opkIkRkBwAgARgAwAsDgKmr/lC/ymQdZt7QyGGG9PYQ+9ybL17VGryc4A25raFERd1GnRVMruh6YAYwAYIQCpq5tGKGQsRBGKGgohBEKOxfCCBXkIYwAYAQAIwAYAeAUwRXTek4RXDGtx1XUws6tqIaLMLXb7M/o/H9rzvax5exV9yLCDbTXHrdqRJhzd3iRmZAPpFTw/evbr8/dZ3//z3Fccmv+Kn/jVgNb8nzA1Gf3Z0L+BS9xzbYed5uzM2vJdv+J0FkywEgPZvTN2dahXWEX4pptH9wdzd2FRP3iLzF2LLqH7b8LP0SGbyiCI9wdAAAAAElFTkSuQmCC'}}]}\n"
     ]
    }
   ],
   "source": [
    "tillage_response=tillage_forecast(values,headers)"
   ]
  },
  {
   "cell_type": "markdown",
   "metadata": {},
   "source": [
    "### Displaying Output Image"
   ]
  },
  {
   "cell_type": "code",
   "execution_count": 162,
   "metadata": {},
   "outputs": [
    {
     "data": {
      "text/html": [
       "<style  type=\"text/css\" >\n",
       "    #T_6e04d24a_b7ee_11ea_b822_40a8f0580b71row0_col3 {\n",
       "            background-color:  #4bbe84;\n",
       "        }    #T_6e04d24a_b7ee_11ea_b822_40a8f0580b71row1_col3 {\n",
       "            background-color:  #7f0f41;\n",
       "        }</style><table id=\"T_6e04d24a_b7ee_11ea_b822_40a8f0580b71\" ><thead>    <tr>        <th class=\"blank level0\" ></th>        <th class=\"col_heading level0 col0\" >Till</th>        <th class=\"col_heading level0 col1\" >Till Value</th>        <th class=\"col_heading level0 col2\" >Area (ac)</th>        <th class=\"col_heading level0 col3\" >Color</th>    </tr></thead><tbody>\n",
       "                <tr>\n",
       "                        <th id=\"T_6e04d24a_b7ee_11ea_b822_40a8f0580b71level0_row0\" class=\"row_heading level0 row0\" >0</th>\n",
       "                        <td id=\"T_6e04d24a_b7ee_11ea_b822_40a8f0580b71row0_col0\" class=\"data row0 col0\" >No</td>\n",
       "                        <td id=\"T_6e04d24a_b7ee_11ea_b822_40a8f0580b71row0_col1\" class=\"data row0 col1\" >-1</td>\n",
       "                        <td id=\"T_6e04d24a_b7ee_11ea_b822_40a8f0580b71row0_col2\" class=\"data row0 col2\" >3</td>\n",
       "                        <td id=\"T_6e04d24a_b7ee_11ea_b822_40a8f0580b71row0_col3\" class=\"data row0 col3\" >#4bbe84</td>\n",
       "            </tr>\n",
       "            <tr>\n",
       "                        <th id=\"T_6e04d24a_b7ee_11ea_b822_40a8f0580b71level0_row1\" class=\"row_heading level0 row1\" >1</th>\n",
       "                        <td id=\"T_6e04d24a_b7ee_11ea_b822_40a8f0580b71row1_col0\" class=\"data row1 col0\" >Yes</td>\n",
       "                        <td id=\"T_6e04d24a_b7ee_11ea_b822_40a8f0580b71row1_col1\" class=\"data row1 col1\" >1</td>\n",
       "                        <td id=\"T_6e04d24a_b7ee_11ea_b822_40a8f0580b71row1_col2\" class=\"data row1 col2\" >318</td>\n",
       "                        <td id=\"T_6e04d24a_b7ee_11ea_b822_40a8f0580b71row1_col3\" class=\"data row1 col3\" >#7f0f41</td>\n",
       "            </tr>\n",
       "    </tbody></table>"
      ],
      "text/plain": [
       "<pandas.io.formats.style.Styler at 0x25823429e10>"
      ]
     },
     "execution_count": 162,
     "metadata": {},
     "output_type": "execute_result"
    }
   ],
   "source": [
    "# Image legend.\n",
    "df=defaultdict(list)\n",
    "for resp in tillage_response[\"rasterinfo\"][0]['attributes']['Legend']:\n",
    "    df['Till'].append(resp['Till'])\n",
    "    df['Till Value'].append(resp['Value'])\n",
    "    df['Area (ac)'].append(round(resp['Area']))\n",
    "    df['Color'].append(resp['color'])\n",
    "    \n",
    "\n",
    "# Create a Data Frame from the dictionary and display.\n",
    "tillagedf=pd.DataFrame.from_dict(df)\n",
    "tillagedf = tillagedf.style.applymap(lambda x:\"background-color: %s\"%x, subset=['Color'])\n",
    "tillagedf"
   ]
  },
  {
   "cell_type": "code",
   "execution_count": 163,
   "metadata": {},
   "outputs": [
    {
     "data": {
      "text/html": [
       "<img src=\"data:image/png;base64, iVBORw0KGgoAAAANSUhEUgAAAGEAAABKCAYAAACrbTpWAAABwklEQVR4nO3bTU7CQBxA8cG4d+VNuIByAu5jYjwRK5bEC3ATV97AVUkd6QcFZ95/eL8VQROmvExbpu0qpZTen16+kqp5qD0AGQHBCABGADACgBEAjABgBAAjABgBwAgARgAwAoARAIwAYAQAIwAYAcAIAEYAMAKAEQCMAGAEACMAGAHACABGADACgBEAjABgBABchONuk467Te1hFIWLcEsf35/Ptccwx2PtAeTW20PtIRTX9EyIoukIUR6IbDZClONBSg1HiDILUmo4QiRGAGgmQuQfeM1EiPz7opkIkRkBwAgARgAwAsDgKmr/lC/ymQdZt7QyGGG9PYQ+9ybL17VGryc4A25raFERd1GnRVMruh6YAYwAYIQCpq5tGKGQsRBGKGgohBEKOxfCCBXkIYwAYAQAIwAYAeAUwRXTek4RXDGtx1XUws6tqIaLMLXb7M/o/H9rzvax5exV9yLCDbTXHrdqRJhzd3iRmZAPpFTw/evbr8/dZ3//z3Fccmv+Kn/jVgNb8nzA1Gf3Z0L+BS9xzbYed5uzM2vJdv+J0FkywEgPZvTN2dahXWEX4pptH9wdzd2FRP3iLzF2LLqH7b8LP0SGbyiCI9wdAAAAAElFTkSuQmCC\" width=\"400\" height=\"200\"/>"
      ],
      "text/plain": [
       "<IPython.core.display.Image object>"
      ]
     },
     "execution_count": 163,
     "metadata": {},
     "output_type": "execute_result"
    }
   ],
   "source": [
    "# Display image of field.\n",
    "tillage_image = tillage_response[\"rasterinfo\"][0]['attributes'][\"pngb64\"]\n",
    "Image(url = tillage_image, width = 400, height = 200)"
   ]
  },
  {
   "cell_type": "markdown",
   "metadata": {},
   "source": [
    "## GET Request to Retrieve GeoTIFF"
   ]
  },
  {
   "cell_type": "code",
   "execution_count": 164,
   "metadata": {},
   "outputs": [
    {
     "name": "stdout",
     "output_type": "stream",
     "text": [
      "{'filename': 'result_tillageraster_20200626_204635_7403.tif'}\n"
     ]
    }
   ],
   "source": [
    "# Specify local path where file will be downloaded.\n",
    "local_path = r\"C:\\Users\\Alex\\Documents\" # E.g., r\"C:\\Users\\John_Doe\\Documents\\rasters\"\n",
    "# Create GET request payload.\n",
    "values = {'filename': tillage_response['raster_filename']}\n",
    "print(values)"
   ]
  },
  {
   "cell_type": "code",
   "execution_count": 167,
   "metadata": {},
   "outputs": [],
   "source": [
    "def tillage_get(values, local_path):\n",
    "    try:\n",
    "        url = 'https://ag-analytics.azure-api.net/tillage-model/'\n",
    "        \n",
    "        print('values', values)\n",
    "\n",
    "        response = requests.get(url, params=values)\n",
    "        \n",
    "        download_path = os.path.join\n",
    "        open(download_path, 'wb').write(response.content)\n",
    "\n",
    "        print(response.url)\n",
    "\n",
    "        print(response)\n",
    "    \n",
    "    except Exception as e:\n",
    "        print(e)\n",
    "        raise e"
   ]
  },
  {
   "cell_type": "code",
   "execution_count": 168,
   "metadata": {},
   "outputs": [
    {
     "name": "stdout",
     "output_type": "stream",
     "text": [
      "values {'filename': 'result_tillageraster_20200626_204635_7403.tif'}\n",
      "name 'download_path' is not defined\n"
     ]
    },
    {
     "ename": "NameError",
     "evalue": "name 'download_path' is not defined",
     "output_type": "error",
     "traceback": [
      "\u001b[1;31m---------------------------------------------------------------------------\u001b[0m",
      "\u001b[1;31mNameError\u001b[0m                                 Traceback (most recent call last)",
      "\u001b[1;32m<ipython-input-168-cd765bdc00c9>\u001b[0m in \u001b[0;36m<module>\u001b[1;34m\u001b[0m\n\u001b[1;32m----> 1\u001b[1;33m \u001b[0mtillage_get\u001b[0m\u001b[1;33m(\u001b[0m\u001b[0mvalues\u001b[0m\u001b[1;33m,\u001b[0m \u001b[0mlocal_path\u001b[0m\u001b[1;33m)\u001b[0m\u001b[1;33m\u001b[0m\u001b[1;33m\u001b[0m\u001b[0m\n\u001b[0m",
      "\u001b[1;32m<ipython-input-167-648a07cc6fad>\u001b[0m in \u001b[0;36mtillage_get\u001b[1;34m(values, local_path)\u001b[0m\n\u001b[0;32m     15\u001b[0m     \u001b[1;32mexcept\u001b[0m \u001b[0mException\u001b[0m \u001b[1;32mas\u001b[0m \u001b[0me\u001b[0m\u001b[1;33m:\u001b[0m\u001b[1;33m\u001b[0m\u001b[1;33m\u001b[0m\u001b[0m\n\u001b[0;32m     16\u001b[0m         \u001b[0mprint\u001b[0m\u001b[1;33m(\u001b[0m\u001b[0me\u001b[0m\u001b[1;33m)\u001b[0m\u001b[1;33m\u001b[0m\u001b[1;33m\u001b[0m\u001b[0m\n\u001b[1;32m---> 17\u001b[1;33m         \u001b[1;32mraise\u001b[0m \u001b[0me\u001b[0m\u001b[1;33m\u001b[0m\u001b[1;33m\u001b[0m\u001b[0m\n\u001b[0m",
      "\u001b[1;32m<ipython-input-167-648a07cc6fad>\u001b[0m in \u001b[0;36mtillage_get\u001b[1;34m(values, local_path)\u001b[0m\n\u001b[0;32m      7\u001b[0m         \u001b[0mresponse\u001b[0m \u001b[1;33m=\u001b[0m \u001b[0mrequests\u001b[0m\u001b[1;33m.\u001b[0m\u001b[0mget\u001b[0m\u001b[1;33m(\u001b[0m\u001b[0murl\u001b[0m\u001b[1;33m,\u001b[0m \u001b[0mparams\u001b[0m\u001b[1;33m=\u001b[0m\u001b[0mvalues\u001b[0m\u001b[1;33m)\u001b[0m\u001b[1;33m\u001b[0m\u001b[1;33m\u001b[0m\u001b[0m\n\u001b[0;32m      8\u001b[0m \u001b[1;33m\u001b[0m\u001b[0m\n\u001b[1;32m----> 9\u001b[1;33m         \u001b[0mopen\u001b[0m\u001b[1;33m(\u001b[0m\u001b[0mdownload_path\u001b[0m\u001b[1;33m,\u001b[0m \u001b[1;34m'wb'\u001b[0m\u001b[1;33m)\u001b[0m\u001b[1;33m.\u001b[0m\u001b[0mwrite\u001b[0m\u001b[1;33m(\u001b[0m\u001b[0mresponse\u001b[0m\u001b[1;33m.\u001b[0m\u001b[0mcontent\u001b[0m\u001b[1;33m)\u001b[0m\u001b[1;33m\u001b[0m\u001b[1;33m\u001b[0m\u001b[0m\n\u001b[0m\u001b[0;32m     10\u001b[0m \u001b[1;33m\u001b[0m\u001b[0m\n\u001b[0;32m     11\u001b[0m         \u001b[0mprint\u001b[0m\u001b[1;33m(\u001b[0m\u001b[0mresponse\u001b[0m\u001b[1;33m.\u001b[0m\u001b[0murl\u001b[0m\u001b[1;33m)\u001b[0m\u001b[1;33m\u001b[0m\u001b[1;33m\u001b[0m\u001b[0m\n",
      "\u001b[1;31mNameError\u001b[0m: name 'download_path' is not defined"
     ]
    }
   ],
   "source": [
    "tillage_get(values, local_path)"
   ]
  },
  {
   "cell_type": "code",
   "execution_count": null,
   "metadata": {},
   "outputs": [],
   "source": []
  }
 ],
 "metadata": {
  "kernelspec": {
   "display_name": "ag-env",
   "language": "python",
   "name": "ag-env"
  },
  "language_info": {
   "codemirror_mode": {
    "name": "ipython",
    "version": 3
   },
   "file_extension": ".py",
   "mimetype": "text/x-python",
   "name": "python",
   "nbconvert_exporter": "python",
   "pygments_lexer": "ipython3",
   "version": "3.6.8"
  }
 },
 "nbformat": 4,
 "nbformat_minor": 2
}
