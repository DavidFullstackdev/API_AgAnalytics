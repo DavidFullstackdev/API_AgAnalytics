{
 "cells": [
  {
   "cell_type": "markdown",
   "metadata": {},
   "source": [
    "# Ag-Analytics® - DEM Service API\n",
    "The Ag-Analytics® DEM Service API allows for clipping boundaries to the 10 meter USGS DEM map of the United States. The service consists of a POST request where the user can pass a GeoJSON boundary, desired output projection as an EPSG code, and a resolution in degrees lat/lon. The result of the post request is a file name that is the result of the clip, reproject, and resample.\n",
    "\n",
    "The file name can be used as the parameter in a GET request to the same endpoint. Doing so will download the file to the specified local path.\n"
   ]
  },
  {
   "cell_type": "code",
   "execution_count": 1,
   "metadata": {},
   "outputs": [
    {
     "data": {
      "application/javascript": [
       "IPython.notebook.set_autosave_interval(0)"
      ]
     },
     "metadata": {},
     "output_type": "display_data"
    },
    {
     "name": "stdout",
     "output_type": "stream",
     "text": [
      "Autosave disabled\n"
     ]
    }
   ],
   "source": [
    "import requests\n",
    "import json\n",
    "import time\n",
    "import os\n",
    "from pandas.io.json import json_normalize\n",
    "from collections import defaultdict\n",
    "import pandas as pd\n",
    "import zipfile, io\n",
    "from IPython.display import Image\n",
    "\n",
    "%matplotlib inline\n",
    "%autosave 0"
   ]
  },
  {
   "cell_type": "markdown",
   "metadata": {},
   "source": [
    "#### Request parameters details\n",
    "Request URL:  https://agflaskdev.eastus2.cloudapp.azure.com/flask_api/api/v1.0/polaris_service/download_polaris\n",
    "\n",
    "1). __aoi__ (.tif, .shp, GeoJSON String): Area of interest as either TIFF file, shapefile, or Geojson string containing boundary coordinates. The maximum aoi area must be less than 200 square miles (518 sq km).\n",
    "       \n",
    "2). __Projection__ (string): Projection of result GeoTiff.\n",
    "    \n",
    "    Formatted as EPSG code, WKT, or PROJ.4.\n",
    "\n",
    "3). __Resolution__ (Float): Output GeoTIFF resolution.\n",
    "\n",
    "    Specified in the units of the projection. E.g., 8-meters in WGS84 ~0.0001 degrees.\n",
    "\n",
    "4). __Elevation_Index__ (True/False as string): Flag to return elevation indices along with DEM Raster when set to true.\n",
    "\n",
    "    Relative Elevation: Relative elevation of each pixel as compared to entire field. \n",
    "    \n",
    "    Slope: Slope at each point. \n",
    "    \n",
    "    Topographical Position Index: Index of how each pixel compares to a 5 pixel window of surrounding points.\n",
    "    \n",
    "    Terrain Ruggedness Index: Measure of how hilly the area of interest is.    \n",
    "    \n",
    "\n"
   ]
  },
  {
   "cell_type": "markdown",
   "metadata": {},
   "source": [
    "### Note about returning elevation indices"
   ]
  },
  {
   "cell_type": "markdown",
   "metadata": {},
   "source": [
    "Computing Slope, TPI, and TRI are relatively computationally expensive, and therefore increase the response time significantly. If the DEM request takes ~2 seconds, including a elevation indices will increase the time to ~60 seconds. Since the time required increases as a square of time, the maximum allowable area is 1.5 square miles instead of the 200 square miles in the DEM request without elevation indices."
   ]
  },
  {
   "cell_type": "markdown",
   "metadata": {},
   "source": [
    "---\n",
    "## POST Request API Fuction"
   ]
  },
  {
   "cell_type": "code",
   "execution_count": 46,
   "metadata": {},
   "outputs": [],
   "source": [
    "def DEM_Service(values, files, headers):\n",
    "    try:\n",
    "#         url = 'https://agflaskdev.eastus2.cloudapp.azure.com/flask_api/api/v1.0/dem_service/download_dem'\n",
    "        url = 'http://127.0.0.1:5000/agflask/api/v1.0/dem_service/download_dem'\n",
    "        \n",
    "        # Geojson request or request with geotiff/shapefile.\n",
    "        if files == None:\n",
    "            response = requests.post(url, data=values).json()\n",
    "        else:\n",
    "            response = requests.post(url, files = files, data = values).json()\n",
    "        \n",
    "        print(response)\n",
    "        \n",
    "        return response\n",
    "    \n",
    "    except Exception as e:\n",
    "        print(e)\n",
    "        raise e"
   ]
  },
  {
   "cell_type": "markdown",
   "metadata": {},
   "source": [
    "---\n",
    "## A. Request with GeoJSON AOI\n",
    "The API service takes the request in Json format. Below are examples formatted in Json."
   ]
  },
  {
   "cell_type": "code",
   "execution_count": 47,
   "metadata": {},
   "outputs": [],
   "source": [
    "gjson_values = {\n",
    "    \"aoi\": \"{\\\"type\\\":\\\"Feature\\\",\\\"geometry\\\":{\\\"type\\\":\\\"Polygon\\\",\\\"coordinates\\\":[[[-72.3496565, 42.918982], [-72.3492998, 42.9177602], [-72.3472184, 42.9178623], [-72.3476315, 42.9192373], [-72.3496565, 42.918982]]]},\\\"properties\\\":{\\\"OBJECTID\\\":4944402,\\\"CALCACRES\\\":46.15999985,\\\"CALCACRES2\\\":null},\\\"id\\\":4944402}\",\n",
    "    \"Elevation_Index\": \"True\",\n",
    "    \"Legend_Ranges\": \"20\"\n",
    "}\n",
    "\n",
    "gjson_files = None\n",
    "\n",
    "# Basic header pattern.\n",
    "gjson_headers={'Content-Type':'application/json'}\n",
    "\n",
    "# Header for using a subscription key.\n",
    "# headers={'Content-Type':'application/x-www-form-urlencoded','Ocp-Apim-Subscription-Key': '••••••••••••••••••••••••••••••••'}"
   ]
  },
  {
   "cell_type": "markdown",
   "metadata": {},
   "source": [
    "### API Call with GeoJSON Boundary"
   ]
  },
  {
   "cell_type": "code",
   "execution_count": 48,
   "metadata": {},
   "outputs": [
    {
     "name": "stdout",
     "output_type": "stream",
     "text": [
      "{'Features': [{'attributes': {'CellSize': [9.259259269220298e-05, -9.259259269220298e-05], 'CoordinateSystem': 'GEOGCS[\"WGS 84\",DATUM[\"WGS_1984\",SPHEROID[\"WGS 84\",6378137,298.257223563,AUTHORITY[\"EPSG\",\"7030\"]],AUTHORITY[\"EPSG\",\"6326\"]],PRIMEM[\"Greenwich\",0],UNIT[\"degree\",0.0174532925199433],AUTHORITY[\"EPSG\",\"4326\"]]', 'Extent': '-72.3496565, 42.91766322592423, -72.34724909258999, 42.9192373', 'Legend': [{'Area': '5.0 %', 'Count': 16, 'CountAllPixels': 320, 'Max': 270.88823242187505, 'Mean': 269.3876586914063, 'Min': 267.8870849609375, 'color': '#6bd54d'}, {'Area': '5.0 %', 'Count': 16, 'CountAllPixels': 320, 'Max': 271.98125915527345, 'Mean': 271.4347457885742, 'Min': 270.88823242187505, 'color': '#76d14d'}, {'Area': '5.0 %', 'Count': 16, 'CountAllPixels': 320, 'Max': 272.85789489746094, 'Mean': 272.41957702636716, 'Min': 271.98125915527345, 'color': '#82ce4d'}, {'Area': '5.0 %', 'Count': 16, 'CountAllPixels': 320, 'Max': 273.60247802734375, 'Mean': 273.23018646240234, 'Min': 272.85789489746094, 'color': '#8eca4d'}, {'Area': '5.0 %', 'Count': 16, 'CountAllPixels': 320, 'Max': 274.2532424926758, 'Mean': 273.92786026000977, 'Min': 273.60247802734375, 'color': '#9ac74d'}, {'Area': '5.0 %', 'Count': 16, 'CountAllPixels': 320, 'Max': 274.86124877929683, 'Mean': 274.5572456359863, 'Min': 274.2532424926758, 'color': '#a5c34d'}, {'Area': '5.0 %', 'Count': 16, 'CountAllPixels': 320, 'Max': 275.5249359130859, 'Mean': 275.1930923461914, 'Min': 274.86124877929683, 'color': '#b1c04d'}, {'Area': '5.0 %', 'Count': 16, 'CountAllPixels': 320, 'Max': 276.006982421875, 'Mean': 275.76595916748045, 'Min': 275.5249359130859, 'color': '#bdbc4d'}, {'Area': '5.0 %', 'Count': 16, 'CountAllPixels': 320, 'Max': 276.2833419799805, 'Mean': 276.14516220092776, 'Min': 276.006982421875, 'color': '#c9b94d'}, {'Area': '5.0 %', 'Count': 16, 'CountAllPixels': 320, 'Max': 276.7179260253906, 'Mean': 276.50063400268556, 'Min': 276.2833419799805, 'color': '#d5b64d'}, {'Area': '5.0 %', 'Count': 16, 'CountAllPixels': 320, 'Max': 277.26284942626955, 'Mean': 276.9903877258301, 'Min': 276.7179260253906, 'color': '#d7bb5c'}, {'Area': '5.0 %', 'Count': 16, 'CountAllPixels': 320, 'Max': 277.8178649902344, 'Mean': 277.540357208252, 'Min': 277.26284942626955, 'color': '#d9c06c'}, {'Area': '5.0 %', 'Count': 16, 'CountAllPixels': 320, 'Max': 278.47691040039064, 'Mean': 278.14738769531255, 'Min': 277.8178649902344, 'color': '#dbc57b'}, {'Area': '5.0 %', 'Count': 16, 'CountAllPixels': 320, 'Max': 279.237890625, 'Mean': 278.85740051269534, 'Min': 278.47691040039064, 'color': '#ddca8b'}, {'Area': '5.0 %', 'Count': 16, 'CountAllPixels': 320, 'Max': 279.84073638916016, 'Mean': 279.53931350708007, 'Min': 279.237890625, 'color': '#dfcf9b'}, {'Area': '5.0 %', 'Count': 16, 'CountAllPixels': 320, 'Max': 280.6310363769531, 'Mean': 280.2358863830566, 'Min': 279.84073638916016, 'color': '#e1d4aa'}, {'Area': '5.0 %', 'Count': 16, 'CountAllPixels': 320, 'Max': 281.6824966430664, 'Mean': 281.15676651000973, 'Min': 280.6310363769531, 'color': '#e3d9ba'}, {'Area': '5.0 %', 'Count': 16, 'CountAllPixels': 320, 'Max': 282.60480041503905, 'Mean': 282.1436485290527, 'Min': 281.6824966430664, 'color': '#e5dec9'}, {'Area': '5.0 %', 'Count': 16, 'CountAllPixels': 320, 'Max': 283.52908477783205, 'Mean': 283.0669425964355, 'Min': 282.60480041503905, 'color': '#e7e3d9'}, {'Area': '4.69 %', 'Count': 15, 'CountAllPixels': 320, 'Max': 285.2180480957031, 'Mean': 284.3735664367676, 'Min': 283.52908477783205, 'color': '#e9e9e9'}], 'Matrix': [17, 26], 'Max': 285.2180480957031, 'Mean': 277.058349609375, 'Min': 267.8870849609375, 'OID': 0, 'Percentile5': 270.88823242187505, 'Percentile95': 283.52908477783205, 'Std': 3.835727324383429, 'Variety': 'NoVariety', 'pngb64': 'data:image/png;base64, iVBORw0KGgoAAAANSUhEUgAAABoAAAARCAYAAADDjbwNAAABcklEQVR4nMWUMU7DMBSG/wSnQxORLFG7FeaywMYVkLpyA1i4A0dg4xKsnThCmWFgQUIIMWQBKUtbp2JI/Pye7UQdkHhL7Jfk//L/thPhD+ruaVHxea2A27NlyXtqH6Gbl1Yo1baXNd1V27G5b+YeyAi5RcJa9rOmBZhxqm0va4D6wNeKXEgaEHXLCHLAdAPESY44KbDbfmO3/cH8wsYXcUeplpH0gVINTNdS3F4Leu749IpAir88lLsL7YNwV7zioVgomqZ1kOkuprWEqPER1HhGPQCIkwLvzw+VAN3PlyVfTA4w4gTcAIexdEJi1Mu9e972FlHp8Bpx4X2LQPyrQxAz5pFJF7LnfZTrxqwBATs4jyO0w0Iu46TA59uqko464VpJAHdhxlI4DwNHskeOrs/lv2kIwrdyCOhChCNywU65FR3I3gW6TkYFvj5eK+8c9Ynw89G7tRlkMpkIrcgVXz0uKnNOWoEQqO3NTi5L9/1/r1+Ig4dsP6HUQwAAAABJRU5ErkJggg=='}}], 'FileName': 'result_raster_dem_20200227171405440670.tif', 'Index_Files': ['raster_RelativeElevation_27274.tif', 'raster_Slope_95474.tif', 'raster_TPI_67676.tif', 'raster_TRI_59012.tif']}\n"
     ]
    }
   ],
   "source": [
    "gjson_dem_response=DEM_Service(gjson_values, gjson_files, gjson_headers)"
   ]
  },
  {
   "cell_type": "markdown",
   "metadata": {},
   "source": [
    "---\n",
    "## B. Request with GeoTIFF AOI\n",
    "The AOI should be provided as GeoTIFF file. "
   ]
  },
  {
   "cell_type": "code",
   "execution_count": 6,
   "metadata": {},
   "outputs": [
    {
     "name": "stdout",
     "output_type": "stream",
     "text": [
      "[('File', <_io.BufferedReader name='C:\\\\Users\\\\Alex\\\\Documents\\\\Blobs\\\\Harvest_Rasters\\\\e036f472-7a0b-4d77-9ed7-5e3e91cc150f\\\\raster_VRYIELDVOL_0-0001.tif'>)]\n"
     ]
    }
   ],
   "source": [
    "#Path to raster on your local machine\n",
    "gtiff_filepath = r\"C:\\Users\\Alex\\Documents\\Blobs\\Harvest_Rasters\\e036f472-7a0b-4d77-9ed7-5e3e91cc150f\\raster_VRYIELDVOL_0-0001.tif\"\n",
    "gtiff_files = [('File',(open(gtiff_filepath, 'rb')))]\n",
    "print(gtiff_files)\n",
    "\n",
    "#Parameters to create index\n",
    "gtiff_values = {\"Elevation_Index\": \"False\",\n",
    "            \"Projection\": \"EPSG:4326\",\n",
    "            \"Resolution\": \"0.0001\"}\n",
    "\n",
    "gtiff_headers={'Content-Type':'application/json'}\n",
    "\n",
    "# Header for using a subscription key.\n",
    "# headers={'content-type': \"application/json\",'Ocp-Apim-Subscription-Key': \"xxxxxxxxxxxxxxxxxxxxxxxxxxxxxxxxxxx\"}"
   ]
  },
  {
   "cell_type": "markdown",
   "metadata": {},
   "source": [
    "### API Call with GeoTIFF Boundary"
   ]
  },
  {
   "cell_type": "code",
   "execution_count": 7,
   "metadata": {},
   "outputs": [
    {
     "name": "stdout",
     "output_type": "stream",
     "text": [
      "{'Features': [{'attributes': {'CellSize': [0.0001, -0.0001], 'CoordinateSystem': 'GEOGCS[\"WGS 84\",DATUM[\"WGS_1984\",SPHEROID[\"WGS 84\",6378137,298.257223563,AUTHORITY[\"EPSG\",\"7030\"]],AUTHORITY[\"EPSG\",\"6326\"]],PRIMEM[\"Greenwich\",0],UNIT[\"degree\",0.0174532925199433],AUTHORITY[\"EPSG\",\"4326\"]]', 'Extent': '-89.7589617109772, 40.45670547253678, -89.7512617109772, 40.463805472536784', 'Legend': [{'Area': '20.05 %', 'Count': 244, 'CountAllPixels': 1217, 'Max': 141.15856018066407, 'Mean': 141.08349151611327, 'Min': 141.0084228515625, 'color': '#6bd54d'}, {'Area': '19.97 %', 'Count': 243, 'CountAllPixels': 1217, 'Max': 141.2390625, 'Mean': 141.19881134033204, 'Min': 141.15856018066407, 'color': '#d5b64d'}, {'Area': '19.97 %', 'Count': 243, 'CountAllPixels': 1217, 'Max': 141.33377990722656, 'Mean': 141.28642120361326, 'Min': 141.2390625, 'color': '#dbc781'}, {'Area': '19.97 %', 'Count': 243, 'CountAllPixels': 1217, 'Max': 147.81399230957032, 'Mean': 144.57388610839843, 'Min': 141.33377990722656, 'color': '#e2d8b5'}, {'Area': '19.97 %', 'Count': 243, 'CountAllPixels': 1217, 'Max': 156.72396850585938, 'Mean': 152.26898040771485, 'Min': 147.81399230957032, 'color': '#e9e9e9'}], 'Matrix': [71, 77], 'Max': 156.72396850585938, 'Mean': 143.43475341796875, 'Min': 141.0084228515625, 'OID': 0, 'Percentile5': 141.07857666015624, 'Percentile95': 152.1517761230469, 'Std': 4.019496098598224, 'Variety': 'NoVariety', 'pngb64': 'data:image/png;base64, iVBORw0KGgoAAAANSUhEUgAAAE0AAABHCAYAAABCksrWAAADJUlEQVR4nO2asW7bMBCG/7iBPWsQtCVTgABZteQVGvg9Cr9Ax6AP0bxIEL9CF68GAnRyNkGDZ2fqIJx1YUiRohXp6N632JEZWvx0JI80L6qqqgGgKIocDLrOMcv8r8xcH5iCVFiLU5riRqVFoNIiUGkRqLQIjtJsKYZiZ1YUxdT3kByzqqqCCmoktuiYFoFKi0ClRaDSIlBpEai0CFRaBCotApUWgUqLYNa1ja1b3HY00iIQK+3t9aV+e30RuUkgVtoiK7HISkgUJ1aaZMRLW2Tl1LfwCfHSgGYDVNImqHhpRVHkh/0Gh/1m6ls58kGapKfJRV3dPojKF3tF2tRSpcykl1PfgA8pojjixzSg7Z5SumkS0qSRjDQpUQYIlsYl2dah9HffNeoQa9pe0iTlSlPinT2lieJR4nrPOew3WGTlsR30+vfPr/p9v8GcLdN8SzaKfvEpB9A2dLte1iTBV9a89u54+Ob1rrrpwYiWxgVQ41yNN8t18XQNrHbNK9C8p//l0WcTeHX7kF8ATaZvPiEKRVvYjzWTbdfL43dTA4GmkfOsDBLE4XW4IIGcuSHvEvj4W0DIOCEBU1iIkBBs9ax27XfdfX9uIk0q2/WytjeifT+UrBB+3z3ngOA8TRokDEhcGg3oYyNa2phdrw/Jj2kmZnmeWsTAuyUhOk/j+BpPKYhN6NATh3hppoQxxrDVrkktXJ+LHtNMuDAz4aRrdN18tdXh+w4XSUnj8OSWi+HLrb6rhtDxLylpT9efG2WLOBsh5ajurq4JJDB7uj7rksAX3a5IM9eygF8WkVSkcbq6He+WfJzjrHbAz28/oiaWJCMttEua2ERTXTf3j8E7N6JTDjNifIM67X+5dpttdfSRRYjunjf3j7lvbOL4zny4Zty+iJZm45TGmrlb6MBvkoy0PrLMqLRFWEy3JJKQ5srufeVtnCKLSELa0JwqLjlpocdJh+6SHNEph43QH695Fx1KFpGcNMAebS6ZQwsDEpBGRwp8v6qPeQo8iTHNJ2TsY/NJSJOG+O4Zy1cenTjLSPvqsyZnJ22MwzlnJ20MzkraWEfA/gESdlkxvIRmZQAAAABJRU5ErkJggg=='}}], 'FileName': 'result_raster_dem_20200227162633664545.tif'}\n"
     ]
    }
   ],
   "source": [
    "gtiff_dem_response=DEM_Service(gtiff_values, gtiff_files, gtiff_headers)"
   ]
  },
  {
   "cell_type": "markdown",
   "metadata": {},
   "source": [
    "---\n",
    "## C. Request with shapefile AOI\n",
    "The AOI should be provided as a zipped file containing a .shp, .shx, .dbf, and .prj."
   ]
  },
  {
   "cell_type": "code",
   "execution_count": 9,
   "metadata": {},
   "outputs": [
    {
     "name": "stdout",
     "output_type": "stream",
     "text": [
      "[('File', <_io.BufferedReader name='C:\\\\Users\\\\Alex\\\\Documents\\\\sample_shp.zip'>)]\n"
     ]
    }
   ],
   "source": [
    "#Path to zipped shapefile directory on your local machine\n",
    "shp_filepath = r\"C:\\Users\\Alex\\Documents\\sample_shp.zip\"\n",
    "shp_file = [('File',(open(shp_filepath, 'rb')))]\n",
    "print(shp_file)\n",
    "\n",
    "#Parameters to create index\n",
    "shp_values = {\"Elevation_Index\": \"False\",\n",
    "            \"Projection\": \"EPSG:4326\",\n",
    "            \"Resolution\": \"0.0001\",\n",
    "            \"Legend_Ranges\": \"20\"}\n",
    "\n",
    "shp_headers={'Content-Type':'application/json'}\n",
    "\n",
    "# Header for using a subscription key.\n",
    "# headers={'content-type': \"application/json\",'Ocp-Apim-Subscription-Key': \"xxxxxxxxxxxxxxxxxxxxxxxxxxxxxxxxxxx\"}"
   ]
  },
  {
   "cell_type": "markdown",
   "metadata": {},
   "source": [
    "### API Call with Shapefile Boundary"
   ]
  },
  {
   "cell_type": "code",
   "execution_count": 11,
   "metadata": {},
   "outputs": [
    {
     "name": "stdout",
     "output_type": "stream",
     "text": [
      "{'Features': [{'attributes': {'CellSize': [0.0001, -0.0001], 'CoordinateSystem': 'GEOGCS[\"WGS 84\",DATUM[\"WGS_1984\",SPHEROID[\"WGS 84\",6378137,298.257223563,AUTHORITY[\"EPSG\",\"7030\"]],AUTHORITY[\"EPSG\",\"6326\"]],PRIMEM[\"Greenwich\",0],UNIT[\"degree\",0.0174532925199433],AUTHORITY[\"EPSG\",\"4326\"]]', 'Extent': '-121.2484646, 45.4417127, -121.2115646, 45.4668127', 'Legend': [{'Area': '5.0 %', 'Count': 4498, 'CountAllPixels': 89951, 'Max': 382.63002014160156, 'Mean': 369.81505584716797, 'Min': 357.0000915527344, 'color': '#6bd54d'}, {'Area': '5.0 %', 'Count': 4497, 'CountAllPixels': 89951, 'Max': 398.3754577636719, 'Mean': 390.5027389526367, 'Min': 382.63002014160156, 'color': '#76d14d'}, {'Area': '5.0 %', 'Count': 4498, 'CountAllPixels': 89951, 'Max': 414.1468200683594, 'Mean': 406.2611389160156, 'Min': 398.3754577636719, 'color': '#82ce4d'}, {'Area': '5.0 %', 'Count': 4497, 'CountAllPixels': 89951, 'Max': 430.31072998046875, 'Mean': 422.22877502441406, 'Min': 414.1468200683594, 'color': '#8eca4d'}, {'Area': '5.0 %', 'Count': 4498, 'CountAllPixels': 89951, 'Max': 446.10777282714844, 'Mean': 438.2092514038086, 'Min': 430.31072998046875, 'color': '#9ac74d'}, {'Area': '5.0 %', 'Count': 4497, 'CountAllPixels': 89951, 'Max': 460.6589660644531, 'Mean': 453.3833694458008, 'Min': 446.10777282714844, 'color': '#a5c34d'}, {'Area': '5.0 %', 'Count': 4498, 'CountAllPixels': 89951, 'Max': 473.9654998779297, 'Mean': 467.3122329711914, 'Min': 460.6589660644531, 'color': '#b1c04d'}, {'Area': '5.0 %', 'Count': 4497, 'CountAllPixels': 89951, 'Max': 487.024658203125, 'Mean': 480.49507904052734, 'Min': 473.9654998779297, 'color': '#bdbc4d'}, {'Area': '5.0 %', 'Count': 4498, 'CountAllPixels': 89951, 'Max': 500.93328857421875, 'Mean': 493.9789733886719, 'Min': 487.024658203125, 'color': '#c9b94d'}, {'Area': '5.0 %', 'Count': 4497, 'CountAllPixels': 89951, 'Max': 518.5171508789062, 'Mean': 509.7252197265625, 'Min': 500.93328857421875, 'color': '#d5b64d'}, {'Area': '5.0 %', 'Count': 4498, 'CountAllPixels': 89951, 'Max': 540.2130126953125, 'Mean': 529.3650817871094, 'Min': 518.5171508789062, 'color': '#d7bb5c'}, {'Area': '5.0 %', 'Count': 4497, 'CountAllPixels': 89951, 'Max': 561.1194458007812, 'Mean': 550.6662292480469, 'Min': 540.2130126953125, 'color': '#d9c06c'}, {'Area': '5.0 %', 'Count': 4498, 'CountAllPixels': 89951, 'Max': 577.9569091796875, 'Mean': 569.5381774902344, 'Min': 561.1194458007812, 'color': '#dbc57b'}, {'Area': '5.0 %', 'Count': 4497, 'CountAllPixels': 89951, 'Max': 593.1831054687499, 'Mean': 585.5700073242188, 'Min': 577.9569091796875, 'color': '#ddca8b'}, {'Area': '5.0 %', 'Count': 4498, 'CountAllPixels': 89951, 'Max': 603.7877197265625, 'Mean': 598.4854125976562, 'Min': 593.1831054687499, 'color': '#dfcf9b'}, {'Area': '5.0 %', 'Count': 4497, 'CountAllPixels': 89951, 'Max': 612.4229736328125, 'Mean': 608.1053466796875, 'Min': 603.7877197265625, 'color': '#e1d4aa'}, {'Area': '5.0 %', 'Count': 4498, 'CountAllPixels': 89951, 'Max': 617.456298828125, 'Mean': 614.9396362304688, 'Min': 612.4229736328125, 'color': '#e3d9ba'}, {'Area': '5.0 %', 'Count': 4497, 'CountAllPixels': 89951, 'Max': 624.531982421875, 'Mean': 620.994140625, 'Min': 617.456298828125, 'color': '#e5dec9'}, {'Area': '5.0 %', 'Count': 4498, 'CountAllPixels': 89951, 'Max': 630.8839721679688, 'Mean': 627.7079772949219, 'Min': 624.531982421875, 'color': '#e7e3d9'}, {'Area': '5.0 %', 'Count': 4497, 'CountAllPixels': 89951, 'Max': 646.5624389648438, 'Mean': 638.7232055664062, 'Min': 630.8839721679688, 'color': '#e9e9e9'}], 'Matrix': [251, 369], 'Max': 646.5624389648438, 'Mean': 518.878662109375, 'Min': 357.0000915527344, 'OID': 0, 'Percentile5': 382.63002014160156, 'Percentile95': 630.8839721679688, 'Std': 84.77076824069017, 'Variety': 'NoVariety', 'pngb64': 'data:image/png;base64, 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'}}], 'FileName': 'result_raster_dem_20200227162700619047.tif'}\n"
     ]
    }
   ],
   "source": [
    "shp_dem_response=DEM_Service(shp_values, shp_file, shp_headers)"
   ]
  },
  {
   "cell_type": "markdown",
   "metadata": {},
   "source": [
    "---\n",
    "## Displaying Response"
   ]
  },
  {
   "cell_type": "markdown",
   "metadata": {},
   "source": [
    "### Displaying Output Image"
   ]
  },
  {
   "cell_type": "code",
   "execution_count": 36,
   "metadata": {},
   "outputs": [],
   "source": [
    "#################################################################\n",
    "# Input boundary type from ['geojson', 'geotiff', 'shapefile']\n",
    "boundary_type = 'geojson' \n",
    "#################################################################\n",
    "\n",
    "if boundary_type == 'geojson':\n",
    "    dem_response = gjson_dem_response\n",
    "elif boundary_type == 'geotiff':\n",
    "    dem_response = gtiff_dem_response\n",
    "elif boundary_type == 'shapefile':\n",
    "    dem_response = shp_dem_response"
   ]
  },
  {
   "cell_type": "code",
   "execution_count": 37,
   "metadata": {},
   "outputs": [
    {
     "data": {
      "text/html": [
       "<div>\n",
       "<style scoped>\n",
       "    .dataframe tbody tr th:only-of-type {\n",
       "        vertical-align: middle;\n",
       "    }\n",
       "\n",
       "    .dataframe tbody tr th {\n",
       "        vertical-align: top;\n",
       "    }\n",
       "\n",
       "    .dataframe thead th {\n",
       "        text-align: right;\n",
       "    }\n",
       "</style>\n",
       "<table border=\"1\" class=\"dataframe\">\n",
       "  <thead>\n",
       "    <tr style=\"text-align: right;\">\n",
       "      <th></th>\n",
       "      <th>Max</th>\n",
       "      <th>Mean</th>\n",
       "      <th>Min</th>\n",
       "      <th>pngb64</th>\n",
       "    </tr>\n",
       "  </thead>\n",
       "  <tbody>\n",
       "    <tr>\n",
       "      <td>0</td>\n",
       "      <td>254.87587</td>\n",
       "      <td>179.644409</td>\n",
       "      <td>116.246864</td>\n",
       "      <td>data:image/png;base64, iVBORw0KGgoAAAANSUhEUgA...</td>\n",
       "    </tr>\n",
       "  </tbody>\n",
       "</table>\n",
       "</div>"
      ],
      "text/plain": [
       "         Max        Mean         Min  \\\n",
       "0  254.87587  179.644409  116.246864   \n",
       "\n",
       "                                              pngb64  \n",
       "0  data:image/png;base64, iVBORw0KGgoAAAANSUhEUgA...  "
      ]
     },
     "execution_count": 37,
     "metadata": {},
     "output_type": "execute_result"
    }
   ],
   "source": [
    "df=defaultdict(list)\n",
    "for value in dem_response['Features']:\n",
    "    attributes = value['attributes']\n",
    "    df['Max'].append(float(attributes['Max']))\n",
    "    df['Mean'].append(float(attributes['Mean']))\n",
    "    df['Min'].append(float(attributes['Min']))\n",
    "    df['pngb64'].append(attributes['pngb64'])\n",
    "\n",
    "indexdf=pd.DataFrame.from_dict(df)\n",
    "indexdf"
   ]
  },
  {
   "cell_type": "code",
   "execution_count": 38,
   "metadata": {},
   "outputs": [
    {
     "data": {
      "text/html": [
       "<style  type=\"text/css\" >\n",
       "    #T_fdd6b694_5983_11ea_bafa_c8d719c6bfb9row0_col3 {\n",
       "            background-color:  #6bd54d;\n",
       "        }    #T_fdd6b694_5983_11ea_bafa_c8d719c6bfb9row1_col3 {\n",
       "            background-color:  #76d14d;\n",
       "        }    #T_fdd6b694_5983_11ea_bafa_c8d719c6bfb9row2_col3 {\n",
       "            background-color:  #82ce4d;\n",
       "        }    #T_fdd6b694_5983_11ea_bafa_c8d719c6bfb9row3_col3 {\n",
       "            background-color:  #8eca4d;\n",
       "        }    #T_fdd6b694_5983_11ea_bafa_c8d719c6bfb9row4_col3 {\n",
       "            background-color:  #9ac74d;\n",
       "        }    #T_fdd6b694_5983_11ea_bafa_c8d719c6bfb9row5_col3 {\n",
       "            background-color:  #a5c34d;\n",
       "        }    #T_fdd6b694_5983_11ea_bafa_c8d719c6bfb9row6_col3 {\n",
       "            background-color:  #b1c04d;\n",
       "        }    #T_fdd6b694_5983_11ea_bafa_c8d719c6bfb9row7_col3 {\n",
       "            background-color:  #bdbc4d;\n",
       "        }    #T_fdd6b694_5983_11ea_bafa_c8d719c6bfb9row8_col3 {\n",
       "            background-color:  #c9b94d;\n",
       "        }    #T_fdd6b694_5983_11ea_bafa_c8d719c6bfb9row9_col3 {\n",
       "            background-color:  #d5b64d;\n",
       "        }    #T_fdd6b694_5983_11ea_bafa_c8d719c6bfb9row10_col3 {\n",
       "            background-color:  #d7bb5c;\n",
       "        }    #T_fdd6b694_5983_11ea_bafa_c8d719c6bfb9row11_col3 {\n",
       "            background-color:  #d9c06c;\n",
       "        }    #T_fdd6b694_5983_11ea_bafa_c8d719c6bfb9row12_col3 {\n",
       "            background-color:  #dbc57b;\n",
       "        }    #T_fdd6b694_5983_11ea_bafa_c8d719c6bfb9row13_col3 {\n",
       "            background-color:  #ddca8b;\n",
       "        }    #T_fdd6b694_5983_11ea_bafa_c8d719c6bfb9row14_col3 {\n",
       "            background-color:  #dfcf9b;\n",
       "        }    #T_fdd6b694_5983_11ea_bafa_c8d719c6bfb9row15_col3 {\n",
       "            background-color:  #e1d4aa;\n",
       "        }    #T_fdd6b694_5983_11ea_bafa_c8d719c6bfb9row16_col3 {\n",
       "            background-color:  #e3d9ba;\n",
       "        }    #T_fdd6b694_5983_11ea_bafa_c8d719c6bfb9row17_col3 {\n",
       "            background-color:  #e5dec9;\n",
       "        }    #T_fdd6b694_5983_11ea_bafa_c8d719c6bfb9row18_col3 {\n",
       "            background-color:  #e7e3d9;\n",
       "        }    #T_fdd6b694_5983_11ea_bafa_c8d719c6bfb9row19_col3 {\n",
       "            background-color:  #e9e9e9;\n",
       "        }</style><table id=\"T_fdd6b694_5983_11ea_bafa_c8d719c6bfb9\" ><thead>    <tr>        <th class=\"blank level0\" ></th>        <th class=\"col_heading level0 col0\" >Max</th>        <th class=\"col_heading level0 col1\" >Mean</th>        <th class=\"col_heading level0 col2\" >Min</th>        <th class=\"col_heading level0 col3\" >Color</th>    </tr></thead><tbody>\n",
       "                <tr>\n",
       "                        <th id=\"T_fdd6b694_5983_11ea_bafa_c8d719c6bfb9level0_row0\" class=\"row_heading level0 row0\" >0</th>\n",
       "                        <td id=\"T_fdd6b694_5983_11ea_bafa_c8d719c6bfb9row0_col0\" class=\"data row0 col0\" >119.176</td>\n",
       "                        <td id=\"T_fdd6b694_5983_11ea_bafa_c8d719c6bfb9row0_col1\" class=\"data row0 col1\" >117.711</td>\n",
       "                        <td id=\"T_fdd6b694_5983_11ea_bafa_c8d719c6bfb9row0_col2\" class=\"data row0 col2\" >116.247</td>\n",
       "                        <td id=\"T_fdd6b694_5983_11ea_bafa_c8d719c6bfb9row0_col3\" class=\"data row0 col3\" >#6bd54d</td>\n",
       "            </tr>\n",
       "            <tr>\n",
       "                        <th id=\"T_fdd6b694_5983_11ea_bafa_c8d719c6bfb9level0_row1\" class=\"row_heading level0 row1\" >1</th>\n",
       "                        <td id=\"T_fdd6b694_5983_11ea_bafa_c8d719c6bfb9row1_col0\" class=\"data row1 col0\" >120.229</td>\n",
       "                        <td id=\"T_fdd6b694_5983_11ea_bafa_c8d719c6bfb9row1_col1\" class=\"data row1 col1\" >119.702</td>\n",
       "                        <td id=\"T_fdd6b694_5983_11ea_bafa_c8d719c6bfb9row1_col2\" class=\"data row1 col2\" >119.176</td>\n",
       "                        <td id=\"T_fdd6b694_5983_11ea_bafa_c8d719c6bfb9row1_col3\" class=\"data row1 col3\" >#76d14d</td>\n",
       "            </tr>\n",
       "            <tr>\n",
       "                        <th id=\"T_fdd6b694_5983_11ea_bafa_c8d719c6bfb9level0_row2\" class=\"row_heading level0 row2\" >2</th>\n",
       "                        <td id=\"T_fdd6b694_5983_11ea_bafa_c8d719c6bfb9row2_col0\" class=\"data row2 col0\" >121.064</td>\n",
       "                        <td id=\"T_fdd6b694_5983_11ea_bafa_c8d719c6bfb9row2_col1\" class=\"data row2 col1\" >120.647</td>\n",
       "                        <td id=\"T_fdd6b694_5983_11ea_bafa_c8d719c6bfb9row2_col2\" class=\"data row2 col2\" >120.229</td>\n",
       "                        <td id=\"T_fdd6b694_5983_11ea_bafa_c8d719c6bfb9row2_col3\" class=\"data row2 col3\" >#82ce4d</td>\n",
       "            </tr>\n",
       "            <tr>\n",
       "                        <th id=\"T_fdd6b694_5983_11ea_bafa_c8d719c6bfb9level0_row3\" class=\"row_heading level0 row3\" >3</th>\n",
       "                        <td id=\"T_fdd6b694_5983_11ea_bafa_c8d719c6bfb9row3_col0\" class=\"data row3 col0\" >122.003</td>\n",
       "                        <td id=\"T_fdd6b694_5983_11ea_bafa_c8d719c6bfb9row3_col1\" class=\"data row3 col1\" >121.533</td>\n",
       "                        <td id=\"T_fdd6b694_5983_11ea_bafa_c8d719c6bfb9row3_col2\" class=\"data row3 col2\" >121.064</td>\n",
       "                        <td id=\"T_fdd6b694_5983_11ea_bafa_c8d719c6bfb9row3_col3\" class=\"data row3 col3\" >#8eca4d</td>\n",
       "            </tr>\n",
       "            <tr>\n",
       "                        <th id=\"T_fdd6b694_5983_11ea_bafa_c8d719c6bfb9level0_row4\" class=\"row_heading level0 row4\" >4</th>\n",
       "                        <td id=\"T_fdd6b694_5983_11ea_bafa_c8d719c6bfb9row4_col0\" class=\"data row4 col0\" >124.643</td>\n",
       "                        <td id=\"T_fdd6b694_5983_11ea_bafa_c8d719c6bfb9row4_col1\" class=\"data row4 col1\" >123.323</td>\n",
       "                        <td id=\"T_fdd6b694_5983_11ea_bafa_c8d719c6bfb9row4_col2\" class=\"data row4 col2\" >122.003</td>\n",
       "                        <td id=\"T_fdd6b694_5983_11ea_bafa_c8d719c6bfb9row4_col3\" class=\"data row4 col3\" >#9ac74d</td>\n",
       "            </tr>\n",
       "            <tr>\n",
       "                        <th id=\"T_fdd6b694_5983_11ea_bafa_c8d719c6bfb9level0_row5\" class=\"row_heading level0 row5\" >5</th>\n",
       "                        <td id=\"T_fdd6b694_5983_11ea_bafa_c8d719c6bfb9row5_col0\" class=\"data row5 col0\" >136.906</td>\n",
       "                        <td id=\"T_fdd6b694_5983_11ea_bafa_c8d719c6bfb9row5_col1\" class=\"data row5 col1\" >130.774</td>\n",
       "                        <td id=\"T_fdd6b694_5983_11ea_bafa_c8d719c6bfb9row5_col2\" class=\"data row5 col2\" >124.643</td>\n",
       "                        <td id=\"T_fdd6b694_5983_11ea_bafa_c8d719c6bfb9row5_col3\" class=\"data row5 col3\" >#a5c34d</td>\n",
       "            </tr>\n",
       "            <tr>\n",
       "                        <th id=\"T_fdd6b694_5983_11ea_bafa_c8d719c6bfb9level0_row6\" class=\"row_heading level0 row6\" >6</th>\n",
       "                        <td id=\"T_fdd6b694_5983_11ea_bafa_c8d719c6bfb9row6_col0\" class=\"data row6 col0\" >151.587</td>\n",
       "                        <td id=\"T_fdd6b694_5983_11ea_bafa_c8d719c6bfb9row6_col1\" class=\"data row6 col1\" >144.246</td>\n",
       "                        <td id=\"T_fdd6b694_5983_11ea_bafa_c8d719c6bfb9row6_col2\" class=\"data row6 col2\" >136.906</td>\n",
       "                        <td id=\"T_fdd6b694_5983_11ea_bafa_c8d719c6bfb9row6_col3\" class=\"data row6 col3\" >#b1c04d</td>\n",
       "            </tr>\n",
       "            <tr>\n",
       "                        <th id=\"T_fdd6b694_5983_11ea_bafa_c8d719c6bfb9level0_row7\" class=\"row_heading level0 row7\" >7</th>\n",
       "                        <td id=\"T_fdd6b694_5983_11ea_bafa_c8d719c6bfb9row7_col0\" class=\"data row7 col0\" >166.058</td>\n",
       "                        <td id=\"T_fdd6b694_5983_11ea_bafa_c8d719c6bfb9row7_col1\" class=\"data row7 col1\" >158.822</td>\n",
       "                        <td id=\"T_fdd6b694_5983_11ea_bafa_c8d719c6bfb9row7_col2\" class=\"data row7 col2\" >151.587</td>\n",
       "                        <td id=\"T_fdd6b694_5983_11ea_bafa_c8d719c6bfb9row7_col3\" class=\"data row7 col3\" >#bdbc4d</td>\n",
       "            </tr>\n",
       "            <tr>\n",
       "                        <th id=\"T_fdd6b694_5983_11ea_bafa_c8d719c6bfb9level0_row8\" class=\"row_heading level0 row8\" >8</th>\n",
       "                        <td id=\"T_fdd6b694_5983_11ea_bafa_c8d719c6bfb9row8_col0\" class=\"data row8 col0\" >175.049</td>\n",
       "                        <td id=\"T_fdd6b694_5983_11ea_bafa_c8d719c6bfb9row8_col1\" class=\"data row8 col1\" >170.554</td>\n",
       "                        <td id=\"T_fdd6b694_5983_11ea_bafa_c8d719c6bfb9row8_col2\" class=\"data row8 col2\" >166.058</td>\n",
       "                        <td id=\"T_fdd6b694_5983_11ea_bafa_c8d719c6bfb9row8_col3\" class=\"data row8 col3\" >#c9b94d</td>\n",
       "            </tr>\n",
       "            <tr>\n",
       "                        <th id=\"T_fdd6b694_5983_11ea_bafa_c8d719c6bfb9level0_row9\" class=\"row_heading level0 row9\" >9</th>\n",
       "                        <td id=\"T_fdd6b694_5983_11ea_bafa_c8d719c6bfb9row9_col0\" class=\"data row9 col0\" >184.126</td>\n",
       "                        <td id=\"T_fdd6b694_5983_11ea_bafa_c8d719c6bfb9row9_col1\" class=\"data row9 col1\" >179.588</td>\n",
       "                        <td id=\"T_fdd6b694_5983_11ea_bafa_c8d719c6bfb9row9_col2\" class=\"data row9 col2\" >175.049</td>\n",
       "                        <td id=\"T_fdd6b694_5983_11ea_bafa_c8d719c6bfb9row9_col3\" class=\"data row9 col3\" >#d5b64d</td>\n",
       "            </tr>\n",
       "            <tr>\n",
       "                        <th id=\"T_fdd6b694_5983_11ea_bafa_c8d719c6bfb9level0_row10\" class=\"row_heading level0 row10\" >10</th>\n",
       "                        <td id=\"T_fdd6b694_5983_11ea_bafa_c8d719c6bfb9row10_col0\" class=\"data row10 col0\" >192.911</td>\n",
       "                        <td id=\"T_fdd6b694_5983_11ea_bafa_c8d719c6bfb9row10_col1\" class=\"data row10 col1\" >188.518</td>\n",
       "                        <td id=\"T_fdd6b694_5983_11ea_bafa_c8d719c6bfb9row10_col2\" class=\"data row10 col2\" >184.126</td>\n",
       "                        <td id=\"T_fdd6b694_5983_11ea_bafa_c8d719c6bfb9row10_col3\" class=\"data row10 col3\" >#d7bb5c</td>\n",
       "            </tr>\n",
       "            <tr>\n",
       "                        <th id=\"T_fdd6b694_5983_11ea_bafa_c8d719c6bfb9level0_row11\" class=\"row_heading level0 row11\" >11</th>\n",
       "                        <td id=\"T_fdd6b694_5983_11ea_bafa_c8d719c6bfb9row11_col0\" class=\"data row11 col0\" >201.3</td>\n",
       "                        <td id=\"T_fdd6b694_5983_11ea_bafa_c8d719c6bfb9row11_col1\" class=\"data row11 col1\" >197.105</td>\n",
       "                        <td id=\"T_fdd6b694_5983_11ea_bafa_c8d719c6bfb9row11_col2\" class=\"data row11 col2\" >192.911</td>\n",
       "                        <td id=\"T_fdd6b694_5983_11ea_bafa_c8d719c6bfb9row11_col3\" class=\"data row11 col3\" >#d9c06c</td>\n",
       "            </tr>\n",
       "            <tr>\n",
       "                        <th id=\"T_fdd6b694_5983_11ea_bafa_c8d719c6bfb9level0_row12\" class=\"row_heading level0 row12\" >12</th>\n",
       "                        <td id=\"T_fdd6b694_5983_11ea_bafa_c8d719c6bfb9row12_col0\" class=\"data row12 col0\" >208.64</td>\n",
       "                        <td id=\"T_fdd6b694_5983_11ea_bafa_c8d719c6bfb9row12_col1\" class=\"data row12 col1\" >204.97</td>\n",
       "                        <td id=\"T_fdd6b694_5983_11ea_bafa_c8d719c6bfb9row12_col2\" class=\"data row12 col2\" >201.3</td>\n",
       "                        <td id=\"T_fdd6b694_5983_11ea_bafa_c8d719c6bfb9row12_col3\" class=\"data row12 col3\" >#dbc57b</td>\n",
       "            </tr>\n",
       "            <tr>\n",
       "                        <th id=\"T_fdd6b694_5983_11ea_bafa_c8d719c6bfb9level0_row13\" class=\"row_heading level0 row13\" >13</th>\n",
       "                        <td id=\"T_fdd6b694_5983_11ea_bafa_c8d719c6bfb9row13_col0\" class=\"data row13 col0\" >215.261</td>\n",
       "                        <td id=\"T_fdd6b694_5983_11ea_bafa_c8d719c6bfb9row13_col1\" class=\"data row13 col1\" >211.95</td>\n",
       "                        <td id=\"T_fdd6b694_5983_11ea_bafa_c8d719c6bfb9row13_col2\" class=\"data row13 col2\" >208.64</td>\n",
       "                        <td id=\"T_fdd6b694_5983_11ea_bafa_c8d719c6bfb9row13_col3\" class=\"data row13 col3\" >#ddca8b</td>\n",
       "            </tr>\n",
       "            <tr>\n",
       "                        <th id=\"T_fdd6b694_5983_11ea_bafa_c8d719c6bfb9level0_row14\" class=\"row_heading level0 row14\" >14</th>\n",
       "                        <td id=\"T_fdd6b694_5983_11ea_bafa_c8d719c6bfb9row14_col0\" class=\"data row14 col0\" >221.645</td>\n",
       "                        <td id=\"T_fdd6b694_5983_11ea_bafa_c8d719c6bfb9row14_col1\" class=\"data row14 col1\" >218.453</td>\n",
       "                        <td id=\"T_fdd6b694_5983_11ea_bafa_c8d719c6bfb9row14_col2\" class=\"data row14 col2\" >215.261</td>\n",
       "                        <td id=\"T_fdd6b694_5983_11ea_bafa_c8d719c6bfb9row14_col3\" class=\"data row14 col3\" >#dfcf9b</td>\n",
       "            </tr>\n",
       "            <tr>\n",
       "                        <th id=\"T_fdd6b694_5983_11ea_bafa_c8d719c6bfb9level0_row15\" class=\"row_heading level0 row15\" >15</th>\n",
       "                        <td id=\"T_fdd6b694_5983_11ea_bafa_c8d719c6bfb9row15_col0\" class=\"data row15 col0\" >228.803</td>\n",
       "                        <td id=\"T_fdd6b694_5983_11ea_bafa_c8d719c6bfb9row15_col1\" class=\"data row15 col1\" >225.224</td>\n",
       "                        <td id=\"T_fdd6b694_5983_11ea_bafa_c8d719c6bfb9row15_col2\" class=\"data row15 col2\" >221.645</td>\n",
       "                        <td id=\"T_fdd6b694_5983_11ea_bafa_c8d719c6bfb9row15_col3\" class=\"data row15 col3\" >#e1d4aa</td>\n",
       "            </tr>\n",
       "            <tr>\n",
       "                        <th id=\"T_fdd6b694_5983_11ea_bafa_c8d719c6bfb9level0_row16\" class=\"row_heading level0 row16\" >16</th>\n",
       "                        <td id=\"T_fdd6b694_5983_11ea_bafa_c8d719c6bfb9row16_col0\" class=\"data row16 col0\" >234.95</td>\n",
       "                        <td id=\"T_fdd6b694_5983_11ea_bafa_c8d719c6bfb9row16_col1\" class=\"data row16 col1\" >231.877</td>\n",
       "                        <td id=\"T_fdd6b694_5983_11ea_bafa_c8d719c6bfb9row16_col2\" class=\"data row16 col2\" >228.803</td>\n",
       "                        <td id=\"T_fdd6b694_5983_11ea_bafa_c8d719c6bfb9row16_col3\" class=\"data row16 col3\" >#e3d9ba</td>\n",
       "            </tr>\n",
       "            <tr>\n",
       "                        <th id=\"T_fdd6b694_5983_11ea_bafa_c8d719c6bfb9level0_row17\" class=\"row_heading level0 row17\" >17</th>\n",
       "                        <td id=\"T_fdd6b694_5983_11ea_bafa_c8d719c6bfb9row17_col0\" class=\"data row17 col0\" >240.512</td>\n",
       "                        <td id=\"T_fdd6b694_5983_11ea_bafa_c8d719c6bfb9row17_col1\" class=\"data row17 col1\" >237.731</td>\n",
       "                        <td id=\"T_fdd6b694_5983_11ea_bafa_c8d719c6bfb9row17_col2\" class=\"data row17 col2\" >234.95</td>\n",
       "                        <td id=\"T_fdd6b694_5983_11ea_bafa_c8d719c6bfb9row17_col3\" class=\"data row17 col3\" >#e5dec9</td>\n",
       "            </tr>\n",
       "            <tr>\n",
       "                        <th id=\"T_fdd6b694_5983_11ea_bafa_c8d719c6bfb9level0_row18\" class=\"row_heading level0 row18\" >18</th>\n",
       "                        <td id=\"T_fdd6b694_5983_11ea_bafa_c8d719c6bfb9row18_col0\" class=\"data row18 col0\" >244.505</td>\n",
       "                        <td id=\"T_fdd6b694_5983_11ea_bafa_c8d719c6bfb9row18_col1\" class=\"data row18 col1\" >242.509</td>\n",
       "                        <td id=\"T_fdd6b694_5983_11ea_bafa_c8d719c6bfb9row18_col2\" class=\"data row18 col2\" >240.512</td>\n",
       "                        <td id=\"T_fdd6b694_5983_11ea_bafa_c8d719c6bfb9row18_col3\" class=\"data row18 col3\" >#e7e3d9</td>\n",
       "            </tr>\n",
       "            <tr>\n",
       "                        <th id=\"T_fdd6b694_5983_11ea_bafa_c8d719c6bfb9level0_row19\" class=\"row_heading level0 row19\" >19</th>\n",
       "                        <td id=\"T_fdd6b694_5983_11ea_bafa_c8d719c6bfb9row19_col0\" class=\"data row19 col0\" >254.876</td>\n",
       "                        <td id=\"T_fdd6b694_5983_11ea_bafa_c8d719c6bfb9row19_col1\" class=\"data row19 col1\" >249.691</td>\n",
       "                        <td id=\"T_fdd6b694_5983_11ea_bafa_c8d719c6bfb9row19_col2\" class=\"data row19 col2\" >244.505</td>\n",
       "                        <td id=\"T_fdd6b694_5983_11ea_bafa_c8d719c6bfb9row19_col3\" class=\"data row19 col3\" >#e9e9e9</td>\n",
       "            </tr>\n",
       "    </tbody></table>"
      ],
      "text/plain": [
       "<pandas.io.formats.style.Styler at 0x1938dc1a978>"
      ]
     },
     "execution_count": 38,
     "metadata": {},
     "output_type": "execute_result"
    }
   ],
   "source": [
    "#Image Legend\n",
    "df=defaultdict(list)\n",
    "for product in dem_response['Features']:\n",
    "    Legend = product['attributes']['Legend']\n",
    "    \n",
    "for val in Legend:\n",
    "    df['Max'].append(float(val['Max']))\n",
    "    df['Mean'].append(float(val['Mean']))\n",
    "    df['Min'].append(float(val['Min']))\n",
    "    df['Color'].append(val['color'])\n",
    "#     df['Range'] = ['Low','Medium','High']\n",
    "    \n",
    "legenddf = pd.DataFrame.from_dict(df)    \n",
    "legenddf.style.applymap(lambda x:\"background-color: %s\"%x, subset=['Color'])"
   ]
  },
  {
   "cell_type": "code",
   "execution_count": 39,
   "metadata": {
    "scrolled": true
   },
   "outputs": [
    {
     "data": {
      "text/html": [
       "<img src=\"data:image/png;base64, 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\" width=\"500\" height=\"500\"/>"
      ],
      "text/plain": [
       "<IPython.core.display.Image object>"
      ]
     },
     "execution_count": 39,
     "metadata": {},
     "output_type": "execute_result"
    }
   ],
   "source": [
    "# IndexImage = indexdf.loc[indexdf['Index'] == 'POLARIS_Soils','pngb64'].iloc[0]\n",
    "DEMImage = dem_response[\"Features\"][0]['attributes'][\"pngb64\"]\n",
    "Image(url = DEMImage, width = 500, height = 500)"
   ]
  },
  {
   "cell_type": "markdown",
   "metadata": {},
   "source": [
    "---\n",
    "# GET Request"
   ]
  },
  {
   "cell_type": "code",
   "execution_count": 49,
   "metadata": {},
   "outputs": [
    {
     "name": "stdout",
     "output_type": "stream",
     "text": [
      "{'FileNames': ['result_raster_dem_20200227170844408308.tif', 'raster_RelativeElevation_78916.tif', 'raster_Slope_60540.tif', 'raster_TPI_64215.tif', 'raster_TRI_27819.tif']}\n"
     ]
    }
   ],
   "source": [
    "# Specify local path where file will be downloaded.\n",
    "# local_path = r\"C:\\<Path to download directory>\" # E.g., r\"C:\\Users\\John_Doe\\Documents\\rasters\"\n",
    "local_path = r'C:\\Users\\Alex\\Documents\\Blobs'\n",
    "# Create GET request payload.\n",
    "if 'Index_Files' in dem_response.keys():\n",
    "    files = []\n",
    "    files.append(dem_response['FileName'])\n",
    "    for file in dem_response['Index_Files']:\n",
    "        files.append(file)\n",
    "    values = {'FileNames': files}\n",
    "else:\n",
    "    values = {'FileNames': [dem_response['FileName'],]}\n",
    "print(values)"
   ]
  },
  {
   "cell_type": "code",
   "execution_count": 54,
   "metadata": {},
   "outputs": [],
   "source": [
    "def DEM_get(values, local_path):\n",
    "    try:\n",
    "#         url = 'https://agflaskdev.eastus2.cloudapp.azure.com/flask_api/api/v1.0/dem_service/download_dem'\n",
    "        url = 'http://127.0.0.1:5000/agflask/api/v1.0/dem_service/download_dem'\n",
    "        \n",
    "        print('values', values)\n",
    "\n",
    "        for file in values['FileNames']:\n",
    "            print('file', file)\n",
    "            download_path = os.path.join(local_path, file)\n",
    "            \n",
    "            file_dict = {'FileName': file}\n",
    "\n",
    "            response = requests.get(url, params=file_dict)\n",
    "\n",
    "            open(download_path, 'wb').write(response.content)\n",
    "\n",
    "            print(response.url)\n",
    "            \n",
    "            print(response)\n",
    "    \n",
    "    except Exception as e:\n",
    "        print(e)\n",
    "        raise e"
   ]
  },
  {
   "cell_type": "code",
   "execution_count": null,
   "metadata": {},
   "outputs": [
    {
     "name": "stdout",
     "output_type": "stream",
     "text": [
      "values {'FileNames': ['result_raster_dem_20200227170844408308.tif', 'raster_RelativeElevation_78916.tif', 'raster_Slope_60540.tif', 'raster_TPI_64215.tif', 'raster_TRI_27819.tif']}\n",
      "file result_raster_dem_20200227170844408308.tif\n"
     ]
    }
   ],
   "source": [
    "DEM_get(values, local_path)"
   ]
  },
  {
   "cell_type": "code",
   "execution_count": null,
   "metadata": {},
   "outputs": [],
   "source": []
  }
 ],
 "metadata": {
  "kernelspec": {
   "display_name": "Python 3",
   "language": "python",
   "name": "python3"
  },
  "language_info": {
   "codemirror_mode": {
    "name": "ipython",
    "version": 3
   },
   "file_extension": ".py",
   "mimetype": "text/x-python",
   "name": "python",
   "nbconvert_exporter": "python",
   "pygments_lexer": "ipython3",
   "version": "3.6.8"
  }
 },
 "nbformat": 4,
 "nbformat_minor": 2
}
