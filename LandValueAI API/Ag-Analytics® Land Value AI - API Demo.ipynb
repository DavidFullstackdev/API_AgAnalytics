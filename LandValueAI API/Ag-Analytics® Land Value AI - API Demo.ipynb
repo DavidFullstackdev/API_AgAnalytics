{
 "cells": [
  {
   "cell_type": "markdown",
   "metadata": {},
   "source": [
    "# Ag-Analytics® Land Value AI - API Demo "
   ]
  },
  {
   "cell_type": "markdown",
   "metadata": {},
   "source": [
    "The Ag-Analytics® Land Value AI provides timely and accurately estimation of any given parcel on any specific day. Current version of Land Value has two types of estimations: Auto Comps takes the comparables referring to properties with characteristics that are similar to the target parcel whose value is being estimated. AI models were trained on the real historical and near-real time climate, agriculture, and economic data. It provides a science-based and big-data-based estimations on the parcel value."
   ]
  },
  {
   "cell_type": "markdown",
   "metadata": {},
   "source": [
    "### Required libraries"
   ]
  },
  {
   "cell_type": "code",
   "execution_count": 11,
   "metadata": {},
   "outputs": [],
   "source": [
    "import requests\n",
    "import json\n",
    "import pandas as pd"
   ]
  },
  {
   "cell_type": "markdown",
   "metadata": {},
   "source": [
    "### Request Parameter Details"
   ]
  },
  {
   "cell_type": "markdown",
   "metadata": {},
   "source": [
    "1). __aoi__ (GeoJSON in String, required): Geometry of area of Interest in GeoJSON format. Need to be passed into the API as string\n",
    "\n",
    "       \n",
    "2). __model__(string): The Model used for Land Value estimation.Models available in current version are:\n",
    "    \n",
    "    i. Linear: Multiple Linear Regression\n",
    "    \n",
    "    ii. Tree: Decision Tree Regression \n",
    "    \n",
    "    iii. RF: Random Forest Regression\n",
    "    \n",
    "    iv. Auto: Auto Comps\n",
    "\n",
    "\n",
    "3). __Sale_Date(string)__: Expected sale date in ‘yyyy-mm-dd’ format. EX: ‘2020-04-20’\n"
   ]
  },
  {
   "cell_type": "markdown",
   "metadata": {},
   "source": [
    "### Request in Json"
   ]
  },
  {
   "cell_type": "markdown",
   "metadata": {},
   "source": [
    "The Land Value AI API takes the request in Json format. Below are examples formatted in Json. "
   ]
  },
  {
   "cell_type": "code",
   "execution_count": 8,
   "metadata": {},
   "outputs": [],
   "source": [
    "#Request Example\n",
    "aoi = \"{\\\"type\\\":\\\"Feature\\\",\\\"properties\\\":{},\\\"geometry\\\":{\\\"type\\\":\\\"Polygon\\\",\\\"coordinates\\\":[[[-95.84165811538698,46.30405964827517],[-95.84174394607544,46.29697349504195],[-95.83659410476686,46.29691419281915],[-95.83655118942261,46.29814470078284],[-95.83831071853638,46.29817435123596],[-95.83837509155275,46.3029330408763],[-95.83831071853638,46.30303680831659],[-95.83801031112672,46.30296268873647],[-95.837699174881,46.30297010069899],[-95.83699107170106,46.30349634747375],[-95.83695888519289,46.30367423256352],[-95.8370339870453,46.30393364728336],[-95.83717346191408,46.3040003537269],[-95.8375597000122,46.30405223646016],[-95.8375597000122,46.30318504717584],[-95.84077835083009,46.30317022330798],[-95.84081053733827,46.30408188371422],[-95.84165811538698,46.30405964827517]]]}}\"\n",
    "model = \"RF\"\n",
    "Sale_Date = \"2020-04-15\"\n",
    "values = {\"aoi\":aoi,\n",
    "          \"model\":model,\n",
    "          \"Sale_Date\":Sale_Date\n",
    "    \n",
    "}\n",
    "# Basic Header Pattern.\n",
    "headers={'Content-Type':'application/json'}\n",
    "\n",
    "# Header for using a subscription key.\n",
    "# headers={'content-type': \"application/json\",'Ocp-Apim-Subscription-Key': \"xxxxxxxxxxxxxxxxxxxxxxxxxxxxxxxxxxx\"}"
   ]
  },
  {
   "cell_type": "markdown",
   "metadata": {},
   "source": [
    "### API Function"
   ]
  },
  {
   "cell_type": "code",
   "execution_count": 18,
   "metadata": {},
   "outputs": [],
   "source": [
    "def LandValueAI(values,headers):\n",
    "    try:\n",
    "        url = 'https://ag-analytics.azure-api.net/land-value-ai'\n",
    "        \n",
    "        response = requests.post(url, json = values, headers = headers).json()\n",
    "        \n",
    "        print(response)\n",
    "        \n",
    "        return response\n",
    "    \n",
    "    except Exception as e:\n",
    "        print(e)\n",
    "        raise e"
   ]
  },
  {
   "cell_type": "markdown",
   "metadata": {},
   "source": [
    "### Calling API Function and Displaying Response"
   ]
  },
  {
   "cell_type": "markdown",
   "metadata": {},
   "source": [
    "#### 1. Example with AI Models"
   ]
  },
  {
   "cell_type": "code",
   "execution_count": 10,
   "metadata": {},
   "outputs": [
    {
     "name": "stdout",
     "output_type": "stream",
     "text": [
      "{'Result': {'Model': 'RF', 'Parcel_Area': 51.74941101442054, 'Price_Acre': 10520.09, 'Sale_Date': '2020-04-15', 'Total_Price': 544408.4613186953, 'Unit': '$'}, 'status': 'SUCCESS'}\n"
     ]
    }
   ],
   "source": [
    "# Calling API with Random Forest Model\n",
    "values[\"model\"] = \"RF\"\n",
    "LandValueResponse = LandValueAI(values,headers)"
   ]
  },
  {
   "cell_type": "markdown",
   "metadata": {},
   "source": [
    "##### Display result if the API succeed."
   ]
  },
  {
   "cell_type": "code",
   "execution_count": 17,
   "metadata": {},
   "outputs": [
    {
     "data": {
      "text/html": [
       "<div>\n",
       "<style scoped>\n",
       "    .dataframe tbody tr th:only-of-type {\n",
       "        vertical-align: middle;\n",
       "    }\n",
       "\n",
       "    .dataframe tbody tr th {\n",
       "        vertical-align: top;\n",
       "    }\n",
       "\n",
       "    .dataframe thead th {\n",
       "        text-align: right;\n",
       "    }\n",
       "</style>\n",
       "<table border=\"1\" class=\"dataframe\">\n",
       "  <thead>\n",
       "    <tr style=\"text-align: right;\">\n",
       "      <th></th>\n",
       "      <th>0</th>\n",
       "    </tr>\n",
       "  </thead>\n",
       "  <tbody>\n",
       "    <tr>\n",
       "      <th>Model</th>\n",
       "      <td>RF</td>\n",
       "    </tr>\n",
       "    <tr>\n",
       "      <th>Parcel_Area</th>\n",
       "      <td>51.7494</td>\n",
       "    </tr>\n",
       "    <tr>\n",
       "      <th>Price_Acre</th>\n",
       "      <td>10520.1</td>\n",
       "    </tr>\n",
       "    <tr>\n",
       "      <th>Sale_Date</th>\n",
       "      <td>2020-04-15</td>\n",
       "    </tr>\n",
       "    <tr>\n",
       "      <th>Total_Price</th>\n",
       "      <td>544408</td>\n",
       "    </tr>\n",
       "    <tr>\n",
       "      <th>Unit</th>\n",
       "      <td>$</td>\n",
       "    </tr>\n",
       "  </tbody>\n",
       "</table>\n",
       "</div>"
      ],
      "text/plain": [
       "                      0\n",
       "Model                RF\n",
       "Parcel_Area     51.7494\n",
       "Price_Acre      10520.1\n",
       "Sale_Date    2020-04-15\n",
       "Total_Price      544408\n",
       "Unit                  $"
      ]
     },
     "execution_count": 17,
     "metadata": {},
     "output_type": "execute_result"
    }
   ],
   "source": [
    "result_df = pd.DataFrame()\n",
    "if LandValueResponse['status'] == 'SUCCESS':\n",
    "    result = LandValueResponse['Result']\n",
    "    result_df = pd.DataFrame([result])\n",
    "result_df.T"
   ]
  },
  {
   "cell_type": "markdown",
   "metadata": {},
   "source": [
    "#### 2. Example with Auto Comps"
   ]
  },
  {
   "cell_type": "code",
   "execution_count": 19,
   "metadata": {},
   "outputs": [
    {
     "name": "stdout",
     "output_type": "stream",
     "text": [
      "{'Model': 'Auto', 'Result': {'For Sale': {'Percentile_10': 1285.0, 'Percentile_90': 13255.0, 'avg_price': 4792.1977823893085, 'max_price': 895000.0, 'min_price': 26.0, 'num_list': 811}, 'Parcel_Area': 51.74941101442054, 'Sale_Date': '2020-04-15', 'Sold': {'Percentile_10': 3549.0, 'Percentile_90': 11100.0, 'avg_price': 6879.141775894334, 'max_price': 69371.0, 'min_price': 792.0, 'num_list': 318}, 'Unit': '$'}, 'status': 'SUCCESS'}\n"
     ]
    }
   ],
   "source": [
    "# Calling API with Auto Comps Model\n",
    "values[\"model\"] = \"Auto\"\n",
    "LandValueResponse = LandValueAI(values,headers)"
   ]
  },
  {
   "cell_type": "markdown",
   "metadata": {},
   "source": [
    "##### Display result if the API succeed."
   ]
  },
  {
   "cell_type": "code",
   "execution_count": 28,
   "metadata": {},
   "outputs": [
    {
     "data": {
      "text/html": [
       "<div>\n",
       "<style scoped>\n",
       "    .dataframe tbody tr th:only-of-type {\n",
       "        vertical-align: middle;\n",
       "    }\n",
       "\n",
       "    .dataframe tbody tr th {\n",
       "        vertical-align: top;\n",
       "    }\n",
       "\n",
       "    .dataframe thead th {\n",
       "        text-align: right;\n",
       "    }\n",
       "</style>\n",
       "<table border=\"1\" class=\"dataframe\">\n",
       "  <thead>\n",
       "    <tr style=\"text-align: right;\">\n",
       "      <th></th>\n",
       "      <th>For Sale</th>\n",
       "      <th>Sold</th>\n",
       "    </tr>\n",
       "  </thead>\n",
       "  <tbody>\n",
       "    <tr>\n",
       "      <th>Percentile_10</th>\n",
       "      <td>1285.000000</td>\n",
       "      <td>3549.000000</td>\n",
       "    </tr>\n",
       "    <tr>\n",
       "      <th>Percentile_90</th>\n",
       "      <td>13255.000000</td>\n",
       "      <td>11100.000000</td>\n",
       "    </tr>\n",
       "    <tr>\n",
       "      <th>avg_price</th>\n",
       "      <td>4792.197782</td>\n",
       "      <td>6879.141776</td>\n",
       "    </tr>\n",
       "    <tr>\n",
       "      <th>max_price</th>\n",
       "      <td>895000.000000</td>\n",
       "      <td>69371.000000</td>\n",
       "    </tr>\n",
       "    <tr>\n",
       "      <th>min_price</th>\n",
       "      <td>26.000000</td>\n",
       "      <td>792.000000</td>\n",
       "    </tr>\n",
       "    <tr>\n",
       "      <th>num_list</th>\n",
       "      <td>811.000000</td>\n",
       "      <td>318.000000</td>\n",
       "    </tr>\n",
       "  </tbody>\n",
       "</table>\n",
       "</div>"
      ],
      "text/plain": [
       "                    For Sale          Sold\n",
       "Percentile_10    1285.000000   3549.000000\n",
       "Percentile_90   13255.000000  11100.000000\n",
       "avg_price        4792.197782   6879.141776\n",
       "max_price      895000.000000  69371.000000\n",
       "min_price          26.000000    792.000000\n",
       "num_list          811.000000    318.000000"
      ]
     },
     "execution_count": 28,
     "metadata": {},
     "output_type": "execute_result"
    }
   ],
   "source": [
    "result_df = pd.DataFrame()\n",
    "if LandValueResponse['status'] == 'SUCCESS':\n",
    "    result_sale = pd.DataFrame([LandValueResponse['Result']['For Sale']],index=['For Sale'])\n",
    "    result_sold= pd.DataFrame([LandValueResponse['Result']['Sold']],index=['Sold'])\n",
    "    result_df = pd.concat([result_sale,result_sold])\n",
    "result_df.T"
   ]
  }
 ],
 "metadata": {
  "kernelspec": {
   "display_name": "agflask-env",
   "language": "python",
   "name": "agflask-env"
  },
  "language_info": {
   "codemirror_mode": {
    "name": "ipython",
    "version": 3
   },
   "file_extension": ".py",
   "mimetype": "text/x-python",
   "name": "python",
   "nbconvert_exporter": "python",
   "pygments_lexer": "ipython3",
   "version": "3.6.6"
  }
 },
 "nbformat": 4,
 "nbformat_minor": 2
}
