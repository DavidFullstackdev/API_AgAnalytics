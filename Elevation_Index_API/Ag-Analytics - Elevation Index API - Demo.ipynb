{
 "cells": [
  {
   "cell_type": "markdown",
   "metadata": {},
   "source": [
    "# Ag-Analytics® - Elevation Index API "
   ]
  },
  {
   "cell_type": "markdown",
   "metadata": {},
   "source": [
    "Local elevation on a field can have a strong correlation with harvest yield. The correlation stems from the drainage dynamics that are present on a given field, with low areas being productive in dry years and high areas being productive in wet years. \n",
    "\n",
    "The Elevation Index API supports calculation of a set of elevation indices including field relative elevation, maximum slope, ,local Topographic Position Index(TPI), and local Topographic Roughness Index(TRI) for a given field elevation. "
   ]
  },
  {
   "cell_type": "markdown",
   "metadata": {},
   "source": [
    "### Required libraries"
   ]
  },
  {
   "cell_type": "code",
   "execution_count": 1,
   "metadata": {},
   "outputs": [
    {
     "data": {
      "application/javascript": [
       "IPython.notebook.set_autosave_interval(0)"
      ]
     },
     "metadata": {},
     "output_type": "display_data"
    },
    {
     "name": "stdout",
     "output_type": "stream",
     "text": [
      "Autosave disabled\n"
     ]
    }
   ],
   "source": [
    "import requests\n",
    "import json\n",
    "import time\n",
    "import os\n",
    "from pandas.io.json import json_normalize\n",
    "from collections import defaultdict\n",
    "import pandas as pd\n",
    "import zipfile, io\n",
    "from IPython.display import Image\n",
    "\n",
    "%matplotlib inline\n",
    "%autosave 0"
   ]
  },
  {
   "cell_type": "markdown",
   "metadata": {},
   "source": [
    "### Request Parameter Details"
   ]
  },
  {
   "cell_type": "markdown",
   "metadata": {},
   "source": [
    "Request URL:  https://ag-analytics.azure-api.net/elevation-index\n",
    "\n",
    "1). __raster__(string): Local path to the elevation raster the index will be calculated from\n",
    "       \n",
    "2). __index_list__(string): The elevation index of interest to retrieve.\n",
    "    \n",
    "    i. Relative_Elevation: Derived by calculating the z-score of every point in the field\n",
    "    \n",
    "    ii. Slop: The maximum slope of each point on the field is calculated by taking the gradient of the elevation for each point.\n",
    "    \n",
    "    iii.TPI: The topographic position index is a method of measuring the elevation of a given point with respect to a surrounding neighborhood of surrounding points. This index indicates the local extrema,or points of maximum and minimum elevation on a sub-field level. \n",
    "    \n",
    "    iV.TRI:  The topographic Roughness index express the amount of elevation difference between adjacent points on local field\n",
    "\n",
    "3). __Outside_Radius(optional)__: Outer radius of search area of each point. Used in TPI only.\n",
    "\n",
    "        (Ex:Outside_Radius =11 the outer search radius is 11 * cellsize. When cellsize is 0.001 of the elevation raster, the radius is about 11 * 8 = 88 meter\n",
    "\n",
    "4). __Inside_Radius(optional)__: Inner radius of search area. Used in TPI only.\n",
    "\n",
    "5). __Search_Radius(optional)__: Radius of computational box. search_radius = 1 => 3x3 box, 2 => 5x5 box, etc. Used in TRI only\n",
    "\n"
   ]
  },
  {
   "cell_type": "markdown",
   "metadata": {},
   "source": [
    "### Request in JSON"
   ]
  },
  {
   "cell_type": "code",
   "execution_count": null,
   "metadata": {},
   "outputs": [],
   "source": [
    "#Path to raster in your local machine\n",
    "rasterpath = r\"C:\\Users\\test_raster.tif\"\n",
    "\n",
    "files = [('elevation_raster',(open(rasterpath, 'rb')))]\n",
    "print(files)\n",
    "\n",
    "#Parameters to create index\n",
    "values = {'index_list':\"['Slope']\",\n",
    "            'Outside_Radius' :'5',\n",
    "            'Inside_Radius':'3',\n",
    "            'Search_Radius' :'7',\n",
    "            'Legend_Range': '10'\n",
    "}\n",
    "\n",
    "# Basic Header Pattern.\n",
    "headers={'Content-Type':'application/json'}\n",
    "\n",
    "# Header for using a subscription key.\n",
    "# headers={'content-type': \"application/json\",'Ocp-Apim-Subscription-Key': \"xxxxxxxxxxxxxxxxxxxxxxxxxxxxxxxxxxx\"}"
   ]
  },
  {
   "cell_type": "markdown",
   "metadata": {},
   "source": [
    "### API Function"
   ]
  },
  {
   "cell_type": "code",
   "execution_count": 18,
   "metadata": {},
   "outputs": [],
   "source": [
    "def ElevationIndex(files,values):\n",
    "    try:\n",
    "        url = 'https://ag-analytics.azure-api.net/elevation-index'\n",
    "        \n",
    "        response = requests.post(url, files = files, data = values).json()\n",
    "        #resp = json.loads(response)\n",
    "        print(response)\n",
    "        \n",
    "        return response\n",
    "    \n",
    "    except Exception as e:\n",
    "        print(e)\n",
    "        raise e"
   ]
  },
  {
   "cell_type": "markdown",
   "metadata": {},
   "source": [
    "### Calling API Function and Displaying Response"
   ]
  },
  {
   "cell_type": "code",
   "execution_count": 19,
   "metadata": {},
   "outputs": [
    {
     "name": "stdout",
     "output_type": "stream",
     "text": [
      "{'Slope': 'raster_Slope_60326.tif', 'features': [[{'attributes': {'CellSize': [9.259259269220297e-05, -9.259259269220297e-05], 'CoordinateSystem': 'GEOGCS[\"WGS 84\",DATUM[\"WGS_1984\",SPHEROID[\"WGS 84\",6378137,298.257223563,AUTHORITY[\"EPSG\",\"7030\"]],AUTHORITY[\"EPSG\",\"6326\"]],PRIMEM[\"Greenwich\",0],UNIT[\"degree\",0.0174532925199433],AUTHORITY[\"EPSG\",\"4326\"]]', 'Extent': '-76.4984894, 42.44091207776192, -76.47552643701233, 42.455634299999986', 'Legend': [{'Area': '33.33 %', 'Count': 12550, 'CountAllPixels': 37649, 'Max': 0.0182556863874197, 'Mean': 0.009127915863693659, 'Min': 1.4533996761656454e-07, 'color': '#4d76d5'}, {'Area': '33.33 %', 'Count': 12549, 'CountAllPixels': 37649, 'Max': 0.0475408136844635, 'Mean': 0.0328982500359416, 'Min': 0.0182556863874197, 'color': '#e5cc78'}, {'Area': '33.33 %', 'Count': 12550, 'CountAllPixels': 37649, 'Max': 0.8181570172309875, 'Mean': 0.4328489154577255, 'Min': 0.0475408136844635, 'color': '#e9e9e9'}], 'Matrix': [159, 248], 'Max': 0.8181570172309875, 'Mean': 0.05745059624314308, 'Min': 1.4533996761656454e-07, 'OID': 0, 'Percentile5': 0.0029396485537290574, 'Percentile95': 0.21061243116855616, 'Product': 'Slope', 'Std': 0.08429117575830632, 'Variety': 'NoVariety', 'pngb64': 'data:image/png;base64, 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'}}]]}\n"
     ]
    }
   ],
   "source": [
    "IndexResponse = ElevationIndex(files,values)"
   ]
  },
  {
   "cell_type": "markdown",
   "metadata": {},
   "source": [
    "### Output Index Summary"
   ]
  },
  {
   "cell_type": "code",
   "execution_count": 20,
   "metadata": {},
   "outputs": [
    {
     "data": {
      "text/html": [
       "<div>\n",
       "<style scoped>\n",
       "    .dataframe tbody tr th:only-of-type {\n",
       "        vertical-align: middle;\n",
       "    }\n",
       "\n",
       "    .dataframe tbody tr th {\n",
       "        vertical-align: top;\n",
       "    }\n",
       "\n",
       "    .dataframe thead th {\n",
       "        text-align: right;\n",
       "    }\n",
       "</style>\n",
       "<table border=\"1\" class=\"dataframe\">\n",
       "  <thead>\n",
       "    <tr style=\"text-align: right;\">\n",
       "      <th></th>\n",
       "      <th>Index</th>\n",
       "      <th>Max</th>\n",
       "      <th>Mean</th>\n",
       "      <th>Min</th>\n",
       "      <th>pngb64</th>\n",
       "    </tr>\n",
       "  </thead>\n",
       "  <tbody>\n",
       "    <tr>\n",
       "      <th>0</th>\n",
       "      <td>Slope</td>\n",
       "      <td>0.818157</td>\n",
       "      <td>0.057451</td>\n",
       "      <td>1.453400e-07</td>\n",
       "      <td>data:image/png;base64, iVBORw0KGgoAAAANSUhEUgA...</td>\n",
       "    </tr>\n",
       "  </tbody>\n",
       "</table>\n",
       "</div>"
      ],
      "text/plain": [
       "   Index       Max      Mean           Min  \\\n",
       "0  Slope  0.818157  0.057451  1.453400e-07   \n",
       "\n",
       "                                              pngb64  \n",
       "0  data:image/png;base64, iVBORw0KGgoAAAANSUhEUgA...  "
      ]
     },
     "execution_count": 20,
     "metadata": {},
     "output_type": "execute_result"
    }
   ],
   "source": [
    "df=defaultdict(list)\n",
    "for value in IndexResponse['features']:\n",
    "    attributes = value[0]['attributes']\n",
    "    df['Index'].append(attributes['Product'])\n",
    "    df['Max'].append(float(attributes['Max']))\n",
    "    df['Mean'].append(float(attributes['Mean']))\n",
    "    df['Min'].append(float(attributes['Min']))\n",
    "    df['pngb64'].append(attributes['pngb64'])\n",
    "\n",
    "indexdf=pd.DataFrame.from_dict(df)\n",
    "#indexdf = indexdf.sort_values(by = ['Area'], ascending=False).style.applymap(lambda x:\"background-color: %s\"%x, subset=['Color'])\n",
    "indexdf"
   ]
  },
  {
   "cell_type": "markdown",
   "metadata": {},
   "source": [
    "### Displaying Index Image"
   ]
  },
  {
   "cell_type": "code",
   "execution_count": 21,
   "metadata": {},
   "outputs": [],
   "source": [
    "#####################################\n",
    "# Select one index to display. Must match one of the following: \n",
    "# ['Slope', 'Relative_Elevation', 'TPI', 'TRI']\n",
    "Index = 'Slope'\n",
    "######################################"
   ]
  },
  {
   "cell_type": "code",
   "execution_count": 22,
   "metadata": {},
   "outputs": [
    {
     "data": {
      "text/html": [
       "<style  type=\"text/css\" >\n",
       "    #T_f7771522_5974_11ea_9435_c8d719c6bfb9row0_col3 {\n",
       "            background-color:  #4d76d5;\n",
       "        }    #T_f7771522_5974_11ea_9435_c8d719c6bfb9row1_col3 {\n",
       "            background-color:  #e5cc78;\n",
       "        }    #T_f7771522_5974_11ea_9435_c8d719c6bfb9row2_col3 {\n",
       "            background-color:  #e9e9e9;\n",
       "        }</style>  \n",
       "<table id=\"T_f7771522_5974_11ea_9435_c8d719c6bfb9\" > \n",
       "<thead>    <tr> \n",
       "        <th class=\"blank level0\" ></th> \n",
       "        <th class=\"col_heading level0 col0\" >Max</th> \n",
       "        <th class=\"col_heading level0 col1\" >Mean</th> \n",
       "        <th class=\"col_heading level0 col2\" >Min</th> \n",
       "        <th class=\"col_heading level0 col3\" >Color</th> \n",
       "        <th class=\"col_heading level0 col4\" >Range</th> \n",
       "    </tr></thead> \n",
       "<tbody>    <tr> \n",
       "        <th id=\"T_f7771522_5974_11ea_9435_c8d719c6bfb9level0_row0\" class=\"row_heading level0 row0\" >0</th> \n",
       "        <td id=\"T_f7771522_5974_11ea_9435_c8d719c6bfb9row0_col0\" class=\"data row0 col0\" >0.0182557</td> \n",
       "        <td id=\"T_f7771522_5974_11ea_9435_c8d719c6bfb9row0_col1\" class=\"data row0 col1\" >0.00912792</td> \n",
       "        <td id=\"T_f7771522_5974_11ea_9435_c8d719c6bfb9row0_col2\" class=\"data row0 col2\" >1.4534e-07</td> \n",
       "        <td id=\"T_f7771522_5974_11ea_9435_c8d719c6bfb9row0_col3\" class=\"data row0 col3\" >#4d76d5</td> \n",
       "        <td id=\"T_f7771522_5974_11ea_9435_c8d719c6bfb9row0_col4\" class=\"data row0 col4\" >Low</td> \n",
       "    </tr>    <tr> \n",
       "        <th id=\"T_f7771522_5974_11ea_9435_c8d719c6bfb9level0_row1\" class=\"row_heading level0 row1\" >1</th> \n",
       "        <td id=\"T_f7771522_5974_11ea_9435_c8d719c6bfb9row1_col0\" class=\"data row1 col0\" >0.0475408</td> \n",
       "        <td id=\"T_f7771522_5974_11ea_9435_c8d719c6bfb9row1_col1\" class=\"data row1 col1\" >0.0328983</td> \n",
       "        <td id=\"T_f7771522_5974_11ea_9435_c8d719c6bfb9row1_col2\" class=\"data row1 col2\" >0.0182557</td> \n",
       "        <td id=\"T_f7771522_5974_11ea_9435_c8d719c6bfb9row1_col3\" class=\"data row1 col3\" >#e5cc78</td> \n",
       "        <td id=\"T_f7771522_5974_11ea_9435_c8d719c6bfb9row1_col4\" class=\"data row1 col4\" >Medium</td> \n",
       "    </tr>    <tr> \n",
       "        <th id=\"T_f7771522_5974_11ea_9435_c8d719c6bfb9level0_row2\" class=\"row_heading level0 row2\" >2</th> \n",
       "        <td id=\"T_f7771522_5974_11ea_9435_c8d719c6bfb9row2_col0\" class=\"data row2 col0\" >0.818157</td> \n",
       "        <td id=\"T_f7771522_5974_11ea_9435_c8d719c6bfb9row2_col1\" class=\"data row2 col1\" >0.432849</td> \n",
       "        <td id=\"T_f7771522_5974_11ea_9435_c8d719c6bfb9row2_col2\" class=\"data row2 col2\" >0.0475408</td> \n",
       "        <td id=\"T_f7771522_5974_11ea_9435_c8d719c6bfb9row2_col3\" class=\"data row2 col3\" >#e9e9e9</td> \n",
       "        <td id=\"T_f7771522_5974_11ea_9435_c8d719c6bfb9row2_col4\" class=\"data row2 col4\" >High</td> \n",
       "    </tr></tbody> \n",
       "</table> "
      ],
      "text/plain": [
       "<pandas.io.formats.style.Styler at 0x1e66779f860>"
      ]
     },
     "execution_count": 22,
     "metadata": {},
     "output_type": "execute_result"
    }
   ],
   "source": [
    "#Select one index\n",
    "Index = Index\n",
    "\n",
    "#Image Legend\n",
    "df=defaultdict(list)\n",
    "for product in IndexResponse['features']:\n",
    "    if Index == product[0]['attributes']['Product']:\n",
    "        Legend = product[0]['attributes']['Legend']\n",
    "for val in Legend:\n",
    "    df['Max'].append(float(val['Max']))\n",
    "    df['Mean'].append(float(val['Mean']))\n",
    "    df['Min'].append(float(val['Min']))\n",
    "    df['Color'].append(val['color'])\n",
    "    df['Range'] = ['Low','Medium','High']\n",
    "    \n",
    "legenddf = pd.DataFrame.from_dict(df)    \n",
    "legenddf.style.applymap(lambda x:\"background-color: %s\"%x, subset=['Color'])"
   ]
  },
  {
   "cell_type": "code",
   "execution_count": 23,
   "metadata": {},
   "outputs": [
    {
     "data": {
      "text/html": [
       "<img src=\"data:image/png;base64, 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\" width=\"500\" height=\"500\"/>"
      ],
      "text/plain": [
       "<IPython.core.display.Image object>"
      ]
     },
     "execution_count": 23,
     "metadata": {},
     "output_type": "execute_result"
    }
   ],
   "source": [
    "IndexImage = indexdf.loc[indexdf['Index'] == Index,'pngb64'].iloc[0]\n",
    "Image(url = IndexImage, width= 500, height =500)"
   ]
  },
  {
   "cell_type": "markdown",
   "metadata": {},
   "source": [
    "# GET Request"
   ]
  },
  {
   "cell_type": "code",
   "execution_count": 38,
   "metadata": {},
   "outputs": [
    {
     "name": "stdout",
     "output_type": "stream",
     "text": [
      "{'filenames': ['raster_RelativeElevation_84049.tif']}\n"
     ]
    }
   ],
   "source": [
    "# Specify local path where file will be downloaded.\n",
    "local_path = r\"C:\\<Path to download directory>\" # E.g., r\"C:\\Users\\John_Doe\\Documents\\rasters\"\n",
    "\n",
    "# Create GET request payload.\n",
    "Index = 'Relative_Elevation'\n",
    "values = {'filenames': [IndexResponse[Index],]}\n",
    "print(values)"
   ]
  },
  {
   "cell_type": "code",
   "execution_count": 39,
   "metadata": {},
   "outputs": [],
   "source": [
    "def Elevation_Index_get(values, local_path):\n",
    "    try:\n",
    "        url = 'https://ag-analytics.azure-api.net/elevation-index'\n",
    "    \n",
    "        download_path = os.path.join(local_path, values['filenames'][0])\n",
    "        print(values)\n",
    "     \n",
    "        response = requests.get(url, params=values)\n",
    "        open(download_path, 'wb').write(response.content)\n",
    "        \n",
    "        print(response.url)\n",
    "\n",
    "        return response\n",
    "    \n",
    "    except Exception as e:\n",
    "        print(e)\n",
    "        raise e"
   ]
  },
  {
   "cell_type": "code",
   "execution_count": null,
   "metadata": {},
   "outputs": [],
   "source": [
    "Elevation_Index_get(values, local_path)"
   ]
  }
 ],
 "metadata": {
  "kernelspec": {
   "display_name": "agflask-env",
   "language": "python",
   "name": "agflask-env"
  },
  "language_info": {
   "codemirror_mode": {
    "name": "ipython",
    "version": 3
   },
   "file_extension": ".py",
   "mimetype": "text/x-python",
   "name": "python",
   "nbconvert_exporter": "python",
   "pygments_lexer": "ipython3",
   "version": "3.6.6"
  }
 },
 "nbformat": 4,
 "nbformat_minor": 2
}
