{
 "cells": [
  {
   "cell_type": "markdown",
   "metadata": {},
   "source": [
    "# Ag-Analytics® - Cropland Data Layers API "
   ]
  },
  {
   "cell_type": "markdown",
   "metadata": {},
   "source": [
    "The Cropland Data Layer (CDL), produced by the USDA, provides a raster, geo-referenced, crop-specific land cover map for the continental United States. The CDL also includes a crop mask layer and planting frequency layers, as well as boundary, water and road layers. The Boundary Layer options provided are County, Agricultural Statistics Districts (ASD), State, and Region. The data is created annually using moderate resolution satellite imagery and extensive agricultural ground truth."
   ]
  },
  {
   "cell_type": "markdown",
   "metadata": {},
   "source": [
    "CDL Service provides an API for requesting CDL layer as a GeoTIFF of the area of interest(AOI) passed by the user and the summary of the majoy crops planted on the area of interest. To request the CDL layer, the user will pass the AOI as one of the following format: GeoJSON, Shapefile(.SHP, .shp), or GeoTIFF(.TIFF, tif) and the calender year of the CDL layer as parameters in the POST request. The response of POST request includes the crop summary of the AOI and a file name of the GeoTIFF saved on the Ag-Analytics server. Then, user can send a GET request that includes the file name from POST request to download the GeoTIFF of the CDL layer."
   ]
  },
  {
   "cell_type": "markdown",
   "metadata": {},
   "source": [
    "### Post Request Parameters"
   ]
  },
  {
   "cell_type": "markdown",
   "metadata": {},
   "source": [
    "1). __aoi__ (GeoJSON String): Area of interest as Geojson string containing boundary coordinates.\n",
    "    __file__(GeoTiff or Shapfile in Zip): Alternative AOI format when GeoJSON is not available. A GeoTiff(.TIFF,.Tif, .etc) or a Shapefile in Zip (must include shp, shx, dbf, but others files such as .prj, .xml, .cpg are recommended for better processing)\n",
    "    \n",
    "2). __years__(List of integers as String):Call will return CDL or Cultivated Layer GeoTiffs and response from the given years. ex: \"['2015','2016']\"\n",
    "\n",
    "3).__product__(List of integers as String):Get 'CultivatedLayer','CDL', or both products in the response. ex:\"['CultivatedLayer','CDL']\"\n",
    "\n",
    "4).__Projection__(String):Output projection of result GeoTIFF.Provided as EPSG code, ex: \"EPSG:4326\"\n",
    "\n",
    "5).__Resolution__(Float):Output resolution of result GeoTIFF."
   ]
  },
  {
   "cell_type": "markdown",
   "metadata": {},
   "source": [
    "### Request Spatial Reference Handling"
   ]
  },
  {
   "cell_type": "markdown",
   "metadata": {},
   "source": [
    "The CDL Service handles requests differently whether they contain a file as an aoi (shapefile/GeoTIFF) or the aoi as a GeoJSON. This is accomplished with a try-catch where the service attempts to extract a file from the request first, and if this is not possible, it falls through to accepting a fully JSON request with GeoJSON as the aoi.\n",
    "Please see the __Request Handling Table__ in CDL API documentation for detailed description."
   ]
  },
  {
   "cell_type": "markdown",
   "metadata": {},
   "source": [
    "## Library"
   ]
  },
  {
   "cell_type": "code",
   "execution_count": 1,
   "metadata": {},
   "outputs": [
    {
     "data": {
      "application/javascript": [
       "IPython.notebook.set_autosave_interval(0)"
      ]
     },
     "metadata": {},
     "output_type": "display_data"
    },
    {
     "name": "stdout",
     "output_type": "stream",
     "text": [
      "Autosave disabled\n"
     ]
    }
   ],
   "source": [
    "import requests\n",
    "import json\n",
    "import os\n",
    "from collections import defaultdict\n",
    "import pandas as pd\n",
    "from IPython.display import Image\n",
    "\n",
    "%matplotlib inline\n",
    "%autosave 0"
   ]
  },
  {
   "cell_type": "markdown",
   "metadata": {},
   "source": [
    "## POST Request API Fuction"
   ]
  },
  {
   "cell_type": "code",
   "execution_count": 2,
   "metadata": {},
   "outputs": [],
   "source": [
    "def cdl_service(values, files, headers):\n",
    "    try:\n",
    "        url = 'https://ag-analytics.azure-api.net/cdl-range-read'\n",
    "        \n",
    "        if files == None:\n",
    "            response = requests.post(url, data=values,headers = headers).json()\n",
    "        else:\n",
    "            response = requests.post(url, files = files, data = values,headers = headers).json()\n",
    "            \n",
    "        print(response)\n",
    "        \n",
    "        return response\n",
    "    \n",
    "    except Exception as e:\n",
    "        print(e)\n",
    "        raise e"
   ]
  },
  {
   "cell_type": "markdown",
   "metadata": {},
   "source": [
    "#### Headers and Subscription key"
   ]
  },
  {
   "cell_type": "code",
   "execution_count": 3,
   "metadata": {},
   "outputs": [],
   "source": [
    "# Basic Header Pattern.\n",
    "# headers=None\n",
    "# Header for using a subscription key.\n",
    "headers={'Content-Type':'application/x-www-form-urlencoded','Ocp-Apim-Subscription-Key': \"xxxxxxxxxxxxxxxxxxxxxxxxxxxxx\"}"
   ]
  },
  {
   "cell_type": "markdown",
   "metadata": {},
   "source": [
    "## Raster (.tif) as AOI for CDL"
   ]
  },
  {
   "cell_type": "code",
   "execution_count": 44,
   "metadata": {},
   "outputs": [],
   "source": [
    "#Path to raster in your local machine\n",
    "rasterpath = r\"raster path on your local machine\"\n",
    "gtiffs_files = [('file',(open(rasterpath, 'rb')))]\n",
    "#Parameters to call cdl API\n",
    "request_with_tif = {\n",
    "    \"years\":\"['2015']\",\n",
    "    \"Resolution\":\"0.0001\",\n",
    "    \"Projection\":\"EPSG:4326\"\n",
    "}"
   ]
  },
  {
   "cell_type": "code",
   "execution_count": 45,
   "metadata": {},
   "outputs": [
    {
     "name": "stdout",
     "output_type": "stream",
     "text": [
      "{'2015': {'attributes': {'CellSize': [9.999999999999224e-05, -9.999999999996996e-05], 'CoordinateSystem': 'GEOGCS[\"WGS 84\",DATUM[\"WGS_1984\",SPHEROID[\"WGS 84\",6378137,298.257223563,AUTHORITY[\"EPSG\",\"7030\"]],AUTHORITY[\"EPSG\",\"6326\"]],PRIMEM[\"Greenwich\",0],UNIT[\"degree\",0.0174532925199433],AUTHORITY[\"EPSG\",\"4326\"]]', 'Extent': '-95.89404159769204, 46.32639173298982, -95.87354159769204, 46.340391732989815', 'Legend': [{'Acres': 166.78235027740627, 'Area': '27.47 %', 'Count': 7885, 'CountAllPixels': 28700, 'CropCode': 1, 'CropName': 'Corn', 'color': '#6af121'}, {'Acres': 225.56334601880283, 'Area': '37.16 %', 'Count': 10664, 'CountAllPixels': 28700, 'CropCode': 5, 'CropName': 'Soybeans', 'color': '#73fbcd'}, {'Acres': 0.06345555495652742, 'Area': '0.01 %', 'Count': 3, 'CountAllPixels': 28700, 'CropCode': 23, 'CropName': 'SpringWheat', 'color': '#d369b7'}, {'Acres': 6.81089623200061, 'Area': '1.12 %', 'Count': 322, 'CountAllPixels': 28700, 'CropCode': 36, 'CropName': 'Alfalfa', 'color': '#440111'}, {'Acres': 1.6498444288697132, 'Area': '0.27 %', 'Count': 78, 'CountAllPixels': 28700, 'CropCode': 37, 'CropName': 'OtherHay/NonAlfalfa', 'color': '#4c6a6e'}, {'Acres': 2.3055518300871634, 'Area': '0.38 %', 'Count': 109, 'CountAllPixels': 28700, 'CropCode': 61, 'CropName': 'Fallow/IdleCropland', 'color': '#025d4a'}, {'Acres': 31.664321923307185, 'Area': '5.22 %', 'Count': 1497, 'CountAllPixels': 28700, 'CropCode': 111, 'CropName': 'OpenWater', 'color': '#7956c0'}, {'Acres': 27.582014554437254, 'Area': '4.54 %', 'Count': 1304, 'CountAllPixels': 28700, 'CropCode': 121, 'CropName': 'Developed/OpenSpace', 'color': '#fe061d'}, {'Acres': 0.12691110991305485, 'Area': '0.02 %', 'Count': 6, 'CountAllPixels': 28700, 'CropCode': 123, 'CropName': 'Developed/MedIntensity', 'color': '#c84602'}, {'Acres': 80.27127702000719, 'Area': '13.22 %', 'Count': 3795, 'CountAllPixels': 28700, 'CropCode': 141, 'CropName': 'DeciduousForest', 'color': '#c74184'}, {'Acres': 3.1516258961741954, 'Area': '0.52 %', 'Count': 149, 'CountAllPixels': 28700, 'CropCode': 142, 'CropName': 'EvergreenForest', 'color': '#77ba69'}, {'Acres': 8.397285105913797, 'Area': '1.38 %', 'Count': 397, 'CountAllPixels': 28700, 'CropCode': 152, 'CropName': 'Shrubland', 'color': '#472192'}, {'Acres': 36.21197002852499, 'Area': '5.97 %', 'Count': 1712, 'CountAllPixels': 28700, 'CropCode': 176, 'CropName': 'Grassland/Pasture', 'color': '#7b0e2c'}, {'Acres': 16.477292437044955, 'Area': '2.71 %', 'Count': 779, 'CountAllPixels': 28700, 'CropCode': 195, 'CropName': 'HerbaceousWetlands', 'color': '#f1b525'}], 'pngb64': 'data:image/png;base64, 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'}, 'filename': 'result_raster_cdl_2015_epsg_4326_resolution_0.0001_89977.tif'}, 'status': 'SUCCEED'}\n"
     ]
    }
   ],
   "source": [
    "cdl_response_raster = cdl_service(request_with_tif, gtiffs_files, headers)"
   ]
  },
  {
   "cell_type": "markdown",
   "metadata": {},
   "source": [
    "## GeoJSON as AOI for CDL"
   ]
  },
  {
   "cell_type": "code",
   "execution_count": 4,
   "metadata": {},
   "outputs": [],
   "source": [
    "#Parameters to call cdl API\n",
    "aoi = \"{\\\"type\\\":\\\"Feature\\\",\\\"properties\\\":{},\\\"geometry\\\":{\\\"type\\\":\\\"Polygon\\\",\\\"coordinates\\\":[[[-95.9148931503296,46.322452681104124],[-95.91476440429689,46.31674720419029],[-95.91442108154298,46.31682130510615],[-95.91399192810059,46.31673238399508],[-95.91360569000246,46.31648044006236],[-95.91345548629762,46.31630259658792],[-95.91388463974,46.3157838831528],[-95.91392755508424,46.31532444714701],[-95.91435670852661,46.314924290063686],[-95.91478586196901,46.31456859242209],[-95.91474294662476,46.31356076988237],[-95.91439962387085,46.313545948824185],[-95.91382026672365,46.31390165311263],[-95.91313362121583,46.314227713346064],[-95.91306924819948,46.314538950847584],[-95.91345548629762,46.31474644153189],[-95.9135413169861,46.31517624116103],[-95.91176033020021,46.315131779286965],[-95.91109514236452,46.31465751704923],[-95.91105222702028,46.314227713346064],[-95.91070890426637,46.3137682642754],[-95.9101939201355,46.31356076988237],[-95.90980768203735,46.31317542106524],[-95.90974330902101,46.312819712056545],[-95.90978622436523,46.31253810745169],[-95.91015100479126,46.31222685857106],[-95.90978622436523,46.31221203715164],[-95.90882062911987,46.3126270353782],[-95.90843439102173,46.312849354562246],[-95.90768337249756,46.312849354562246],[-95.90699672698975,46.312730784443126],[-95.90633153915405,46.31256775010992],[-95.90598821640015,46.31236025116524],[-95.90577363967897,46.311470961062994],[-95.90521574020387,46.31133756630139],[-95.9045934677124,46.311722928059],[-95.90403556823732,46.311722928059],[-95.90332746505739,46.31170810650312],[-95.90231895446779,46.311574712319505],[-95.90182542800903,46.3116191770835],[-95.90128898620607,46.31193042942004],[-95.90113878250122,46.31221203715164],[-95.90113878250122,46.31238989391975],[-95.90146064758301,46.31261221406715],[-95.9018898010254,46.31253810745169],[-95.9025549888611,46.31249364343426],[-95.90337038040163,46.31224167998646],[-95.90403556823732,46.31249364343426],[-95.90397119522096,46.312893818290675],[-95.9036707878113,46.31305685165256],[-95.9031128883362,46.313130957565605],[-95.90270519256593,46.31336809581297],[-95.90229749679567,46.31378308527336],[-95.90195417404176,46.31399057882352],[-95.90126752853395,46.31511695865424],[-95.90075254440308,46.31529480598191],[-95.90075254440308,46.31553193485307],[-95.90090274810792,46.315754242236565],[-95.90094566345216,46.31594690790508],[-95.90068817138673,46.31622849496964],[-95.90025901794435,46.31653972109205],[-95.90002298355103,46.316850945444386],[-95.90002298355103,46.31722144831783],[-95.90023756027223,46.31762158860345],[-95.89991569519044,46.31811064497894],[-95.89944362640382,46.31885163115864],[-95.89989423751832,46.3191035641739],[-95.9040141105652,46.319073925055825],[-95.9043574333191,46.31870343472544],[-95.9043574333191,46.31843668013423],[-95.90418577194215,46.31827366279941],[-95.90369224548341,46.318258843017624],[-95.90296268463136,46.318081005323016],[-95.90251207351685,46.317932806802666],[-95.90225458145143,46.317799427791165],[-95.90317726135254,46.315872805805164],[-95.90356349945068,46.31581352405298],[-95.90362787246706,46.31603583029254],[-95.90414285659791,46.31622849496964],[-95.90470075607301,46.316258135628985],[-95.9052586555481,46.316287776272304],[-95.90555906295778,46.31928139854511],[-95.90843439102173,46.31932585704758],[-95.90858459472658,46.322482318391906],[-95.9148931503296,46.322452681104124]]]}}\"\n",
    "request_with_GeoJSON = {\"years\": \"['2015']\",\n",
    "                        \"Resolution\":\"0.0001\",\n",
    "                        \"Projection\":\"EPSG:4326\",\n",
    "                         \"aoi\":aoi,}"
   ]
  },
  {
   "cell_type": "code",
   "execution_count": 5,
   "metadata": {},
   "outputs": [
    {
     "name": "stdout",
     "output_type": "stream",
     "text": [
      "{'2015': {'attributes': {'CellSize': [9.999999999999763e-05, -0.000100000000000055], 'CoordinateSystem': 'GEOGCS[\"WGS 84\",DATUM[\"WGS_1984\",SPHEROID[\"WGS 84\",6378137,298.257223563,AUTHORITY[\"EPSG\",\"7030\"]],AUTHORITY[\"EPSG\",\"6326\"]],PRIMEM[\"Greenwich\",0],UNIT[\"degree\",0.0174532925199433],AUTHORITY[\"EPSG\",\"4326\"]]', 'Extent': '-95.914846577811, 46.31137964386316, -95.899446577811, 46.32247964386317', 'Legend': [{'Acres': 5.268237736283184, 'Area': '2.55 %', 'Count': 249, 'CountAllPixels': 9783, 'CropCode': 1, 'CropName': 'Corn', 'color': '#f655a4'}, {'Acres': 167.9700377042257, 'Area': '81.15 %', 'Count': 7939, 'CountAllPixels': 9783, 'CropCode': 5, 'CropName': 'Soybeans', 'color': '#bf9be1'}, {'Acres': 4.252673835312931, 'Area': '2.05 %', 'Count': 201, 'CountAllPixels': 9783, 'CropCode': 36, 'CropName': 'Alfalfa', 'color': '#756def'}, {'Acres': 0.3808364628638446, 'Area': '0.18 %', 'Count': 18, 'CountAllPixels': 9783, 'CropCode': 37, 'CropName': 'OtherHay/NonAlfalfa', 'color': '#8b2ec3'}, {'Acres': 0.12694548762128155, 'Area': '0.06 %', 'Count': 6, 'CountAllPixels': 9783, 'CropCode': 111, 'CropName': 'OpenWater', 'color': '#852b80'}, {'Acres': 14.85262205168994, 'Area': '7.18 %', 'Count': 702, 'CountAllPixels': 9783, 'CropCode': 121, 'CropName': 'Developed/OpenSpace', 'color': '#8691d1'}, {'Acres': 0.6347274381064076, 'Area': '0.31 %', 'Count': 30, 'CountAllPixels': 9783, 'CropCode': 122, 'CropName': 'Developed/LowIntensity', 'color': '#af8c77'}, {'Acres': 7.1724200506024065, 'Area': '3.47 %', 'Count': 339, 'CountAllPixels': 9783, 'CropCode': 141, 'CropName': 'DeciduousForest', 'color': '#5a2366'}, {'Acres': 2.940903796559689, 'Area': '1.42 %', 'Count': 139, 'CountAllPixels': 9783, 'CropCode': 176, 'CropName': 'Grassland/Pasture', 'color': '#871812'}, {'Acres': 3.385213003234174, 'Area': '1.64 %', 'Count': 160, 'CountAllPixels': 9783, 'CropCode': 195, 'CropName': 'HerbaceousWetlands', 'color': '#c744ac'}], 'pngb64': 'data:image/png;base64, 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'}, 'filename': 'result_raster_cdl_2015_epsg_4326_resolution_0.0001_51189.tif'}, 'status': 'SUCCEED'}\n"
     ]
    }
   ],
   "source": [
    "cdl_response_geojson = cdl_service(request_with_GeoJSON, None, headers)"
   ]
  },
  {
   "cell_type": "markdown",
   "metadata": {},
   "source": [
    "## GeoJSON as AOI for Cultivated Layer"
   ]
  },
  {
   "cell_type": "code",
   "execution_count": 6,
   "metadata": {},
   "outputs": [],
   "source": [
    "#Parameters to call Cultivated Layer\n",
    "aoi = \"{\\\"type\\\":\\\"Feature\\\",\\\"properties\\\":{},\\\"geometry\\\":{\\\"type\\\":\\\"Polygon\\\",\\\"coordinates\\\":[[[-95.9148931503296,46.322452681104124],[-95.91476440429689,46.31674720419029],[-95.91442108154298,46.31682130510615],[-95.91399192810059,46.31673238399508],[-95.91360569000246,46.31648044006236],[-95.91345548629762,46.31630259658792],[-95.91388463974,46.3157838831528],[-95.91392755508424,46.31532444714701],[-95.91435670852661,46.314924290063686],[-95.91478586196901,46.31456859242209],[-95.91474294662476,46.31356076988237],[-95.91439962387085,46.313545948824185],[-95.91382026672365,46.31390165311263],[-95.91313362121583,46.314227713346064],[-95.91306924819948,46.314538950847584],[-95.91345548629762,46.31474644153189],[-95.9135413169861,46.31517624116103],[-95.91176033020021,46.315131779286965],[-95.91109514236452,46.31465751704923],[-95.91105222702028,46.314227713346064],[-95.91070890426637,46.3137682642754],[-95.9101939201355,46.31356076988237],[-95.90980768203735,46.31317542106524],[-95.90974330902101,46.312819712056545],[-95.90978622436523,46.31253810745169],[-95.91015100479126,46.31222685857106],[-95.90978622436523,46.31221203715164],[-95.90882062911987,46.3126270353782],[-95.90843439102173,46.312849354562246],[-95.90768337249756,46.312849354562246],[-95.90699672698975,46.312730784443126],[-95.90633153915405,46.31256775010992],[-95.90598821640015,46.31236025116524],[-95.90577363967897,46.311470961062994],[-95.90521574020387,46.31133756630139],[-95.9045934677124,46.311722928059],[-95.90403556823732,46.311722928059],[-95.90332746505739,46.31170810650312],[-95.90231895446779,46.311574712319505],[-95.90182542800903,46.3116191770835],[-95.90128898620607,46.31193042942004],[-95.90113878250122,46.31221203715164],[-95.90113878250122,46.31238989391975],[-95.90146064758301,46.31261221406715],[-95.9018898010254,46.31253810745169],[-95.9025549888611,46.31249364343426],[-95.90337038040163,46.31224167998646],[-95.90403556823732,46.31249364343426],[-95.90397119522096,46.312893818290675],[-95.9036707878113,46.31305685165256],[-95.9031128883362,46.313130957565605],[-95.90270519256593,46.31336809581297],[-95.90229749679567,46.31378308527336],[-95.90195417404176,46.31399057882352],[-95.90126752853395,46.31511695865424],[-95.90075254440308,46.31529480598191],[-95.90075254440308,46.31553193485307],[-95.90090274810792,46.315754242236565],[-95.90094566345216,46.31594690790508],[-95.90068817138673,46.31622849496964],[-95.90025901794435,46.31653972109205],[-95.90002298355103,46.316850945444386],[-95.90002298355103,46.31722144831783],[-95.90023756027223,46.31762158860345],[-95.89991569519044,46.31811064497894],[-95.89944362640382,46.31885163115864],[-95.89989423751832,46.3191035641739],[-95.9040141105652,46.319073925055825],[-95.9043574333191,46.31870343472544],[-95.9043574333191,46.31843668013423],[-95.90418577194215,46.31827366279941],[-95.90369224548341,46.318258843017624],[-95.90296268463136,46.318081005323016],[-95.90251207351685,46.317932806802666],[-95.90225458145143,46.317799427791165],[-95.90317726135254,46.315872805805164],[-95.90356349945068,46.31581352405298],[-95.90362787246706,46.31603583029254],[-95.90414285659791,46.31622849496964],[-95.90470075607301,46.316258135628985],[-95.9052586555481,46.316287776272304],[-95.90555906295778,46.31928139854511],[-95.90843439102173,46.31932585704758],[-95.90858459472658,46.322482318391906],[-95.9148931503296,46.322452681104124]]]}}\"\n",
    "request_with_GeoJSON_cl = {\"years\": \"['2015']\",\n",
    "                             \"aoi\":aoi,\n",
    "                           \"Resolution\":\"0.0001\",\n",
    "                        \"Projection\":\"EPSG:4326\",\n",
    "                        \"product\":\"['CultivatedLayer']\"}"
   ]
  },
  {
   "cell_type": "code",
   "execution_count": 7,
   "metadata": {},
   "outputs": [
    {
     "name": "stdout",
     "output_type": "stream",
     "text": [
      "{'CultivatedLayer': {'attributes': {'CellSize': [0.00010000000000006881, -9.999999999996073e-05], 'CoordinateSystem': 'GEOGCS[\"WGS 84\",DATUM[\"WGS_1984\",SPHEROID[\"WGS 84\",6378137,298.257223563,AUTHORITY[\"EPSG\",\"7030\"]],AUTHORITY[\"EPSG\",\"6326\"]],PRIMEM[\"Greenwich\",0],UNIT[\"degree\",0.0174532925199433],AUTHORITY[\"EPSG\",\"4326\"]]', 'Cultivated_Percent': 0.9381999999999999, 'Extent': '-95.91482400108805, 46.31142004905899, -95.89952400108804, 46.322420049058984', 'Legend': [{'Acres': 194.0148787962576, 'Area': '93.82 %', 'Count': 9170, 'CountAllPixels': 9774, 'Cultivated': 'Yes', 'color': '#f0b747'}], 'pngb64': 'data:image/png;base64, iVBORw0KGgoAAAANSUhEUgAAAJkAAABuCAYAAAA0y7EbAAAC9UlEQVR4nO3cUW7qMBBG4SHqAnhhTRUrrlhTX7qEPlRBlKbEdvzbY8/5NnCjm9Ox4wAnM7Ovj/dPC+Z8vV16X0MUS+8LwPzCRhZxevcSNjK0Q2SQIzLIERnkiAxyRAY5IoMckUGOyCBHZJAjMsgRGeSIDHJEBjkigxyRQY7IILfwCVGoMckgR2SQIzLIERnkiAxyRAa50JFxfNNG6MjQBpFBjsggd2JfosVPVDHJ0MBb7wtAvhFWn8cJznLZ0NGlc8R7db7eLiyXgxgxMLOf6yayAYwa2IrIIEdkDX19vH+OPpVysSeD1PqgQ2QdRJtmnJMNoMZbg9ZhP14zkwzVPf9REBnkiAxVbS3t7MmCeL75NfZoqXtFJhnkiAxyRAY5IoMckXUS6dSfyCC38EUHqDHJIEdkkOPEP4ieDxr3yLb2ZpGegKCzmP3/Dup8vV14MMBRScvlGhqTbTwe7lnWxp+pNhYPgZkVPF0SGnJxhIEiOcPmVPIPeBnDM/P8uxm515Y9yQisv70vCXsKzCwzMgLzpefX3HIkn/gTWFul/98e71PSnszjhaO90knG0yWSlQ4bIoMckUGOyCC3GxmbfhyV9aHFV08XOTGmPqUovkrPH02eGu+qq30ylhfn86l1T9mTQY7IsKnmyvTrxF+xr+qNPdg+9b28T7Lcm8HNQ6rF7NjLWGLDHvZkkCMyyBEZ5A5HNspTJvqp9lrJK14r9cdyGVyLwZEc2YhTDK+1uqe7y+WIcbEkvtb6nv4b2YhxYV+P+7q5XBLYnHrd16KfKfCO5fKvnoODp8sAeq9MRDa53oGZ8cPE0/IQ12r6yCKc+HsKasv0kc3Ke1iPiGwwI8W1Ch1ZyQ2bcblVC3dOppgELcNjkjmnukERHi6OmH6S9fzLV8U22jSbMjKvake3F5vit0RKhFouZ/M8sb0u07xWmoTXwMyIDA0QGeTYk2FTzSdYJhn+qH1EwiRzqMU5WMuzRM7JGkp5AhztoDUFk8yJGeNafQMXxAds7lPWbwAAAABJRU5ErkJggg=='}, 'filename': 'result_raster_cdl_CultivatedLayer_epsg_4326_resolution_0.0001_52283.tif'}, 'status': 'SUCCEED'}\n"
     ]
    }
   ],
   "source": [
    "CultivatedLayer_response_geojson = cdl_service(request_with_GeoJSON_cl, None, headers)"
   ]
  },
  {
   "cell_type": "markdown",
   "metadata": {},
   "source": [
    "## Visualize the response png"
   ]
  },
  {
   "cell_type": "markdown",
   "metadata": {},
   "source": [
    "### Visualize CDL"
   ]
  },
  {
   "cell_type": "code",
   "execution_count": 8,
   "metadata": {},
   "outputs": [
    {
     "data": {
      "text/html": [
       "<style  type=\"text/css\" >\n",
       "    #T_652ebc40_b559_11ea_b0d4_e86f38d9ac3arow0_col6 {\n",
       "            background-color:  #f655a4;\n",
       "        }    #T_652ebc40_b559_11ea_b0d4_e86f38d9ac3arow1_col6 {\n",
       "            background-color:  #bf9be1;\n",
       "        }    #T_652ebc40_b559_11ea_b0d4_e86f38d9ac3arow2_col6 {\n",
       "            background-color:  #756def;\n",
       "        }    #T_652ebc40_b559_11ea_b0d4_e86f38d9ac3arow3_col6 {\n",
       "            background-color:  #8b2ec3;\n",
       "        }    #T_652ebc40_b559_11ea_b0d4_e86f38d9ac3arow4_col6 {\n",
       "            background-color:  #852b80;\n",
       "        }    #T_652ebc40_b559_11ea_b0d4_e86f38d9ac3arow5_col6 {\n",
       "            background-color:  #8691d1;\n",
       "        }    #T_652ebc40_b559_11ea_b0d4_e86f38d9ac3arow6_col6 {\n",
       "            background-color:  #af8c77;\n",
       "        }    #T_652ebc40_b559_11ea_b0d4_e86f38d9ac3arow7_col6 {\n",
       "            background-color:  #5a2366;\n",
       "        }    #T_652ebc40_b559_11ea_b0d4_e86f38d9ac3arow8_col6 {\n",
       "            background-color:  #871812;\n",
       "        }    #T_652ebc40_b559_11ea_b0d4_e86f38d9ac3arow9_col6 {\n",
       "            background-color:  #c744ac;\n",
       "        }</style><table id=\"T_652ebc40_b559_11ea_b0d4_e86f38d9ac3a\" ><thead>    <tr>        <th class=\"blank level0\" ></th>        <th class=\"col_heading level0 col0\" >Acres</th>        <th class=\"col_heading level0 col1\" >Area</th>        <th class=\"col_heading level0 col2\" >Count</th>        <th class=\"col_heading level0 col3\" >CountAllPixels</th>        <th class=\"col_heading level0 col4\" >CropCode</th>        <th class=\"col_heading level0 col5\" >CropName</th>        <th class=\"col_heading level0 col6\" >color</th>    </tr></thead><tbody>\n",
       "                <tr>\n",
       "                        <th id=\"T_652ebc40_b559_11ea_b0d4_e86f38d9ac3alevel0_row0\" class=\"row_heading level0 row0\" >0</th>\n",
       "                        <td id=\"T_652ebc40_b559_11ea_b0d4_e86f38d9ac3arow0_col0\" class=\"data row0 col0\" >5.268238</td>\n",
       "                        <td id=\"T_652ebc40_b559_11ea_b0d4_e86f38d9ac3arow0_col1\" class=\"data row0 col1\" >2.55 %</td>\n",
       "                        <td id=\"T_652ebc40_b559_11ea_b0d4_e86f38d9ac3arow0_col2\" class=\"data row0 col2\" >249.000000</td>\n",
       "                        <td id=\"T_652ebc40_b559_11ea_b0d4_e86f38d9ac3arow0_col3\" class=\"data row0 col3\" >9783</td>\n",
       "                        <td id=\"T_652ebc40_b559_11ea_b0d4_e86f38d9ac3arow0_col4\" class=\"data row0 col4\" >1</td>\n",
       "                        <td id=\"T_652ebc40_b559_11ea_b0d4_e86f38d9ac3arow0_col5\" class=\"data row0 col5\" >Corn</td>\n",
       "                        <td id=\"T_652ebc40_b559_11ea_b0d4_e86f38d9ac3arow0_col6\" class=\"data row0 col6\" >#f655a4</td>\n",
       "            </tr>\n",
       "            <tr>\n",
       "                        <th id=\"T_652ebc40_b559_11ea_b0d4_e86f38d9ac3alevel0_row1\" class=\"row_heading level0 row1\" >1</th>\n",
       "                        <td id=\"T_652ebc40_b559_11ea_b0d4_e86f38d9ac3arow1_col0\" class=\"data row1 col0\" >167.970038</td>\n",
       "                        <td id=\"T_652ebc40_b559_11ea_b0d4_e86f38d9ac3arow1_col1\" class=\"data row1 col1\" >81.15 %</td>\n",
       "                        <td id=\"T_652ebc40_b559_11ea_b0d4_e86f38d9ac3arow1_col2\" class=\"data row1 col2\" >7939.000000</td>\n",
       "                        <td id=\"T_652ebc40_b559_11ea_b0d4_e86f38d9ac3arow1_col3\" class=\"data row1 col3\" >9783</td>\n",
       "                        <td id=\"T_652ebc40_b559_11ea_b0d4_e86f38d9ac3arow1_col4\" class=\"data row1 col4\" >5</td>\n",
       "                        <td id=\"T_652ebc40_b559_11ea_b0d4_e86f38d9ac3arow1_col5\" class=\"data row1 col5\" >Soybeans</td>\n",
       "                        <td id=\"T_652ebc40_b559_11ea_b0d4_e86f38d9ac3arow1_col6\" class=\"data row1 col6\" >#bf9be1</td>\n",
       "            </tr>\n",
       "            <tr>\n",
       "                        <th id=\"T_652ebc40_b559_11ea_b0d4_e86f38d9ac3alevel0_row2\" class=\"row_heading level0 row2\" >2</th>\n",
       "                        <td id=\"T_652ebc40_b559_11ea_b0d4_e86f38d9ac3arow2_col0\" class=\"data row2 col0\" >4.252674</td>\n",
       "                        <td id=\"T_652ebc40_b559_11ea_b0d4_e86f38d9ac3arow2_col1\" class=\"data row2 col1\" >2.05 %</td>\n",
       "                        <td id=\"T_652ebc40_b559_11ea_b0d4_e86f38d9ac3arow2_col2\" class=\"data row2 col2\" >201.000000</td>\n",
       "                        <td id=\"T_652ebc40_b559_11ea_b0d4_e86f38d9ac3arow2_col3\" class=\"data row2 col3\" >9783</td>\n",
       "                        <td id=\"T_652ebc40_b559_11ea_b0d4_e86f38d9ac3arow2_col4\" class=\"data row2 col4\" >36</td>\n",
       "                        <td id=\"T_652ebc40_b559_11ea_b0d4_e86f38d9ac3arow2_col5\" class=\"data row2 col5\" >Alfalfa</td>\n",
       "                        <td id=\"T_652ebc40_b559_11ea_b0d4_e86f38d9ac3arow2_col6\" class=\"data row2 col6\" >#756def</td>\n",
       "            </tr>\n",
       "            <tr>\n",
       "                        <th id=\"T_652ebc40_b559_11ea_b0d4_e86f38d9ac3alevel0_row3\" class=\"row_heading level0 row3\" >3</th>\n",
       "                        <td id=\"T_652ebc40_b559_11ea_b0d4_e86f38d9ac3arow3_col0\" class=\"data row3 col0\" >0.380836</td>\n",
       "                        <td id=\"T_652ebc40_b559_11ea_b0d4_e86f38d9ac3arow3_col1\" class=\"data row3 col1\" >0.18 %</td>\n",
       "                        <td id=\"T_652ebc40_b559_11ea_b0d4_e86f38d9ac3arow3_col2\" class=\"data row3 col2\" >18.000000</td>\n",
       "                        <td id=\"T_652ebc40_b559_11ea_b0d4_e86f38d9ac3arow3_col3\" class=\"data row3 col3\" >9783</td>\n",
       "                        <td id=\"T_652ebc40_b559_11ea_b0d4_e86f38d9ac3arow3_col4\" class=\"data row3 col4\" >37</td>\n",
       "                        <td id=\"T_652ebc40_b559_11ea_b0d4_e86f38d9ac3arow3_col5\" class=\"data row3 col5\" >OtherHay/NonAlfalfa</td>\n",
       "                        <td id=\"T_652ebc40_b559_11ea_b0d4_e86f38d9ac3arow3_col6\" class=\"data row3 col6\" >#8b2ec3</td>\n",
       "            </tr>\n",
       "            <tr>\n",
       "                        <th id=\"T_652ebc40_b559_11ea_b0d4_e86f38d9ac3alevel0_row4\" class=\"row_heading level0 row4\" >4</th>\n",
       "                        <td id=\"T_652ebc40_b559_11ea_b0d4_e86f38d9ac3arow4_col0\" class=\"data row4 col0\" >0.126945</td>\n",
       "                        <td id=\"T_652ebc40_b559_11ea_b0d4_e86f38d9ac3arow4_col1\" class=\"data row4 col1\" >0.06 %</td>\n",
       "                        <td id=\"T_652ebc40_b559_11ea_b0d4_e86f38d9ac3arow4_col2\" class=\"data row4 col2\" >6.000000</td>\n",
       "                        <td id=\"T_652ebc40_b559_11ea_b0d4_e86f38d9ac3arow4_col3\" class=\"data row4 col3\" >9783</td>\n",
       "                        <td id=\"T_652ebc40_b559_11ea_b0d4_e86f38d9ac3arow4_col4\" class=\"data row4 col4\" >111</td>\n",
       "                        <td id=\"T_652ebc40_b559_11ea_b0d4_e86f38d9ac3arow4_col5\" class=\"data row4 col5\" >OpenWater</td>\n",
       "                        <td id=\"T_652ebc40_b559_11ea_b0d4_e86f38d9ac3arow4_col6\" class=\"data row4 col6\" >#852b80</td>\n",
       "            </tr>\n",
       "            <tr>\n",
       "                        <th id=\"T_652ebc40_b559_11ea_b0d4_e86f38d9ac3alevel0_row5\" class=\"row_heading level0 row5\" >5</th>\n",
       "                        <td id=\"T_652ebc40_b559_11ea_b0d4_e86f38d9ac3arow5_col0\" class=\"data row5 col0\" >14.852622</td>\n",
       "                        <td id=\"T_652ebc40_b559_11ea_b0d4_e86f38d9ac3arow5_col1\" class=\"data row5 col1\" >7.18 %</td>\n",
       "                        <td id=\"T_652ebc40_b559_11ea_b0d4_e86f38d9ac3arow5_col2\" class=\"data row5 col2\" >702.000000</td>\n",
       "                        <td id=\"T_652ebc40_b559_11ea_b0d4_e86f38d9ac3arow5_col3\" class=\"data row5 col3\" >9783</td>\n",
       "                        <td id=\"T_652ebc40_b559_11ea_b0d4_e86f38d9ac3arow5_col4\" class=\"data row5 col4\" >121</td>\n",
       "                        <td id=\"T_652ebc40_b559_11ea_b0d4_e86f38d9ac3arow5_col5\" class=\"data row5 col5\" >Developed/OpenSpace</td>\n",
       "                        <td id=\"T_652ebc40_b559_11ea_b0d4_e86f38d9ac3arow5_col6\" class=\"data row5 col6\" >#8691d1</td>\n",
       "            </tr>\n",
       "            <tr>\n",
       "                        <th id=\"T_652ebc40_b559_11ea_b0d4_e86f38d9ac3alevel0_row6\" class=\"row_heading level0 row6\" >6</th>\n",
       "                        <td id=\"T_652ebc40_b559_11ea_b0d4_e86f38d9ac3arow6_col0\" class=\"data row6 col0\" >0.634727</td>\n",
       "                        <td id=\"T_652ebc40_b559_11ea_b0d4_e86f38d9ac3arow6_col1\" class=\"data row6 col1\" >0.31 %</td>\n",
       "                        <td id=\"T_652ebc40_b559_11ea_b0d4_e86f38d9ac3arow6_col2\" class=\"data row6 col2\" >30.000000</td>\n",
       "                        <td id=\"T_652ebc40_b559_11ea_b0d4_e86f38d9ac3arow6_col3\" class=\"data row6 col3\" >9783</td>\n",
       "                        <td id=\"T_652ebc40_b559_11ea_b0d4_e86f38d9ac3arow6_col4\" class=\"data row6 col4\" >122</td>\n",
       "                        <td id=\"T_652ebc40_b559_11ea_b0d4_e86f38d9ac3arow6_col5\" class=\"data row6 col5\" >Developed/LowIntensity</td>\n",
       "                        <td id=\"T_652ebc40_b559_11ea_b0d4_e86f38d9ac3arow6_col6\" class=\"data row6 col6\" >#af8c77</td>\n",
       "            </tr>\n",
       "            <tr>\n",
       "                        <th id=\"T_652ebc40_b559_11ea_b0d4_e86f38d9ac3alevel0_row7\" class=\"row_heading level0 row7\" >7</th>\n",
       "                        <td id=\"T_652ebc40_b559_11ea_b0d4_e86f38d9ac3arow7_col0\" class=\"data row7 col0\" >7.172420</td>\n",
       "                        <td id=\"T_652ebc40_b559_11ea_b0d4_e86f38d9ac3arow7_col1\" class=\"data row7 col1\" >3.47 %</td>\n",
       "                        <td id=\"T_652ebc40_b559_11ea_b0d4_e86f38d9ac3arow7_col2\" class=\"data row7 col2\" >339.000000</td>\n",
       "                        <td id=\"T_652ebc40_b559_11ea_b0d4_e86f38d9ac3arow7_col3\" class=\"data row7 col3\" >9783</td>\n",
       "                        <td id=\"T_652ebc40_b559_11ea_b0d4_e86f38d9ac3arow7_col4\" class=\"data row7 col4\" >141</td>\n",
       "                        <td id=\"T_652ebc40_b559_11ea_b0d4_e86f38d9ac3arow7_col5\" class=\"data row7 col5\" >DeciduousForest</td>\n",
       "                        <td id=\"T_652ebc40_b559_11ea_b0d4_e86f38d9ac3arow7_col6\" class=\"data row7 col6\" >#5a2366</td>\n",
       "            </tr>\n",
       "            <tr>\n",
       "                        <th id=\"T_652ebc40_b559_11ea_b0d4_e86f38d9ac3alevel0_row8\" class=\"row_heading level0 row8\" >8</th>\n",
       "                        <td id=\"T_652ebc40_b559_11ea_b0d4_e86f38d9ac3arow8_col0\" class=\"data row8 col0\" >2.940904</td>\n",
       "                        <td id=\"T_652ebc40_b559_11ea_b0d4_e86f38d9ac3arow8_col1\" class=\"data row8 col1\" >1.42 %</td>\n",
       "                        <td id=\"T_652ebc40_b559_11ea_b0d4_e86f38d9ac3arow8_col2\" class=\"data row8 col2\" >139.000000</td>\n",
       "                        <td id=\"T_652ebc40_b559_11ea_b0d4_e86f38d9ac3arow8_col3\" class=\"data row8 col3\" >9783</td>\n",
       "                        <td id=\"T_652ebc40_b559_11ea_b0d4_e86f38d9ac3arow8_col4\" class=\"data row8 col4\" >176</td>\n",
       "                        <td id=\"T_652ebc40_b559_11ea_b0d4_e86f38d9ac3arow8_col5\" class=\"data row8 col5\" >Grassland/Pasture</td>\n",
       "                        <td id=\"T_652ebc40_b559_11ea_b0d4_e86f38d9ac3arow8_col6\" class=\"data row8 col6\" >#871812</td>\n",
       "            </tr>\n",
       "            <tr>\n",
       "                        <th id=\"T_652ebc40_b559_11ea_b0d4_e86f38d9ac3alevel0_row9\" class=\"row_heading level0 row9\" >9</th>\n",
       "                        <td id=\"T_652ebc40_b559_11ea_b0d4_e86f38d9ac3arow9_col0\" class=\"data row9 col0\" >3.385213</td>\n",
       "                        <td id=\"T_652ebc40_b559_11ea_b0d4_e86f38d9ac3arow9_col1\" class=\"data row9 col1\" >1.64 %</td>\n",
       "                        <td id=\"T_652ebc40_b559_11ea_b0d4_e86f38d9ac3arow9_col2\" class=\"data row9 col2\" >160.000000</td>\n",
       "                        <td id=\"T_652ebc40_b559_11ea_b0d4_e86f38d9ac3arow9_col3\" class=\"data row9 col3\" >9783</td>\n",
       "                        <td id=\"T_652ebc40_b559_11ea_b0d4_e86f38d9ac3arow9_col4\" class=\"data row9 col4\" >195</td>\n",
       "                        <td id=\"T_652ebc40_b559_11ea_b0d4_e86f38d9ac3arow9_col5\" class=\"data row9 col5\" >HerbaceousWetlands</td>\n",
       "                        <td id=\"T_652ebc40_b559_11ea_b0d4_e86f38d9ac3arow9_col6\" class=\"data row9 col6\" >#c744ac</td>\n",
       "            </tr>\n",
       "    </tbody></table>"
      ],
      "text/plain": [
       "<pandas.io.formats.style.Styler at 0x1e70b338c48>"
      ]
     },
     "execution_count": 8,
     "metadata": {},
     "output_type": "execute_result"
    }
   ],
   "source": [
    "# pngb64\n",
    "attributes =cdl_response_geojson['2015']['attributes']\n",
    "pngb64cdl = attributes['pngb64']\n",
    "#Image Legend\n",
    "df=defaultdict(list)\n",
    "\n",
    "Legend = attributes['Legend']\n",
    "    \n",
    "for val in Legend:\n",
    "    df['Acres'].append(float(val['Acres']))\n",
    "    df['Area'].append(val['Area'])\n",
    "    df['Count'].append(float(val['Count']))\n",
    "    df['CountAllPixels'].append(val['CountAllPixels'])\n",
    "    df['CropCode'].append(val['CropCode'])\n",
    "    df['CropName'].append(val['CropName'])\n",
    "    df['color'].append(val['color'])\n",
    "\n",
    "    \n",
    "legenddf = pd.DataFrame.from_dict(df)    \n",
    "legenddf.style.applymap(lambda x:\"background-color: %s\"%x, subset=['color'])\n"
   ]
  },
  {
   "cell_type": "code",
   "execution_count": 9,
   "metadata": {},
   "outputs": [
    {
     "data": {
      "text/html": [
       "<img src=\"data:image/png;base64, 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\" width=\"400\" height=\"400\"/>"
      ],
      "text/plain": [
       "<IPython.core.display.Image object>"
      ]
     },
     "execution_count": 9,
     "metadata": {},
     "output_type": "execute_result"
    }
   ],
   "source": [
    "# Visualize CDL\n",
    "Image(url = pngb64cdl, width = 400, height = 400)"
   ]
  },
  {
   "cell_type": "markdown",
   "metadata": {},
   "source": [
    "### Visualize Cultivated Layer"
   ]
  },
  {
   "cell_type": "code",
   "execution_count": 10,
   "metadata": {},
   "outputs": [
    {
     "data": {
      "text/html": [
       "<style  type=\"text/css\" >\n",
       "    #T_66f31f78_b559_11ea_8f77_e86f38d9ac3arow0_col5 {\n",
       "            background-color:  #f0b747;\n",
       "        }</style><table id=\"T_66f31f78_b559_11ea_8f77_e86f38d9ac3a\" ><thead>    <tr>        <th class=\"blank level0\" ></th>        <th class=\"col_heading level0 col0\" >Acres</th>        <th class=\"col_heading level0 col1\" >Area</th>        <th class=\"col_heading level0 col2\" >Count</th>        <th class=\"col_heading level0 col3\" >CountAllPixels</th>        <th class=\"col_heading level0 col4\" >Cultivated</th>        <th class=\"col_heading level0 col5\" >color</th>    </tr></thead><tbody>\n",
       "                <tr>\n",
       "                        <th id=\"T_66f31f78_b559_11ea_8f77_e86f38d9ac3alevel0_row0\" class=\"row_heading level0 row0\" >0</th>\n",
       "                        <td id=\"T_66f31f78_b559_11ea_8f77_e86f38d9ac3arow0_col0\" class=\"data row0 col0\" >194.014879</td>\n",
       "                        <td id=\"T_66f31f78_b559_11ea_8f77_e86f38d9ac3arow0_col1\" class=\"data row0 col1\" >93.82 %</td>\n",
       "                        <td id=\"T_66f31f78_b559_11ea_8f77_e86f38d9ac3arow0_col2\" class=\"data row0 col2\" >9170.000000</td>\n",
       "                        <td id=\"T_66f31f78_b559_11ea_8f77_e86f38d9ac3arow0_col3\" class=\"data row0 col3\" >9774</td>\n",
       "                        <td id=\"T_66f31f78_b559_11ea_8f77_e86f38d9ac3arow0_col4\" class=\"data row0 col4\" >Yes</td>\n",
       "                        <td id=\"T_66f31f78_b559_11ea_8f77_e86f38d9ac3arow0_col5\" class=\"data row0 col5\" >#f0b747</td>\n",
       "            </tr>\n",
       "    </tbody></table>"
      ],
      "text/plain": [
       "<pandas.io.formats.style.Styler at 0x1e70b2d25c8>"
      ]
     },
     "execution_count": 10,
     "metadata": {},
     "output_type": "execute_result"
    }
   ],
   "source": [
    "# pngb64 for cultivated Layer\n",
    "attributes_cl =CultivatedLayer_response_geojson['CultivatedLayer']['attributes']\n",
    "pngb64cl = attributes_cl['pngb64']\n",
    "\n",
    "#Image Legend\n",
    "df_cl=defaultdict(list)\n",
    "Legend_cl = attributes_cl['Legend']\n",
    "    \n",
    "for val in Legend_cl:\n",
    "    df_cl['Acres'].append(float(val['Acres']))\n",
    "    df_cl['Area'].append(val['Area'])\n",
    "    df_cl['Count'].append(float(val['Count']))\n",
    "    df_cl['CountAllPixels'].append(val['CountAllPixels'])\n",
    "    df_cl['Cultivated'].append(val['Cultivated'])\n",
    "    df_cl['color'].append(val['color'])\n",
    "\n",
    "    \n",
    "legenddf_cl = pd.DataFrame.from_dict(df_cl)    \n",
    "legenddf_cl.style.applymap(lambda x:\"background-color: %s\"%x, subset=['color'])"
   ]
  },
  {
   "cell_type": "code",
   "execution_count": 11,
   "metadata": {},
   "outputs": [
    {
     "data": {
      "text/html": [
       "<img src=\"data:image/png;base64, iVBORw0KGgoAAAANSUhEUgAAAJkAAABuCAYAAAA0y7EbAAAC9UlEQVR4nO3cUW7qMBBG4SHqAnhhTRUrrlhTX7qEPlRBlKbEdvzbY8/5NnCjm9Ox4wAnM7Ovj/dPC+Z8vV16X0MUS+8LwPzCRhZxevcSNjK0Q2SQIzLIERnkiAxyRAY5IoMckUGOyCBHZJAjMsgRGeSIDHJEBjkigxyRQY7IILfwCVGoMckgR2SQIzLIERnkiAxyRAa50JFxfNNG6MjQBpFBjsggd2JfosVPVDHJ0MBb7wtAvhFWn8cJznLZ0NGlc8R7db7eLiyXgxgxMLOf6yayAYwa2IrIIEdkDX19vH+OPpVysSeD1PqgQ2QdRJtmnJMNoMZbg9ZhP14zkwzVPf9REBnkiAxVbS3t7MmCeL75NfZoqXtFJhnkiAxyRAY5IoMckXUS6dSfyCC38EUHqDHJIEdkkOPEP4ieDxr3yLb2ZpGegKCzmP3/Dup8vV14MMBRScvlGhqTbTwe7lnWxp+pNhYPgZkVPF0SGnJxhIEiOcPmVPIPeBnDM/P8uxm515Y9yQisv70vCXsKzCwzMgLzpefX3HIkn/gTWFul/98e71PSnszjhaO90knG0yWSlQ4bIoMckUGOyCC3GxmbfhyV9aHFV08XOTGmPqUovkrPH02eGu+qq30ylhfn86l1T9mTQY7IsKnmyvTrxF+xr+qNPdg+9b28T7Lcm8HNQ6rF7NjLWGLDHvZkkCMyyBEZ5A5HNspTJvqp9lrJK14r9cdyGVyLwZEc2YhTDK+1uqe7y+WIcbEkvtb6nv4b2YhxYV+P+7q5XBLYnHrd16KfKfCO5fKvnoODp8sAeq9MRDa53oGZ8cPE0/IQ12r6yCKc+HsKasv0kc3Ke1iPiGwwI8W1Ch1ZyQ2bcblVC3dOppgELcNjkjmnukERHi6OmH6S9fzLV8U22jSbMjKvake3F5vit0RKhFouZ/M8sb0u07xWmoTXwMyIDA0QGeTYk2FTzSdYJhn+qH1EwiRzqMU5WMuzRM7JGkp5AhztoDUFk8yJGeNafQMXxAds7lPWbwAAAABJRU5ErkJggg==\" width=\"400\" height=\"400\"/>"
      ],
      "text/plain": [
       "<IPython.core.display.Image object>"
      ]
     },
     "execution_count": 11,
     "metadata": {},
     "output_type": "execute_result"
    }
   ],
   "source": [
    "# Visualize cultivated Layer\n",
    "Image(url = pngb64cl, width = 400, height = 400)"
   ]
  },
  {
   "cell_type": "markdown",
   "metadata": {},
   "source": [
    "## GET Request"
   ]
  },
  {
   "cell_type": "code",
   "execution_count": 12,
   "metadata": {},
   "outputs": [
    {
     "name": "stdout",
     "output_type": "stream",
     "text": [
      "{'filename': ['result_raster_cdl_2015_epsg_4326_resolution_0.0001_51189.tif']}\n"
     ]
    }
   ],
   "source": [
    "# Specify local path where file will be downloaded.\n",
    "# local_path = r\"C:\\<Path to download directory>\" # E.g., r\"C:\\Users\\John_Doe\\Documents\\rasters\"\n",
    "local_path = r'C:\\<Path to download directory>'\n",
    "# Create GET request payload.\n",
    "values = {'filename': [cdl_response_geojson['2015']['filename'],]}\n",
    "print(values)"
   ]
  },
  {
   "cell_type": "code",
   "execution_count": 13,
   "metadata": {},
   "outputs": [],
   "source": [
    "# Get CDL file \n",
    "def CDL_get(values, local_path):\n",
    "    try:\n",
    "        url = 'https://agflaskdev.eastus2.cloudapp.azure.com/flask_api/api/v1.0/CDL_Service_API/cdl_rr'\n",
    "    \n",
    "        download_path = os.path.join(local_path, values['filename'][0])\n",
    "        print(values)\n",
    "     \n",
    "        response = requests.get(url, params=values)\n",
    "        open(download_path, 'wb').write(response.content)\n",
    "        \n",
    "        print(response.url)\n",
    "\n",
    "        return response\n",
    "    \n",
    "    except Exception as e:\n",
    "        print(e)\n",
    "        raise e"
   ]
  },
  {
   "cell_type": "code",
   "execution_count": 14,
   "metadata": {},
   "outputs": [
    {
     "name": "stdout",
     "output_type": "stream",
     "text": [
      "{'filename': ['result_raster_cdl_2015_epsg_4326_resolution_0.0001_51189.tif']}\n",
      "https://agflaskdev.eastus2.cloudapp.azure.com/flask_api/api/v1.0/CDL_Service_API/cdl_rr?filename=result_raster_cdl_2015_epsg_4326_resolution_0.0001_51189.tif\n"
     ]
    },
    {
     "data": {
      "text/plain": [
       "<Response [200]>"
      ]
     },
     "execution_count": 14,
     "metadata": {},
     "output_type": "execute_result"
    }
   ],
   "source": [
    "CDL_get(values, local_path)"
   ]
  },
  {
   "cell_type": "code",
   "execution_count": null,
   "metadata": {},
   "outputs": [],
   "source": []
  }
 ],
 "metadata": {
  "kernelspec": {
   "display_name": "Python 3",
   "language": "python",
   "name": "python3"
  },
  "language_info": {
   "codemirror_mode": {
    "name": "ipython",
    "version": 3
   },
   "file_extension": ".py",
   "mimetype": "text/x-python",
   "name": "python",
   "nbconvert_exporter": "python",
   "pygments_lexer": "ipython3",
   "version": "3.7.6"
  }
 },
 "nbformat": 4,
 "nbformat_minor": 2
}
