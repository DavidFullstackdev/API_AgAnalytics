{
 "cells": [
  {
   "cell_type": "markdown",
   "metadata": {},
   "source": [
    "# Ag Analytics-CropDataLayers-Demo"
   ]
  },
  {
   "cell_type": "markdown",
   "metadata": {},
   "source": [
    "Crop Land Data Layers, also known as CDLs, are published by USDA and provide estimates of historical crops cover.\n",
    "\n"
   ]
  },
  {
   "cell_type": "code",
   "execution_count": null,
   "metadata": {},
   "outputs": [],
   "source": [
    "import requests\n",
    "import json\n",
    "import time\n",
    "from pandas.io.json import json_normalize\n",
    "import requests, zipfile, io\n",
    "import geopandas as gpd\n",
    "%matplotlib inline\n",
    "import pandas as pd\n",
    "%autosave 0"
   ]
  },
  {
   "cell_type": "markdown",
   "metadata": {},
   "source": [
    "### API Details\n",
    "\n",
    "####Request URL: https://ag-analytics.azure-api.net/CroplandDataLayers/get[?year][&inputShape][&env:outSR]\n",
    "        \n",
    "        \n",
    "####Request parameters:\n",
    "\n",
    "**year - **\n",
    "Year of desired result.\n",
    "\n",
    "**inputShape - **\n",
    "(ESRI Polygon shape): The shape information for field in esriGeometryPolygon format. Standard open source JavaScript front-end libraries (e.g., Leaflet) can be used to structure the shape\n",
    "\n",
    "env:outSR (optional)\n",
    "Output Spatial Reference. Return features in the specified spatial reference by supplying specific wkid (eg. 4326).\n",
    "\n",
    "In order to get Ocp-Apim-Subscription-Key, please click on this link https://ag-analytics.org/developer/Session/SignInFromPayment\n"
   ]
  },
  {
   "cell_type": "markdown",
   "metadata": {},
   "source": [
    "### Request Parameters"
   ]
  },
  {
   "cell_type": "code",
   "execution_count": null,
   "metadata": {},
   "outputs": [],
   "source": [
    "year=2016\n",
    "inputShape={\"geometryType\":\"esriGeometryPolygon\",\"features\":[{\"geometry\":{\"rings\":[[[-89.045774,43.730605],[-89.04577,43.730488],[-89.045722,43.729998],[-89.045789,43.729653],[-89.045661,43.72961],[-89.045635,43.729782],[-89.045644,43.730045],[-89.045653,43.730308],[-89.045651,43.730607],[-89.041228,43.730676],[-89.041171,43.728908],[-89.041111,43.727076],[-89.042892,43.727044],[-89.044665,43.727018],[-89.046178,43.726999],[-89.046237,43.730597],[-89.045774,43.730605]]],\"spatialReference\":{\"wkid\":4326}}}]}\n",
    "env=4326\n",
    "f=\"json\"\n",
    "headers={'Ocp-Apim-Subscription-Key': 'xxxxxxxxxxxxxxxxxxxxxxxxxxxxxxxxxxx'}"
   ]
  },
  {
   "cell_type": "markdown",
   "metadata": {},
   "source": [
    "###  API Function"
   ]
  },
  {
   "cell_type": "code",
   "execution_count": null,
   "metadata": {},
   "outputs": [],
   "source": [
    "def get_crop_data_layers(year,inputShape,env,headers,f):\n",
    "    try:\n",
    "        url = \"https://ag-analytics.azure-api.net/CroplandDataLayers/get?year={}&inputShape={}&env:outSR={}&f={}\".format(year,inputShape,env,f)\n",
    "     \n",
    "        response = (requests.get(url,headers=headers).text)\n",
    "        print(response)\n",
    "       \n",
    "        response_json = json.loads(response)\n",
    "        time.sleep(0.5)\n",
    "        return response_json\n",
    "    \n",
    "    except Exception as e:\n",
    "        raise e"
   ]
  },
  {
   "cell_type": "markdown",
   "metadata": {},
   "source": [
    "### Calling API Function"
   ]
  },
  {
   "cell_type": "code",
   "execution_count": null,
   "metadata": {},
   "outputs": [],
   "source": [
    "crop_layer=get_crop_data_layers(year,inputShape,env,headers,f)"
   ]
  },
  {
   "cell_type": "markdown",
   "metadata": {},
   "source": [
    "### Displaying Map"
   ]
  },
  {
   "cell_type": "code",
   "execution_count": null,
   "metadata": {},
   "outputs": [],
   "source": [
    "\n",
    "#saving the respons eof api in geojson format\n",
    "\n",
    "file=open('./jsonfiles/cropdatalayers.json','w')\n",
    "file.write(json.dumps(crop_layer['results'][0][\"value\"]))\n",
    "file.close()\n",
    "\n",
    "\n",
    "# Helper functions for creating shapefiles\n",
    "\n",
    "def post_converttogeojson(requestbody):\n",
    "    try:\n",
    "        url = \"https://ogre.adc4gis.com/convert\"\n",
    "     \n",
    "        response = (requests.post(url,files=requestbody).text)\n",
    "        \n",
    "        return response\n",
    "\n",
    "    except Exception as e:\n",
    "        raise e\n",
    "def post_converttoshapefile(requestbody):\n",
    "    try:\n",
    "        url = \"https://ogre.adc4gis.com/convertJson\"\n",
    "     \n",
    "        response = (requests.post(url,data=requestbody))\n",
    "        \n",
    "        z = zipfile.ZipFile(io.BytesIO(response.content))\n",
    "        z.extractall(\"./shapefiles/\")\n",
    "        \n",
    "        time.sleep(0.5)\n",
    "        return response\n",
    "    \n",
    "    except Exception as e:\n",
    "        raise e\n",
    "    "
   ]
  },
  {
   "cell_type": "code",
   "execution_count": null,
   "metadata": {},
   "outputs": [],
   "source": [
    "requestbody={'upload':open('./jsonfiles/cropdatalayers.json','rb')}\n",
    "# Function call to convert json to geojson\n",
    "cropdata_geojson=post_converttogeojson(requestbody)\n",
    "\n",
    "requestbody={'json':cropdata_geojson,'skipFailures':\"on\"}\n",
    "#function call to creatr shapefile from geojson \n",
    "post_converttoshapefile(requestbody)\n",
    "\n",
    "# Reading a shapefile and displaying the map\n",
    "gdf = gpd.read_file('./shapefiles/OGRGeoJSON.shp')\n",
    "\n",
    "\n",
    "grid_code_mappings=pd.read_csv(\"cropnames_gridcodes_mappings.csv\")\n",
    "\n",
    "grid_code_mappings.set_index('Code',inplace=True)\n",
    "\n",
    "\n",
    "gdf['CropName']=gdf['GRIDCODE'].map(grid_code_mappings.to_dict()['CropName'])\n",
    "\n",
    "gdf.plot(column='CropName', cmap=None,figsize=(10, 10),legend=True)\n",
    "gdf.head()\n",
    "\n"
   ]
  }
 ],
 "metadata": {
  "kernelspec": {
   "display_name": "Python 3",
   "language": "python",
   "name": "python3"
  },
  "language_info": {
   "codemirror_mode": {
    "name": "ipython",
    "version": 3
   },
   "file_extension": ".py",
   "mimetype": "text/x-python",
   "name": "python",
   "nbconvert_exporter": "python",
   "pygments_lexer": "ipython3",
   "version": "3.6.6"
  }
 },
 "nbformat": 4,
 "nbformat_minor": 2
}
